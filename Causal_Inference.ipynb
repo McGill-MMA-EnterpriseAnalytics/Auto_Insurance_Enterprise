{
 "cells": [
  {
   "cell_type": "markdown",
   "metadata": {},
   "source": [
    "# Causal Inference"
   ]
  },
  {
   "cell_type": "code",
   "execution_count": 115,
   "metadata": {},
   "outputs": [],
   "source": [
    "#Installing libraries and packages"
   ]
  },
  {
   "cell_type": "code",
   "execution_count": 116,
   "metadata": {},
   "outputs": [
    {
     "name": "stdout",
     "output_type": "stream",
     "text": [
      "Requirement already satisfied: dowhy in c:\\users\\nupur\\anaconda3\\lib\\site-packages (0.5.1)\n",
      "Requirement already satisfied: matplotlib in c:\\users\\nupur\\anaconda3\\lib\\site-packages (from dowhy) (3.3.2)\n",
      "Requirement already satisfied: pandas>=0.24 in c:\\users\\nupur\\anaconda3\\lib\\site-packages (from dowhy) (1.1.3)\n",
      "Requirement already satisfied: scipy in c:\\users\\nupur\\anaconda3\\lib\\site-packages (from dowhy) (1.4.1)Note: you may need to restart the kernel to use updated packages.\n",
      "Requirement already satisfied: networkx>=2.0 in c:\\users\\nupur\\anaconda3\\lib\\site-packages (from dowhy) (2.5)\n",
      "Requirement already satisfied: pydot>=1.4 in c:\\users\\nupur\\anaconda3\\lib\\site-packages (from dowhy) (1.4.1)\n",
      "Requirement already satisfied: statsmodels in c:\\users\\nupur\\anaconda3\\lib\\site-packages (from dowhy) (0.12.0)\n",
      "Requirement already satisfied: sympy>=1.4 in c:\\users\\nupur\\anaconda3\\lib\\site-packages (from dowhy) (1.6.2)\n",
      "Requirement already satisfied: scikit-learn in c:\\users\\nupur\\anaconda3\\lib\\site-packages (from dowhy) (0.23.2)\n",
      "Requirement already satisfied: numpy>=1.15 in c:\\users\\nupur\\anaconda3\\lib\\site-packages (from dowhy) (1.18.5)\n",
      "Requirement already satisfied: kiwisolver>=1.0.1 in c:\\users\\nupur\\anaconda3\\lib\\site-packages (from matplotlib->dowhy) (1.3.0)\n",
      "Requirement already satisfied: cycler>=0.10 in c:\\users\\nupur\\anaconda3\\lib\\site-packages (from matplotlib->dowhy) (0.10.0)\n",
      "Requirement already satisfied: pyparsing!=2.0.4,!=2.1.2,!=2.1.6,>=2.0.3 in c:\\users\\nupur\\anaconda3\\lib\\site-packages (from matplotlib->dowhy) (2.4.7)\n",
      "Requirement already satisfied: python-dateutil>=2.1 in c:\\users\\nupur\\anaconda3\\lib\\site-packages (from matplotlib->dowhy) (2.8.1)\n",
      "Requirement already satisfied: certifi>=2020.06.20 in c:\\users\\nupur\\anaconda3\\lib\\site-packages (from matplotlib->dowhy) (2020.6.20)\n",
      "Requirement already satisfied: pillow>=6.2.0 in c:\\users\\nupur\\anaconda3\\lib\\site-packages (from matplotlib->dowhy) (8.0.1)\n",
      "Requirement already satisfied: pytz>=2017.2 in c:\\users\\nupur\\anaconda3\\lib\\site-packages (from pandas>=0.24->dowhy) (2020.1)\n",
      "Requirement already satisfied: decorator>=4.3.0 in c:\\users\\nupur\\anaconda3\\lib\\site-packages (from networkx>=2.0->dowhy) (4.4.2)\n",
      "\n",
      "Requirement already satisfied: patsy>=0.5 in c:\\users\\nupur\\anaconda3\\lib\\site-packages (from statsmodels->dowhy) (0.5.1)\n",
      "Requirement already satisfied: mpmath>=0.19 in c:\\users\\nupur\\anaconda3\\lib\\site-packages (from sympy>=1.4->dowhy) (1.1.0)\n",
      "Requirement already satisfied: joblib>=0.11 in c:\\users\\nupur\\anaconda3\\lib\\site-packages (from scikit-learn->dowhy) (0.17.0)\n",
      "Requirement already satisfied: threadpoolctl>=2.0.0 in c:\\users\\nupur\\anaconda3\\lib\\site-packages (from scikit-learn->dowhy) (2.1.0)\n",
      "Requirement already satisfied: six in c:\\users\\nupur\\anaconda3\\lib\\site-packages (from cycler>=0.10->matplotlib->dowhy) (1.15.0)\n"
     ]
    }
   ],
   "source": [
    "pip install dowhy"
   ]
  },
  {
   "cell_type": "code",
   "execution_count": 117,
   "metadata": {},
   "outputs": [
    {
     "name": "stdout",
     "output_type": "stream",
     "text": [
      "Collecting package metadata (current_repodata.json): ...working... done\n",
      "Note: you may need to restart the kernel to use updated packages.\n",
      "\n",
      "Solving environment: ...working... done\n",
      "\n",
      "# All requested packages already installed.\n",
      "\n"
     ]
    }
   ],
   "source": [
    "conda install -c conda-forge dowhy"
   ]
  },
  {
   "cell_type": "code",
   "execution_count": 118,
   "metadata": {},
   "outputs": [
    {
     "name": "stdout",
     "output_type": "stream",
     "text": [
      "Requirement already satisfied: graphviz in c:\\users\\nupur\\anaconda3\\lib\\site-packages (0.16)\n",
      "Note: you may need to restart the kernel to use updated packages.\n"
     ]
    }
   ],
   "source": [
    "pip install graphviz"
   ]
  },
  {
   "cell_type": "code",
   "execution_count": 119,
   "metadata": {},
   "outputs": [],
   "source": [
    "import dowhy\n",
    "from dowhy import CausalModel\n",
    "import dowhy.datasets, dowhy.plotter\n",
    "import dowhy.api\n",
    "import numpy as np\n",
    "import pandas as pd\n",
    "import matplotlib.pyplot as plt\n",
    "import math"
   ]
  },
  {
   "cell_type": "code",
   "execution_count": 120,
   "metadata": {},
   "outputs": [],
   "source": [
    "clv = pd.read_csv(r\"C:\\Users\\Nupur\\OneDrive - McGill University\\Desktop\\McGill Notes\\INSY695075\\WA_Fn-UseC_-Marketing-Customer-Value-Analysis.csv\")"
   ]
  },
  {
   "cell_type": "code",
   "execution_count": 121,
   "metadata": {},
   "outputs": [],
   "source": [
    "clv_clean = clv.drop(columns=[\"Customer\",\"Effective To Date\",\"Policy Type\"])"
   ]
  },
  {
   "cell_type": "code",
   "execution_count": 122,
   "metadata": {},
   "outputs": [
    {
     "data": {
      "text/html": [
       "<div>\n",
       "<style scoped>\n",
       "    .dataframe tbody tr th:only-of-type {\n",
       "        vertical-align: middle;\n",
       "    }\n",
       "\n",
       "    .dataframe tbody tr th {\n",
       "        vertical-align: top;\n",
       "    }\n",
       "\n",
       "    .dataframe thead th {\n",
       "        text-align: right;\n",
       "    }\n",
       "</style>\n",
       "<table border=\"1\" class=\"dataframe\">\n",
       "  <thead>\n",
       "    <tr style=\"text-align: right;\">\n",
       "      <th></th>\n",
       "      <th>State</th>\n",
       "      <th>Customer Lifetime Value</th>\n",
       "      <th>Response</th>\n",
       "      <th>Coverage</th>\n",
       "      <th>Education</th>\n",
       "      <th>EmploymentStatus</th>\n",
       "      <th>Gender</th>\n",
       "      <th>Income</th>\n",
       "      <th>Location Code</th>\n",
       "      <th>Marital Status</th>\n",
       "      <th>...</th>\n",
       "      <th>Months Since Last Claim</th>\n",
       "      <th>Months Since Policy Inception</th>\n",
       "      <th>Number of Open Complaints</th>\n",
       "      <th>Number of Policies</th>\n",
       "      <th>Policy</th>\n",
       "      <th>Renew Offer Type</th>\n",
       "      <th>Sales Channel</th>\n",
       "      <th>Total Claim Amount</th>\n",
       "      <th>Vehicle Class</th>\n",
       "      <th>Vehicle Size</th>\n",
       "    </tr>\n",
       "  </thead>\n",
       "  <tbody>\n",
       "    <tr>\n",
       "      <th>0</th>\n",
       "      <td>Washington</td>\n",
       "      <td>2763.519279</td>\n",
       "      <td>No</td>\n",
       "      <td>Basic</td>\n",
       "      <td>Bachelor</td>\n",
       "      <td>Employed</td>\n",
       "      <td>F</td>\n",
       "      <td>56274</td>\n",
       "      <td>Suburban</td>\n",
       "      <td>Married</td>\n",
       "      <td>...</td>\n",
       "      <td>32</td>\n",
       "      <td>5</td>\n",
       "      <td>0</td>\n",
       "      <td>1</td>\n",
       "      <td>Corporate L3</td>\n",
       "      <td>Offer1</td>\n",
       "      <td>Agent</td>\n",
       "      <td>384.811147</td>\n",
       "      <td>Two-Door Car</td>\n",
       "      <td>Medsize</td>\n",
       "    </tr>\n",
       "    <tr>\n",
       "      <th>1</th>\n",
       "      <td>Arizona</td>\n",
       "      <td>6979.535903</td>\n",
       "      <td>No</td>\n",
       "      <td>Extended</td>\n",
       "      <td>Bachelor</td>\n",
       "      <td>Unemployed</td>\n",
       "      <td>F</td>\n",
       "      <td>0</td>\n",
       "      <td>Suburban</td>\n",
       "      <td>Single</td>\n",
       "      <td>...</td>\n",
       "      <td>13</td>\n",
       "      <td>42</td>\n",
       "      <td>0</td>\n",
       "      <td>8</td>\n",
       "      <td>Personal L3</td>\n",
       "      <td>Offer3</td>\n",
       "      <td>Agent</td>\n",
       "      <td>1131.464935</td>\n",
       "      <td>Four-Door Car</td>\n",
       "      <td>Medsize</td>\n",
       "    </tr>\n",
       "    <tr>\n",
       "      <th>2</th>\n",
       "      <td>Nevada</td>\n",
       "      <td>12887.431650</td>\n",
       "      <td>No</td>\n",
       "      <td>Premium</td>\n",
       "      <td>Bachelor</td>\n",
       "      <td>Employed</td>\n",
       "      <td>F</td>\n",
       "      <td>48767</td>\n",
       "      <td>Suburban</td>\n",
       "      <td>Married</td>\n",
       "      <td>...</td>\n",
       "      <td>18</td>\n",
       "      <td>38</td>\n",
       "      <td>0</td>\n",
       "      <td>2</td>\n",
       "      <td>Personal L3</td>\n",
       "      <td>Offer1</td>\n",
       "      <td>Agent</td>\n",
       "      <td>566.472247</td>\n",
       "      <td>Two-Door Car</td>\n",
       "      <td>Medsize</td>\n",
       "    </tr>\n",
       "    <tr>\n",
       "      <th>3</th>\n",
       "      <td>California</td>\n",
       "      <td>7645.861827</td>\n",
       "      <td>No</td>\n",
       "      <td>Basic</td>\n",
       "      <td>Bachelor</td>\n",
       "      <td>Unemployed</td>\n",
       "      <td>M</td>\n",
       "      <td>0</td>\n",
       "      <td>Suburban</td>\n",
       "      <td>Married</td>\n",
       "      <td>...</td>\n",
       "      <td>18</td>\n",
       "      <td>65</td>\n",
       "      <td>0</td>\n",
       "      <td>7</td>\n",
       "      <td>Corporate L2</td>\n",
       "      <td>Offer1</td>\n",
       "      <td>Call Center</td>\n",
       "      <td>529.881344</td>\n",
       "      <td>SUV</td>\n",
       "      <td>Medsize</td>\n",
       "    </tr>\n",
       "    <tr>\n",
       "      <th>4</th>\n",
       "      <td>Washington</td>\n",
       "      <td>2813.692575</td>\n",
       "      <td>No</td>\n",
       "      <td>Basic</td>\n",
       "      <td>Bachelor</td>\n",
       "      <td>Employed</td>\n",
       "      <td>M</td>\n",
       "      <td>43836</td>\n",
       "      <td>Rural</td>\n",
       "      <td>Single</td>\n",
       "      <td>...</td>\n",
       "      <td>12</td>\n",
       "      <td>44</td>\n",
       "      <td>0</td>\n",
       "      <td>1</td>\n",
       "      <td>Personal L1</td>\n",
       "      <td>Offer1</td>\n",
       "      <td>Agent</td>\n",
       "      <td>138.130879</td>\n",
       "      <td>Four-Door Car</td>\n",
       "      <td>Medsize</td>\n",
       "    </tr>\n",
       "  </tbody>\n",
       "</table>\n",
       "<p>5 rows × 21 columns</p>\n",
       "</div>"
      ],
      "text/plain": [
       "        State  Customer Lifetime Value Response  Coverage Education  \\\n",
       "0  Washington              2763.519279       No     Basic  Bachelor   \n",
       "1     Arizona              6979.535903       No  Extended  Bachelor   \n",
       "2      Nevada             12887.431650       No   Premium  Bachelor   \n",
       "3  California              7645.861827       No     Basic  Bachelor   \n",
       "4  Washington              2813.692575       No     Basic  Bachelor   \n",
       "\n",
       "  EmploymentStatus Gender  Income Location Code Marital Status  ...  \\\n",
       "0         Employed      F   56274      Suburban        Married  ...   \n",
       "1       Unemployed      F       0      Suburban         Single  ...   \n",
       "2         Employed      F   48767      Suburban        Married  ...   \n",
       "3       Unemployed      M       0      Suburban        Married  ...   \n",
       "4         Employed      M   43836         Rural         Single  ...   \n",
       "\n",
       "   Months Since Last Claim  Months Since Policy Inception  \\\n",
       "0                       32                              5   \n",
       "1                       13                             42   \n",
       "2                       18                             38   \n",
       "3                       18                             65   \n",
       "4                       12                             44   \n",
       "\n",
       "   Number of Open Complaints  Number of Policies        Policy  \\\n",
       "0                          0                   1  Corporate L3   \n",
       "1                          0                   8   Personal L3   \n",
       "2                          0                   2   Personal L3   \n",
       "3                          0                   7  Corporate L2   \n",
       "4                          0                   1   Personal L1   \n",
       "\n",
       "  Renew Offer Type Sales Channel Total Claim Amount  Vehicle Class  \\\n",
       "0           Offer1         Agent         384.811147   Two-Door Car   \n",
       "1           Offer3         Agent        1131.464935  Four-Door Car   \n",
       "2           Offer1         Agent         566.472247   Two-Door Car   \n",
       "3           Offer1   Call Center         529.881344            SUV   \n",
       "4           Offer1         Agent         138.130879  Four-Door Car   \n",
       "\n",
       "  Vehicle Size  \n",
       "0      Medsize  \n",
       "1      Medsize  \n",
       "2      Medsize  \n",
       "3      Medsize  \n",
       "4      Medsize  \n",
       "\n",
       "[5 rows x 21 columns]"
      ]
     },
     "execution_count": 122,
     "metadata": {},
     "output_type": "execute_result"
    }
   ],
   "source": [
    "clv_clean.head()"
   ]
  },
  {
   "cell_type": "code",
   "execution_count": 123,
   "metadata": {},
   "outputs": [
    {
     "data": {
      "text/plain": [
       "Customer             9134\n",
       "State                   5\n",
       "Response                2\n",
       "Coverage                3\n",
       "Education               5\n",
       "Effective To Date      59\n",
       "EmploymentStatus        5\n",
       "Gender                  2\n",
       "Location Code           3\n",
       "Marital Status          3\n",
       "Policy Type             3\n",
       "Policy                  9\n",
       "Renew Offer Type        4\n",
       "Sales Channel           4\n",
       "Vehicle Class           6\n",
       "Vehicle Size            3\n",
       "dtype: int64"
      ]
     },
     "execution_count": 123,
     "metadata": {},
     "output_type": "execute_result"
    }
   ],
   "source": [
    "clv.select_dtypes('object').apply(pd.Series.nunique, axis=0)"
   ]
  },
  {
   "cell_type": "code",
   "execution_count": 124,
   "metadata": {},
   "outputs": [],
   "source": [
    "#Splitting Features into binary and remaining categorical\n",
    "\n",
    "binary_feature = clv_clean.nunique()[clv_clean.nunique() == 2].keys().tolist()"
   ]
  },
  {
   "cell_type": "code",
   "execution_count": 125,
   "metadata": {},
   "outputs": [],
   "source": [
    "categorical_feature = [col for col in clv_clean.select_dtypes('object').columns.to_list() if col not in binary_feature]"
   ]
  },
  {
   "cell_type": "code",
   "execution_count": 126,
   "metadata": {},
   "outputs": [
    {
     "data": {
      "text/plain": [
       "['State',\n",
       " 'Coverage',\n",
       " 'Education',\n",
       " 'EmploymentStatus',\n",
       " 'Location Code',\n",
       " 'Marital Status',\n",
       " 'Policy',\n",
       " 'Renew Offer Type',\n",
       " 'Sales Channel',\n",
       " 'Vehicle Class',\n",
       " 'Vehicle Size']"
      ]
     },
     "execution_count": 126,
     "metadata": {},
     "output_type": "execute_result"
    }
   ],
   "source": [
    "categorical_feature"
   ]
  },
  {
   "cell_type": "code",
   "execution_count": 127,
   "metadata": {},
   "outputs": [],
   "source": [
    "# Feature Engineering  - dummyfying the binary and categorical variables\n",
    "from sklearn.preprocessing import LabelEncoder\n",
    "le = LabelEncoder()\n",
    "for i in binary_feature:\n",
    "    clv_clean[i] = le.fit_transform(clv_clean[i])"
   ]
  },
  {
   "cell_type": "code",
   "execution_count": 128,
   "metadata": {},
   "outputs": [
    {
     "data": {
      "text/plain": [
       "Index(['State', 'Customer Lifetime Value', 'Response', 'Coverage', 'Education',\n",
       "       'EmploymentStatus', 'Gender', 'Income', 'Location Code',\n",
       "       'Marital Status', 'Monthly Premium Auto', 'Months Since Last Claim',\n",
       "       'Months Since Policy Inception', 'Number of Open Complaints',\n",
       "       'Number of Policies', 'Policy', 'Renew Offer Type', 'Sales Channel',\n",
       "       'Total Claim Amount', 'Vehicle Class', 'Vehicle Size'],\n",
       "      dtype='object')"
      ]
     },
     "execution_count": 128,
     "metadata": {},
     "output_type": "execute_result"
    }
   ],
   "source": [
    "clv_clean.columns"
   ]
  },
  {
   "cell_type": "code",
   "execution_count": 131,
   "metadata": {},
   "outputs": [
    {
     "data": {
      "text/html": [
       "<div>\n",
       "<style scoped>\n",
       "    .dataframe tbody tr th:only-of-type {\n",
       "        vertical-align: middle;\n",
       "    }\n",
       "\n",
       "    .dataframe tbody tr th {\n",
       "        vertical-align: top;\n",
       "    }\n",
       "\n",
       "    .dataframe thead th {\n",
       "        text-align: right;\n",
       "    }\n",
       "</style>\n",
       "<table border=\"1\" class=\"dataframe\">\n",
       "  <thead>\n",
       "    <tr style=\"text-align: right;\">\n",
       "      <th></th>\n",
       "      <th>State</th>\n",
       "      <th>Customer Lifetime Value</th>\n",
       "      <th>Response</th>\n",
       "      <th>Coverage</th>\n",
       "      <th>Education</th>\n",
       "      <th>EmploymentStatus</th>\n",
       "      <th>Gender</th>\n",
       "      <th>Income</th>\n",
       "      <th>Location Code</th>\n",
       "      <th>Marital Status</th>\n",
       "      <th>...</th>\n",
       "      <th>Months Since Last Claim</th>\n",
       "      <th>Months Since Policy Inception</th>\n",
       "      <th>Number of Open Complaints</th>\n",
       "      <th>Number of Policies</th>\n",
       "      <th>Policy</th>\n",
       "      <th>Renew Offer Type</th>\n",
       "      <th>Sales Channel</th>\n",
       "      <th>Total Claim Amount</th>\n",
       "      <th>Vehicle Class</th>\n",
       "      <th>Vehicle Size</th>\n",
       "    </tr>\n",
       "  </thead>\n",
       "  <tbody>\n",
       "    <tr>\n",
       "      <th>0</th>\n",
       "      <td>Washington</td>\n",
       "      <td>2763.519279</td>\n",
       "      <td>0</td>\n",
       "      <td>Basic</td>\n",
       "      <td>Bachelor</td>\n",
       "      <td>Employed</td>\n",
       "      <td>False</td>\n",
       "      <td>56274</td>\n",
       "      <td>Suburban</td>\n",
       "      <td>Married</td>\n",
       "      <td>...</td>\n",
       "      <td>32</td>\n",
       "      <td>5</td>\n",
       "      <td>0</td>\n",
       "      <td>1</td>\n",
       "      <td>Corporate L3</td>\n",
       "      <td>Offer1</td>\n",
       "      <td>Agent</td>\n",
       "      <td>384.811147</td>\n",
       "      <td>Two-Door Car</td>\n",
       "      <td>Medsize</td>\n",
       "    </tr>\n",
       "    <tr>\n",
       "      <th>1</th>\n",
       "      <td>Arizona</td>\n",
       "      <td>6979.535903</td>\n",
       "      <td>0</td>\n",
       "      <td>Extended</td>\n",
       "      <td>Bachelor</td>\n",
       "      <td>Unemployed</td>\n",
       "      <td>False</td>\n",
       "      <td>0</td>\n",
       "      <td>Suburban</td>\n",
       "      <td>Single</td>\n",
       "      <td>...</td>\n",
       "      <td>13</td>\n",
       "      <td>42</td>\n",
       "      <td>0</td>\n",
       "      <td>8</td>\n",
       "      <td>Personal L3</td>\n",
       "      <td>Offer3</td>\n",
       "      <td>Agent</td>\n",
       "      <td>1131.464935</td>\n",
       "      <td>Four-Door Car</td>\n",
       "      <td>Medsize</td>\n",
       "    </tr>\n",
       "    <tr>\n",
       "      <th>2</th>\n",
       "      <td>Nevada</td>\n",
       "      <td>12887.431650</td>\n",
       "      <td>0</td>\n",
       "      <td>Premium</td>\n",
       "      <td>Bachelor</td>\n",
       "      <td>Employed</td>\n",
       "      <td>False</td>\n",
       "      <td>48767</td>\n",
       "      <td>Suburban</td>\n",
       "      <td>Married</td>\n",
       "      <td>...</td>\n",
       "      <td>18</td>\n",
       "      <td>38</td>\n",
       "      <td>0</td>\n",
       "      <td>2</td>\n",
       "      <td>Personal L3</td>\n",
       "      <td>Offer1</td>\n",
       "      <td>Agent</td>\n",
       "      <td>566.472247</td>\n",
       "      <td>Two-Door Car</td>\n",
       "      <td>Medsize</td>\n",
       "    </tr>\n",
       "    <tr>\n",
       "      <th>3</th>\n",
       "      <td>California</td>\n",
       "      <td>7645.861827</td>\n",
       "      <td>0</td>\n",
       "      <td>Basic</td>\n",
       "      <td>Bachelor</td>\n",
       "      <td>Unemployed</td>\n",
       "      <td>True</td>\n",
       "      <td>0</td>\n",
       "      <td>Suburban</td>\n",
       "      <td>Married</td>\n",
       "      <td>...</td>\n",
       "      <td>18</td>\n",
       "      <td>65</td>\n",
       "      <td>0</td>\n",
       "      <td>7</td>\n",
       "      <td>Corporate L2</td>\n",
       "      <td>Offer1</td>\n",
       "      <td>Call Center</td>\n",
       "      <td>529.881344</td>\n",
       "      <td>SUV</td>\n",
       "      <td>Medsize</td>\n",
       "    </tr>\n",
       "    <tr>\n",
       "      <th>4</th>\n",
       "      <td>Washington</td>\n",
       "      <td>2813.692575</td>\n",
       "      <td>0</td>\n",
       "      <td>Basic</td>\n",
       "      <td>Bachelor</td>\n",
       "      <td>Employed</td>\n",
       "      <td>True</td>\n",
       "      <td>43836</td>\n",
       "      <td>Rural</td>\n",
       "      <td>Single</td>\n",
       "      <td>...</td>\n",
       "      <td>12</td>\n",
       "      <td>44</td>\n",
       "      <td>0</td>\n",
       "      <td>1</td>\n",
       "      <td>Personal L1</td>\n",
       "      <td>Offer1</td>\n",
       "      <td>Agent</td>\n",
       "      <td>138.130879</td>\n",
       "      <td>Four-Door Car</td>\n",
       "      <td>Medsize</td>\n",
       "    </tr>\n",
       "  </tbody>\n",
       "</table>\n",
       "<p>5 rows × 21 columns</p>\n",
       "</div>"
      ],
      "text/plain": [
       "        State  Customer Lifetime Value  Response  Coverage Education  \\\n",
       "0  Washington              2763.519279         0     Basic  Bachelor   \n",
       "1     Arizona              6979.535903         0  Extended  Bachelor   \n",
       "2      Nevada             12887.431650         0   Premium  Bachelor   \n",
       "3  California              7645.861827         0     Basic  Bachelor   \n",
       "4  Washington              2813.692575         0     Basic  Bachelor   \n",
       "\n",
       "  EmploymentStatus  Gender  Income Location Code Marital Status  ...  \\\n",
       "0         Employed   False   56274      Suburban        Married  ...   \n",
       "1       Unemployed   False       0      Suburban         Single  ...   \n",
       "2         Employed   False   48767      Suburban        Married  ...   \n",
       "3       Unemployed    True       0      Suburban        Married  ...   \n",
       "4         Employed    True   43836         Rural         Single  ...   \n",
       "\n",
       "   Months Since Last Claim  Months Since Policy Inception  \\\n",
       "0                       32                              5   \n",
       "1                       13                             42   \n",
       "2                       18                             38   \n",
       "3                       18                             65   \n",
       "4                       12                             44   \n",
       "\n",
       "   Number of Open Complaints  Number of Policies        Policy  \\\n",
       "0                          0                   1  Corporate L3   \n",
       "1                          0                   8   Personal L3   \n",
       "2                          0                   2   Personal L3   \n",
       "3                          0                   7  Corporate L2   \n",
       "4                          0                   1   Personal L1   \n",
       "\n",
       "  Renew Offer Type Sales Channel Total Claim Amount  Vehicle Class  \\\n",
       "0           Offer1         Agent         384.811147   Two-Door Car   \n",
       "1           Offer3         Agent        1131.464935  Four-Door Car   \n",
       "2           Offer1         Agent         566.472247   Two-Door Car   \n",
       "3           Offer1   Call Center         529.881344            SUV   \n",
       "4           Offer1         Agent         138.130879  Four-Door Car   \n",
       "\n",
       "  Vehicle Size  \n",
       "0      Medsize  \n",
       "1      Medsize  \n",
       "2      Medsize  \n",
       "3      Medsize  \n",
       "4      Medsize  \n",
       "\n",
       "[5 rows x 21 columns]"
      ]
     },
     "execution_count": 131,
     "metadata": {},
     "output_type": "execute_result"
    }
   ],
   "source": [
    "clv_clean.head()"
   ]
  },
  {
   "cell_type": "markdown",
   "metadata": {},
   "source": [
    "**Creating Causal Models with Treatment and control features and target variable**"
   ]
  },
  {
   "cell_type": "markdown",
   "metadata": {},
   "source": [
    "**Treatment - Gender**"
   ]
  },
  {
   "cell_type": "code",
   "execution_count": 135,
   "metadata": {},
   "outputs": [],
   "source": [
    "clv_clean['Gender'] = clv_clean['Gender'].apply(bool)\n",
    "clv_clean['Response'] = clv_clean['Response'].apply(bool)"
   ]
  },
  {
   "cell_type": "code",
   "execution_count": 153,
   "metadata": {},
   "outputs": [
    {
     "data": {
      "text/plain": [
       "State                             object\n",
       "Customer Lifetime Value          float64\n",
       "Response                            bool\n",
       "Coverage                          object\n",
       "Education                         object\n",
       "EmploymentStatus                  object\n",
       "Gender                              bool\n",
       "Income                             int64\n",
       "Location Code                     object\n",
       "Marital Status                    object\n",
       "Monthly Premium Auto               int64\n",
       "Months Since Last Claim            int64\n",
       "Months Since Policy Inception      int64\n",
       "Number of Open Complaints          int64\n",
       "Number of Policies                 int64\n",
       "Policy                            object\n",
       "Renew Offer Type                  object\n",
       "Sales Channel                     object\n",
       "Total Claim Amount               float64\n",
       "Vehicle Class                     object\n",
       "Vehicle Size                      object\n",
       "propensity_score                 float64\n",
       "strata                           float64\n",
       "dbar                               int32\n",
       "d_y                                 bool\n",
       "dbar_y                             int32\n",
       "dtype: object"
      ]
     },
     "execution_count": 153,
     "metadata": {},
     "output_type": "execute_result"
    }
   ],
   "source": [
    "clv_clean.dtypes"
   ]
  },
  {
   "cell_type": "code",
   "execution_count": 140,
   "metadata": {},
   "outputs": [
    {
     "name": "stderr",
     "output_type": "stream",
     "text": [
      "WARNING:dowhy.causal_model:Causal Graph not provided. DoWhy will construct a graph based on data inputs.\n",
      "INFO:dowhy.causal_graph:If this is observed data (not from a randomized experiment), there might always be missing confounders. Adding a node named \"Unobserved Confounders\" to reflect this.\n",
      "INFO:dowhy.causal_model:Model to find the causal effect of treatment ['Gender'] on outcome ['Response']\n",
      "WARNING:dowhy.causal_graph:Warning: Pygraphviz cannot be loaded. Check that graphviz and pygraphviz are installed.\n",
      "INFO:dowhy.causal_graph:Using Matplotlib for plotting\n"
     ]
    },
    {
     "data": {
      "image/png": "[encoded data removed]",
      "text/plain": [
       "<Figure size 432x288 with 1 Axes>"
      ]
     },
     "metadata": {},
     "output_type": "display_data"
    }
   ],
   "source": [
    "model1= CausalModel(\n",
    "        data=clv_clean,\n",
    "        treatment='Gender',\n",
    "        outcome=\"Response\",\n",
    "        common_causes=['Income','Monthly Premium Auto','Number of Open Complaints','Total Claim Amount','Coverage','EmploymentStatus',\n",
    "                      'Renew Offer Type','Vehicle Size','Number of Policies'])\n",
    "model1.view_model()"
   ]
  },
  {
   "cell_type": "code",
   "execution_count": 141,
   "metadata": {},
   "outputs": [
    {
     "name": "stderr",
     "output_type": "stream",
     "text": [
      "WARNING:dowhy.causal_identifier:If this is observed data (not from a randomized experiment), there might always be missing confounders. Causal effect cannot be identified perfectly.\n",
      "INFO:dowhy.causal_identifier:Continuing by ignoring these unobserved confounders because proceed_when_unidentifiable flag is True.\n",
      "INFO:dowhy.causal_identifier:Instrumental variables for treatment and outcome:[]\n",
      "INFO:dowhy.causal_identifier:Frontdoor variables for treatment and outcome:[]\n"
     ]
    },
    {
     "name": "stdout",
     "output_type": "stream",
     "text": [
      "Estimand type: nonparametric-ate\n",
      "\n",
      "### Estimand : 1\n",
      "Estimand name: backdoor1 (Default)\n",
      "Estimand expression:\n",
      "    d                                                                         \n",
      "─────────(Expectation(Response|Monthly Premium Auto,Income,Number of Open Comp\n",
      "d[Gender]                                                                     \n",
      "\n",
      "                                                                              \n",
      "laints,EmploymentStatus,Vehicle Size,Coverage,Renew Offer Type,Total Claim Amo\n",
      "                                                                              \n",
      "\n",
      "     \n",
      "unt))\n",
      "     \n",
      "Estimand assumption 1, Unconfoundedness: If U→{Gender} and U→Response then P(Response|Gender,Monthly Premium Auto,Income,Number of Open Complaints,EmploymentStatus,Vehicle Size,Coverage,Renew Offer Type,Total Claim Amount,U) = P(Response|Gender,Monthly Premium Auto,Income,Number of Open Complaints,EmploymentStatus,Vehicle Size,Coverage,Renew Offer Type,Total Claim Amount)\n",
      "\n",
      "### Estimand : 2\n",
      "Estimand name: iv\n",
      "No such variable found!\n",
      "\n",
      "### Estimand : 3\n",
      "Estimand name: frontdoor\n",
      "No such variable found!\n",
      "\n"
     ]
    }
   ],
   "source": [
    "identified_estimand1 = model1.identify_effect(proceed_when_unidentifiable=True)\n",
    "print(identified_estimand1)"
   ]
  },
  {
   "cell_type": "code",
   "execution_count": 142,
   "metadata": {},
   "outputs": [
    {
     "name": "stderr",
     "output_type": "stream",
     "text": [
      "INFO:dowhy.causal_estimator:INFO: Using Propensity Score Stratification Estimator\n",
      "INFO:dowhy.causal_estimator:b: Response~Gender+Monthly Premium Auto+Income+Number of Open Complaints+EmploymentStatus+Vehicle Size+Coverage+Renew Offer Type+Total Claim Amount\n",
      "C:\\Users\\Nupur\\anaconda3\\lib\\site-packages\\sklearn\\utils\\validation.py:72: DataConversionWarning: A column-vector y was passed when a 1d array was expected. Please change the shape of y to (n_samples, ), for example using ravel().\n",
      "  return f(**kwargs)\n",
      "C:\\Users\\Nupur\\anaconda3\\lib\\site-packages\\pandas\\core\\computation\\expressions.py:203: UserWarning: evaluating in Python space because the '*' operator is not supported by numexpr for the bool dtype, use '&' instead\n",
      "  warnings.warn(\n"
     ]
    },
    {
     "name": "stdout",
     "output_type": "stream",
     "text": [
      "*** Causal Estimate ***\n",
      "\n",
      "## Identified estimand\n",
      "Estimand type: nonparametric-ate\n",
      "\n",
      "## Realized estimand\n",
      "b: Response~Gender+Monthly Premium Auto+Income+Number of Open Complaints+EmploymentStatus+Vehicle Size+Coverage+Renew Offer Type+Total Claim Amount\n",
      "Target units: ate\n",
      "\n",
      "## Estimate\n",
      "Mean value: 0.0020789485370343933\n",
      "\n",
      "Causal Estimate is 0.0020789485370343933\n"
     ]
    }
   ],
   "source": [
    "causal_estimate1 = model1.estimate_effect(identified_estimand1,\n",
    "        method_name=\"backdoor.propensity_score_stratification\")\n",
    "print(causal_estimate1)\n",
    "print(\"Causal Estimate is \" + str(causal_estimate1.value))"
   ]
  },
  {
   "cell_type": "markdown",
   "metadata": {},
   "source": [
    "**Treatment - Income**"
   ]
  },
  {
   "cell_type": "code",
   "execution_count": 150,
   "metadata": {},
   "outputs": [
    {
     "name": "stderr",
     "output_type": "stream",
     "text": [
      "WARNING:dowhy.causal_model:Causal Graph not provided. DoWhy will construct a graph based on data inputs.\n",
      "INFO:dowhy.causal_graph:If this is observed data (not from a randomized experiment), there might always be missing confounders. Adding a node named \"Unobserved Confounders\" to reflect this.\n",
      "INFO:dowhy.causal_model:Model to find the causal effect of treatment ['Income'] on outcome ['Response']\n",
      "WARNING:dowhy.causal_graph:Warning: Pygraphviz cannot be loaded. Check that graphviz and pygraphviz are installed.\n",
      "INFO:dowhy.causal_graph:Using Matplotlib for plotting\n"
     ]
    },
    {
     "data": {
      "image/png": "[encoded data removed]",
      "text/plain": [
       "<Figure size 432x288 with 1 Axes>"
      ]
     },
     "metadata": {},
     "output_type": "display_data"
    }
   ],
   "source": [
    "model2= CausalModel(\n",
    "        data=clv_clean,\n",
    "        treatment='Income',\n",
    "        outcome=\"Response\",\n",
    "        common_causes=['Renew Offer Type','Monthly Premium Auto','Number of Open Complaints','Total Claim Amount','Coverage','EmploymentStatus',\n",
    "                      'Gender','Vehicle Size','Number of Policies'])\n",
    "model2.view_model()"
   ]
  },
  {
   "cell_type": "code",
   "execution_count": 151,
   "metadata": {},
   "outputs": [
    {
     "name": "stderr",
     "output_type": "stream",
     "text": [
      "WARNING:dowhy.causal_identifier:If this is observed data (not from a randomized experiment), there might always be missing confounders. Causal effect cannot be identified perfectly.\n",
      "INFO:dowhy.causal_identifier:Continuing by ignoring these unobserved confounders because proceed_when_unidentifiable flag is True.\n",
      "INFO:dowhy.causal_identifier:Instrumental variables for treatment and outcome:[]\n",
      "INFO:dowhy.causal_identifier:Frontdoor variables for treatment and outcome:[]\n"
     ]
    },
    {
     "name": "stdout",
     "output_type": "stream",
     "text": [
      "Estimand type: nonparametric-ate\n",
      "\n",
      "### Estimand : 1\n",
      "Estimand name: backdoor1 (Default)\n",
      "Estimand expression:\n",
      "    d                                                                         \n",
      "─────────(Expectation(Response|Monthly Premium Auto,Number of Open Complaints,\n",
      "d[Income]                                                                     \n",
      "\n",
      "                                                                              \n",
      "EmploymentStatus,Vehicle Size,Gender,Coverage,Renew Offer Type,Total Claim Amo\n",
      "                                                                              \n",
      "\n",
      "     \n",
      "unt))\n",
      "     \n",
      "Estimand assumption 1, Unconfoundedness: If U→{Income} and U→Response then P(Response|Income,Monthly Premium Auto,Number of Open Complaints,EmploymentStatus,Vehicle Size,Gender,Coverage,Renew Offer Type,Total Claim Amount,U) = P(Response|Income,Monthly Premium Auto,Number of Open Complaints,EmploymentStatus,Vehicle Size,Gender,Coverage,Renew Offer Type,Total Claim Amount)\n",
      "\n",
      "### Estimand : 2\n",
      "Estimand name: iv\n",
      "No such variable found!\n",
      "\n",
      "### Estimand : 3\n",
      "Estimand name: frontdoor\n",
      "No such variable found!\n",
      "\n"
     ]
    }
   ],
   "source": [
    "identified_estimand2 = model2.identify_effect(proceed_when_unidentifiable=True)\n",
    "print(identified_estimand2)"
   ]
  },
  {
   "cell_type": "code",
   "execution_count": 152,
   "metadata": {},
   "outputs": [
    {
     "name": "stderr",
     "output_type": "stream",
     "text": [
      "INFO:dowhy.causal_estimator:b: Response~Income+Monthly Premium Auto+Number of Open Complaints+EmploymentStatus+Vehicle Size+Gender+Coverage+Renew Offer Type+Total Claim Amount\n",
      "INFO:dowhy.causal_estimator:INFO: Using Linear Regression Estimator\n"
     ]
    },
    {
     "name": "stdout",
     "output_type": "stream",
     "text": [
      "*** Causal Estimate ***\n",
      "\n",
      "## Identified estimand\n",
      "Estimand type: nonparametric-ate\n",
      "\n",
      "## Realized estimand\n",
      "b: Response~Income+Monthly Premium Auto+Number of Open Complaints+EmploymentStatus+Vehicle Size+Gender+Coverage+Renew Offer Type+Total Claim Amount\n",
      "Target units: ate\n",
      "\n",
      "## Estimate\n",
      "Mean value: 1.391928165506151e-07\n",
      "\n",
      "Causal Estimate is 1.391928165506151e-07\n"
     ]
    }
   ],
   "source": [
    "causal_estimate2 = model2.estimate_effect(identified_estimand2,\n",
    "        method_name=\"backdoor.linear_regression\")\n",
    "print(causal_estimate2)\n",
    "print(\"Causal Estimate is \" + str(causal_estimate2.value))"
   ]
  },
  {
   "cell_type": "markdown",
   "metadata": {},
   "source": [
    "**Treatment - Monthly Premium Auto**"
   ]
  },
  {
   "cell_type": "code",
   "execution_count": 154,
   "metadata": {},
   "outputs": [
    {
     "name": "stderr",
     "output_type": "stream",
     "text": [
      "WARNING:dowhy.causal_model:Causal Graph not provided. DoWhy will construct a graph based on data inputs.\n",
      "INFO:dowhy.causal_graph:If this is observed data (not from a randomized experiment), there might always be missing confounders. Adding a node named \"Unobserved Confounders\" to reflect this.\n",
      "INFO:dowhy.causal_model:Model to find the causal effect of treatment ['Monthly Premium Auto'] on outcome ['Response']\n",
      "WARNING:dowhy.causal_graph:Warning: Pygraphviz cannot be loaded. Check that graphviz and pygraphviz are installed.\n",
      "INFO:dowhy.causal_graph:Using Matplotlib for plotting\n"
     ]
    },
    {
     "data": {
      "image/png": "[encoded data removed]",
      "text/plain": [
       "<Figure size 432x288 with 1 Axes>"
      ]
     },
     "metadata": {},
     "output_type": "display_data"
    }
   ],
   "source": [
    "model3= CausalModel(\n",
    "        data=clv_clean,\n",
    "        treatment='Monthly Premium Auto',\n",
    "        outcome=\"Response\",\n",
    "        common_causes=['Renew Offer Type','Income','Number of Open Complaints','Total Claim Amount','Coverage','EmploymentStatus',\n",
    "                      'Gender','Vehicle Size','Number of Policies'])\n",
    "model3.view_model()"
   ]
  },
  {
   "cell_type": "code",
   "execution_count": 155,
   "metadata": {},
   "outputs": [
    {
     "name": "stderr",
     "output_type": "stream",
     "text": [
      "WARNING:dowhy.causal_identifier:If this is observed data (not from a randomized experiment), there might always be missing confounders. Causal effect cannot be identified perfectly.\n",
      "INFO:dowhy.causal_identifier:Continuing by ignoring these unobserved confounders because proceed_when_unidentifiable flag is True.\n",
      "INFO:dowhy.causal_identifier:Instrumental variables for treatment and outcome:[]\n",
      "INFO:dowhy.causal_identifier:Frontdoor variables for treatment and outcome:[]\n"
     ]
    },
    {
     "name": "stdout",
     "output_type": "stream",
     "text": [
      "Estimand type: nonparametric-ate\n",
      "\n",
      "### Estimand : 1\n",
      "Estimand name: backdoor1 (Default)\n",
      "Estimand expression:\n",
      "           d                                                                  \n",
      "───────────────────────(Expectation(Response|Income,Number of Open Complaints,\n",
      "d[Monthly Premium Auto]                                                       \n",
      "\n",
      "                                                                              \n",
      "EmploymentStatus,Vehicle Size,Gender,Coverage,Renew Offer Type,Total Claim Amo\n",
      "                                                                              \n",
      "\n",
      "     \n",
      "unt))\n",
      "     \n",
      "Estimand assumption 1, Unconfoundedness: If U→{Monthly Premium Auto} and U→Response then P(Response|Monthly Premium Auto,Income,Number of Open Complaints,EmploymentStatus,Vehicle Size,Gender,Coverage,Renew Offer Type,Total Claim Amount,U) = P(Response|Monthly Premium Auto,Income,Number of Open Complaints,EmploymentStatus,Vehicle Size,Gender,Coverage,Renew Offer Type,Total Claim Amount)\n",
      "\n",
      "### Estimand : 2\n",
      "Estimand name: iv\n",
      "No such variable found!\n",
      "\n",
      "### Estimand : 3\n",
      "Estimand name: frontdoor\n",
      "No such variable found!\n",
      "\n"
     ]
    }
   ],
   "source": [
    "identified_estimand3 = model3.identify_effect(proceed_when_unidentifiable=True)\n",
    "print(identified_estimand3)"
   ]
  },
  {
   "cell_type": "code",
   "execution_count": 156,
   "metadata": {},
   "outputs": [
    {
     "name": "stderr",
     "output_type": "stream",
     "text": [
      "INFO:dowhy.causal_estimator:b: Response~Monthly Premium Auto+Income+Number of Open Complaints+EmploymentStatus+Vehicle Size+Gender+Coverage+Renew Offer Type+Total Claim Amount\n",
      "INFO:dowhy.causal_estimator:INFO: Using Linear Regression Estimator\n"
     ]
    },
    {
     "name": "stdout",
     "output_type": "stream",
     "text": [
      "*** Causal Estimate ***\n",
      "\n",
      "## Identified estimand\n",
      "Estimand type: nonparametric-ate\n",
      "\n",
      "## Realized estimand\n",
      "b: Response~Monthly Premium Auto+Income+Number of Open Complaints+EmploymentStatus+Vehicle Size+Gender+Coverage+Renew Offer Type+Total Claim Amount\n",
      "Target units: ate\n",
      "\n",
      "## Estimate\n",
      "Mean value: -2.0867015925296606e-05\n",
      "\n",
      "Causal Estimate is -2.0867015925296606e-05\n"
     ]
    }
   ],
   "source": [
    "causal_estimate3 = model3.estimate_effect(identified_estimand3,\n",
    "        method_name=\"backdoor.linear_regression\")\n",
    "print(causal_estimate3)\n",
    "print(\"Causal Estimate is \" + str(causal_estimate3.value))"
   ]
  },
  {
   "cell_type": "markdown",
   "metadata": {},
   "source": [
    "**Treatment - Number of Open Complaints**"
   ]
  },
  {
   "cell_type": "code",
   "execution_count": 160,
   "metadata": {},
   "outputs": [
    {
     "name": "stderr",
     "output_type": "stream",
     "text": [
      "WARNING:dowhy.causal_model:Causal Graph not provided. DoWhy will construct a graph based on data inputs.\n",
      "INFO:dowhy.causal_graph:If this is observed data (not from a randomized experiment), there might always be missing confounders. Adding a node named \"Unobserved Confounders\" to reflect this.\n",
      "INFO:dowhy.causal_model:Model to find the causal effect of treatment ['Number of Open Complaints'] on outcome ['Response']\n",
      "WARNING:dowhy.causal_graph:Warning: Pygraphviz cannot be loaded. Check that graphviz and pygraphviz are installed.\n",
      "INFO:dowhy.causal_graph:Using Matplotlib for plotting\n"
     ]
    },
    {
     "data": {
      "image/png": "[encoded data removed]",
      "text/plain": [
       "<Figure size 432x288 with 1 Axes>"
      ]
     },
     "metadata": {},
     "output_type": "display_data"
    }
   ],
   "source": [
    "model5= CausalModel(\n",
    "        data=clv_clean,\n",
    "        treatment='Number of Open Complaints',\n",
    "        outcome=\"Response\",\n",
    "        common_causes=['Renew Offer Type','Income','Total Claim Amount','Coverage','EmploymentStatus',\n",
    "                      'Gender','Vehicle Size','Monthly Premium Auto','Number of Policies'])\n",
    "model5.view_model()"
   ]
  },
  {
   "cell_type": "code",
   "execution_count": 161,
   "metadata": {},
   "outputs": [
    {
     "name": "stderr",
     "output_type": "stream",
     "text": [
      "WARNING:dowhy.causal_identifier:If this is observed data (not from a randomized experiment), there might always be missing confounders. Causal effect cannot be identified perfectly.\n",
      "INFO:dowhy.causal_identifier:Continuing by ignoring these unobserved confounders because proceed_when_unidentifiable flag is True.\n",
      "INFO:dowhy.causal_identifier:Instrumental variables for treatment and outcome:[]\n",
      "INFO:dowhy.causal_identifier:Frontdoor variables for treatment and outcome:[]\n"
     ]
    },
    {
     "name": "stdout",
     "output_type": "stream",
     "text": [
      "Estimand type: nonparametric-ate\n",
      "\n",
      "### Estimand : 1\n",
      "Estimand name: backdoor1 (Default)\n",
      "Estimand expression:\n",
      "             d                                                                \n",
      "────────────────────────────(Expectation(Response|Monthly Premium Auto,Total C\n",
      "d[Number of Open Complaints]                                                  \n",
      "\n",
      "                                                                              \n",
      "laim Amount,Income,EmploymentStatus,Coverage,Gender,Vehicle Size,Renew Offer T\n",
      "                                                                              \n",
      "\n",
      "                        \n",
      "ype,Number of Policies))\n",
      "                        \n",
      "Estimand assumption 1, Unconfoundedness: If U→{Number of Open Complaints} and U→Response then P(Response|Number of Open Complaints,Monthly Premium Auto,Total Claim Amount,Income,EmploymentStatus,Coverage,Gender,Vehicle Size,Renew Offer Type,Number of Policies,U) = P(Response|Number of Open Complaints,Monthly Premium Auto,Total Claim Amount,Income,EmploymentStatus,Coverage,Gender,Vehicle Size,Renew Offer Type,Number of Policies)\n",
      "\n",
      "### Estimand : 2\n",
      "Estimand name: iv\n",
      "No such variable found!\n",
      "\n",
      "### Estimand : 3\n",
      "Estimand name: frontdoor\n",
      "No such variable found!\n",
      "\n"
     ]
    }
   ],
   "source": [
    "identified_estimand5 = model5.identify_effect(proceed_when_unidentifiable=True)\n",
    "print(identified_estimand5)"
   ]
  },
  {
   "cell_type": "code",
   "execution_count": 162,
   "metadata": {},
   "outputs": [
    {
     "name": "stderr",
     "output_type": "stream",
     "text": [
      "INFO:dowhy.causal_estimator:b: Response~Number of Open Complaints+Monthly Premium Auto+Total Claim Amount+Income+EmploymentStatus+Coverage+Gender+Vehicle Size+Renew Offer Type+Number of Policies\n",
      "INFO:dowhy.causal_estimator:INFO: Using Linear Regression Estimator\n"
     ]
    },
    {
     "name": "stdout",
     "output_type": "stream",
     "text": [
      "*** Causal Estimate ***\n",
      "\n",
      "## Identified estimand\n",
      "Estimand type: nonparametric-ate\n",
      "\n",
      "## Realized estimand\n",
      "b: Response~Number of Open Complaints+Monthly Premium Auto+Total Claim Amount+Income+EmploymentStatus+Coverage+Gender+Vehicle Size+Renew Offer Type+Number of Policies\n",
      "Target units: ate\n",
      "\n",
      "## Estimate\n",
      "Mean value: -0.0020969154181967875\n",
      "\n",
      "Causal Estimate is -0.0020969154181967875\n"
     ]
    }
   ],
   "source": [
    "causal_estimate5 = model5.estimate_effect(identified_estimand5,\n",
    "        method_name=\"backdoor.linear_regression\")\n",
    "print(causal_estimate5)\n",
    "print(\"Causal Estimate is \" + str(causal_estimate5.value))"
   ]
  },
  {
   "cell_type": "markdown",
   "metadata": {},
   "source": [
    "**Treatment - Number of Policies**"
   ]
  },
  {
   "cell_type": "code",
   "execution_count": 163,
   "metadata": {},
   "outputs": [
    {
     "name": "stderr",
     "output_type": "stream",
     "text": [
      "WARNING:dowhy.causal_model:Causal Graph not provided. DoWhy will construct a graph based on data inputs.\n",
      "INFO:dowhy.causal_graph:If this is observed data (not from a randomized experiment), there might always be missing confounders. Adding a node named \"Unobserved Confounders\" to reflect this.\n",
      "INFO:dowhy.causal_model:Model to find the causal effect of treatment ['Number of Policies'] on outcome ['Response']\n",
      "WARNING:dowhy.causal_graph:Warning: Pygraphviz cannot be loaded. Check that graphviz and pygraphviz are installed.\n",
      "INFO:dowhy.causal_graph:Using Matplotlib for plotting\n"
     ]
    },
    {
     "data": {
      "image/png": "[encoded data removed]",
      "text/plain": [
       "<Figure size 432x288 with 1 Axes>"
      ]
     },
     "metadata": {},
     "output_type": "display_data"
    }
   ],
   "source": [
    "model6= CausalModel(\n",
    "        data=clv_clean,\n",
    "        treatment='Number of Policies',\n",
    "        outcome=\"Response\",\n",
    "        common_causes=['Renew Offer Type','Income','Number of Open Complaints','Total Claim Amount','Coverage','EmploymentStatus',\n",
    "                      'Gender','Vehicle Size','Monthly Premium Auto'])\n",
    "model6.view_model()"
   ]
  },
  {
   "cell_type": "code",
   "execution_count": 164,
   "metadata": {},
   "outputs": [
    {
     "name": "stderr",
     "output_type": "stream",
     "text": [
      "WARNING:dowhy.causal_identifier:If this is observed data (not from a randomized experiment), there might always be missing confounders. Causal effect cannot be identified perfectly.\n",
      "INFO:dowhy.causal_identifier:Continuing by ignoring these unobserved confounders because proceed_when_unidentifiable flag is True.\n",
      "INFO:dowhy.causal_identifier:Instrumental variables for treatment and outcome:[]\n",
      "INFO:dowhy.causal_identifier:Frontdoor variables for treatment and outcome:[]\n"
     ]
    },
    {
     "name": "stdout",
     "output_type": "stream",
     "text": [
      "Estimand type: nonparametric-ate\n",
      "\n",
      "### Estimand : 1\n",
      "Estimand name: backdoor1 (Default)\n",
      "Estimand expression:\n",
      "          d                                                                   \n",
      "─────────────────────(Expectation(Response|Monthly Premium Auto,Income,Number \n",
      "d[Number of Policies]                                                         \n",
      "\n",
      "                                                                              \n",
      "of Open Complaints,EmploymentStatus,Vehicle Size,Gender,Coverage,Renew Offer T\n",
      "                                                                              \n",
      "\n",
      "                        \n",
      "ype,Total Claim Amount))\n",
      "                        \n",
      "Estimand assumption 1, Unconfoundedness: If U→{Number of Policies} and U→Response then P(Response|Number of Policies,Monthly Premium Auto,Income,Number of Open Complaints,EmploymentStatus,Vehicle Size,Gender,Coverage,Renew Offer Type,Total Claim Amount,U) = P(Response|Number of Policies,Monthly Premium Auto,Income,Number of Open Complaints,EmploymentStatus,Vehicle Size,Gender,Coverage,Renew Offer Type,Total Claim Amount)\n",
      "\n",
      "### Estimand : 2\n",
      "Estimand name: iv\n",
      "No such variable found!\n",
      "\n",
      "### Estimand : 3\n",
      "Estimand name: frontdoor\n",
      "No such variable found!\n",
      "\n"
     ]
    }
   ],
   "source": [
    "identified_estimand6 = model6.identify_effect(proceed_when_unidentifiable=True)\n",
    "print(identified_estimand6)"
   ]
  },
  {
   "cell_type": "code",
   "execution_count": 165,
   "metadata": {},
   "outputs": [
    {
     "name": "stderr",
     "output_type": "stream",
     "text": [
      "INFO:dowhy.causal_estimator:b: Response~Number of Policies+Monthly Premium Auto+Income+Number of Open Complaints+EmploymentStatus+Vehicle Size+Gender+Coverage+Renew Offer Type+Total Claim Amount\n",
      "INFO:dowhy.causal_estimator:INFO: Using Linear Regression Estimator\n"
     ]
    },
    {
     "name": "stdout",
     "output_type": "stream",
     "text": [
      "*** Causal Estimate ***\n",
      "\n",
      "## Identified estimand\n",
      "Estimand type: nonparametric-ate\n",
      "\n",
      "## Realized estimand\n",
      "b: Response~Number of Policies+Monthly Premium Auto+Income+Number of Open Complaints+EmploymentStatus+Vehicle Size+Gender+Coverage+Renew Offer Type+Total Claim Amount\n",
      "Target units: ate\n",
      "\n",
      "## Estimate\n",
      "Mean value: -0.0023436360299293746\n",
      "\n",
      "Causal Estimate is -0.0023436360299293746\n"
     ]
    }
   ],
   "source": [
    "causal_estimate6 = model6.estimate_effect(identified_estimand6,\n",
    "        method_name=\"backdoor.linear_regression\")\n",
    "print(causal_estimate6)\n",
    "print(\"Causal Estimate is \" + str(causal_estimate6.value))"
   ]
  },
  {
   "cell_type": "markdown",
   "metadata": {},
   "source": [
    "**Treatment - Total Claim Amount**"
   ]
  },
  {
   "cell_type": "code",
   "execution_count": 166,
   "metadata": {},
   "outputs": [
    {
     "name": "stderr",
     "output_type": "stream",
     "text": [
      "WARNING:dowhy.causal_model:Causal Graph not provided. DoWhy will construct a graph based on data inputs.\n",
      "INFO:dowhy.causal_graph:If this is observed data (not from a randomized experiment), there might always be missing confounders. Adding a node named \"Unobserved Confounders\" to reflect this.\n",
      "INFO:dowhy.causal_model:Model to find the causal effect of treatment ['Total Claim Amount'] on outcome ['Response']\n",
      "WARNING:dowhy.causal_graph:Warning: Pygraphviz cannot be loaded. Check that graphviz and pygraphviz are installed.\n",
      "INFO:dowhy.causal_graph:Using Matplotlib for plotting\n"
     ]
    },
    {
     "data": {
      "image/png": "[encoded data removed]",
      "text/plain": [
       "<Figure size 432x288 with 1 Axes>"
      ]
     },
     "metadata": {},
     "output_type": "display_data"
    }
   ],
   "source": [
    "model7= CausalModel(\n",
    "        data=clv_clean,\n",
    "        treatment='Total Claim Amount',\n",
    "        outcome=\"Response\",\n",
    "        common_causes=['Renew Offer Type','Income','Number of Open Complaints','Number of Policies','Coverage','EmploymentStatus',\n",
    "                      'Gender','Vehicle Size','Monthly Premium Auto'])\n",
    "model7.view_model()"
   ]
  },
  {
   "cell_type": "code",
   "execution_count": 167,
   "metadata": {},
   "outputs": [
    {
     "name": "stderr",
     "output_type": "stream",
     "text": [
      "WARNING:dowhy.causal_identifier:If this is observed data (not from a randomized experiment), there might always be missing confounders. Causal effect cannot be identified perfectly.\n",
      "INFO:dowhy.causal_identifier:Continuing by ignoring these unobserved confounders because proceed_when_unidentifiable flag is True.\n",
      "INFO:dowhy.causal_identifier:Instrumental variables for treatment and outcome:[]\n",
      "INFO:dowhy.causal_identifier:Frontdoor variables for treatment and outcome:[]\n"
     ]
    },
    {
     "name": "stdout",
     "output_type": "stream",
     "text": [
      "Estimand type: nonparametric-ate\n",
      "\n",
      "### Estimand : 1\n",
      "Estimand name: backdoor1 (Default)\n",
      "Estimand expression:\n",
      "          d                                                                   \n",
      "─────────────────────(Expectation(Response|Monthly Premium Auto,Income,Number \n",
      "d[Total Claim Amount]                                                         \n",
      "\n",
      "                                                                              \n",
      "of Open Complaints,EmploymentStatus,Vehicle Size,Gender,Coverage,Renew Offer T\n",
      "                                                                              \n",
      "\n",
      "                        \n",
      "ype,Number of Policies))\n",
      "                        \n",
      "Estimand assumption 1, Unconfoundedness: If U→{Total Claim Amount} and U→Response then P(Response|Total Claim Amount,Monthly Premium Auto,Income,Number of Open Complaints,EmploymentStatus,Vehicle Size,Gender,Coverage,Renew Offer Type,Number of Policies,U) = P(Response|Total Claim Amount,Monthly Premium Auto,Income,Number of Open Complaints,EmploymentStatus,Vehicle Size,Gender,Coverage,Renew Offer Type,Number of Policies)\n",
      "\n",
      "### Estimand : 2\n",
      "Estimand name: iv\n",
      "No such variable found!\n",
      "\n",
      "### Estimand : 3\n",
      "Estimand name: frontdoor\n",
      "No such variable found!\n",
      "\n"
     ]
    }
   ],
   "source": [
    "identified_estimand7 = model7.identify_effect(proceed_when_unidentifiable=True)\n",
    "print(identified_estimand7)"
   ]
  },
  {
   "cell_type": "code",
   "execution_count": 168,
   "metadata": {},
   "outputs": [
    {
     "name": "stderr",
     "output_type": "stream",
     "text": [
      "INFO:dowhy.causal_estimator:b: Response~Months Since Last Claim+Monthly Premium Auto+Income+Number of Open Complaints+EmploymentStatus+Vehicle Size+Gender+Coverage+Renew Offer Type+Total Claim Amount\n",
      "INFO:dowhy.causal_estimator:INFO: Using Linear Regression Estimator\n"
     ]
    },
    {
     "name": "stdout",
     "output_type": "stream",
     "text": [
      "*** Causal Estimate ***\n",
      "\n",
      "## Identified estimand\n",
      "Estimand type: nonparametric-ate\n",
      "\n",
      "## Realized estimand\n",
      "b: Response~Months Since Last Claim+Monthly Premium Auto+Income+Number of Open Complaints+EmploymentStatus+Vehicle Size+Gender+Coverage+Renew Offer Type+Total Claim Amount\n",
      "Target units: ate\n",
      "\n",
      "## Estimate\n",
      "Mean value: 1.919591687590816e-05\n",
      "\n",
      "Causal Estimate is 1.919591687590816e-05\n"
     ]
    }
   ],
   "source": [
    "causal_estimate7 = model7.estimate_effect(identified_estimand4,\n",
    "        method_name=\"backdoor.linear_regression\")\n",
    "print(causal_estimate7)\n",
    "print(\"Causal Estimate is \" + str(causal_estimate7.value))"
   ]
  },
  {
   "cell_type": "code",
   "execution_count": null,
   "metadata": {},
   "outputs": [],
   "source": []
  },
  {
   "cell_type": "code",
   "execution_count": null,
   "metadata": {},
   "outputs": [],
   "source": []
  },
  {
   "cell_type": "code",
   "execution_count": null,
   "metadata": {},
   "outputs": [],
   "source": []
  }
 ],
 "metadata": {
  "kernelspec": {
   "display_name": "Python 3",
   "language": "python",
   "name": "python3"
  },
  "language_info": {
   "codemirror_mode": {
    "name": "ipython",
    "version": 3
   },
   "file_extension": ".py",
   "mimetype": "text/x-python",
   "name": "python",
   "nbconvert_exporter": "python",
   "pygments_lexer": "ipython3",
   "version": "3.8.5"
  }
 },
 "nbformat": 4,
 "nbformat_minor": 4
}
