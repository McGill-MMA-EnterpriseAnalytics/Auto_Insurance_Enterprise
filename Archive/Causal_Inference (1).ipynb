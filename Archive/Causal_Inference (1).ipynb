{
 "cells": [
  {
   "cell_type": "markdown",
   "metadata": {},
   "source": [
    "# Causal Inference"
   ]
  },
  {
   "cell_type": "code",
   "execution_count": 1,
   "metadata": {},
   "outputs": [],
   "source": [
    "#Installing libraries and packages"
   ]
  },
  {
   "cell_type": "code",
   "execution_count": 2,
   "metadata": {},
   "outputs": [
    {
     "name": "stdout",
     "output_type": "stream",
     "text": [
      "Requirement already satisfied: dowhy in c:\\users\\nupur\\anaconda3\\lib\\site-packages (0.5.1)\n",
      "Requirement already satisfied: pandas>=0.24 in c:\\users\\nupur\\anaconda3\\lib\\site-packages (from dowhy) (1.1.3)\n",
      "Requirement already satisfied: sympy>=1.4 in c:\\users\\nupur\\anaconda3\\lib\\site-packages (from dowhy) (1.6.2)\n",
      "Requirement already satisfied: numpy>=1.15 in c:\\users\\nupur\\anaconda3\\lib\\site-packages (from dowhy) (1.18.5)\n",
      "Requirement already satisfied: networkx>=2.0 in c:\\users\\nupur\\anaconda3\\lib\\site-packages (from dowhy) (2.5)\n",
      "Requirement already satisfied: scikit-learn in c:\\users\\nupur\\anaconda3\\lib\\site-packages (from dowhy) (0.23.2)\n",
      "Requirement already satisfied: pydot>=1.4 in c:\\users\\nupur\\anaconda3\\lib\\site-packages (from dowhy) (1.4.1)\n",
      "Requirement already satisfied: scipy in c:\\users\\nupur\\anaconda3\\lib\\site-packages (from dowhy) (1.4.1)\n",
      "Requirement already satisfied: statsmodels in c:\\users\\nupur\\anaconda3\\lib\\site-packages (from dowhy) (0.12.0)\n",
      "Requirement already satisfied: matplotlib in c:\\users\\nupur\\anaconda3\\lib\\site-packages (from dowhy) (3.3.2)\n",
      "Requirement already satisfied: python-dateutil>=2.7.3 in c:\\users\\nupur\\anaconda3\\lib\\site-packages (from pandas>=0.24->dowhy) (2.8.1)\n",
      "Requirement already satisfied: pytz>=2017.2 in c:\\users\\nupur\\anaconda3\\lib\\site-packages (from pandas>=0.24->dowhy) (2020.1)\n",
      "Requirement already satisfied: mpmath>=0.19 in c:\\users\\nupur\\anaconda3\\lib\\site-packages (from sympy>=1.4->dowhy) (1.1.0)\n",
      "Requirement already satisfied: decorator>=4.3.0 in c:\\users\\nupur\\anaconda3\\lib\\site-packages (from networkx>=2.0->dowhy) (4.4.2)\n",
      "Requirement already satisfied: joblib>=0.11 in c:\\users\\nupur\\anaconda3\\lib\\site-packages (from scikit-learn->dowhy) (0.17.0)\n",
      "Requirement already satisfied: threadpoolctl>=2.0.0 in c:\\users\\nupur\\anaconda3\\lib\\site-packages (from scikit-learn->dowhy) (2.1.0)\n",
      "Requirement already satisfied: pyparsing>=2.1.4 in c:\\users\\nupur\\anaconda3\\lib\\site-packages (from pydot>=1.4->dowhy) (2.4.7)\n",
      "Requirement already satisfied: patsy>=0.5 in c:\\users\\nupur\\anaconda3\\lib\\site-packages (from statsmodels->dowhy) (0.5.1)\n",
      "Requirement already satisfied: pillow>=6.2.0 in c:\\users\\nupur\\anaconda3\\lib\\site-packages (from matplotlib->dowhy) (8.0.1)\n",
      "Requirement already satisfied: cycler>=0.10 in c:\\users\\nupur\\anaconda3\\lib\\site-packages (from matplotlib->dowhy) (0.10.0)\n",
      "Requirement already satisfied: kiwisolver>=1.0.1 in c:\\users\\nupur\\anaconda3\\lib\\site-packages (from matplotlib->dowhy) (1.3.0)\n",
      "Requirement already satisfied: certifi>=2020.06.20 in c:\\users\\nupur\\anaconda3\\lib\\site-packages (from matplotlib->dowhy) (2020.6.20)\n",
      "Requirement already satisfied: six>=1.5 in c:\\users\\nupur\\anaconda3\\lib\\site-packages (from python-dateutil>=2.7.3->pandas>=0.24->dowhy) (1.15.0)\n",
      "Note: you may need to restart the kernel to use updated packages.\n"
     ]
    }
   ],
   "source": [
    "pip install dowhy"
   ]
  },
  {
   "cell_type": "code",
   "execution_count": 3,
   "metadata": {},
   "outputs": [
    {
     "name": "stdout",
     "output_type": "stream",
     "text": [
      "Collecting package metadata (current_repodata.json): ...working... done\n",
      "Note: you may need to restart the kernel to use updated packages.\n",
      "Solving environment: ...working... done\n",
      "\n",
      "## Package Plan ##\n",
      "\n",
      "  environment location: C:\\Users\\Nupur\\anaconda3\n",
      "\n",
      "\n",
      "  added / updated specs:\n",
      "    - dowhy\n",
      "\n",
      "\n",
      "The following packages will be SUPERSEDED by a higher-priority channel:\n",
      "\n",
      "  conda               pkgs/main::conda-4.9.2-py38haa95532_0 --> conda-forge::conda-4.9.2-py38haa244fe_0\n",
      "\n",
      "\n",
      "Preparing transaction: ...working... done\n",
      "Verifying transaction: ...working... done\n",
      "Executing transaction: ...working... done\n"
     ]
    }
   ],
   "source": [
    "conda install -c conda-forge dowhy"
   ]
  },
  {
   "cell_type": "code",
   "execution_count": 4,
   "metadata": {},
   "outputs": [
    {
     "name": "stdout",
     "output_type": "stream",
     "text": [
      "Requirement already satisfied: graphviz in c:\\users\\nupur\\anaconda3\\lib\\site-packages (0.16)\n",
      "Note: you may need to restart the kernel to use updated packages.\n"
     ]
    }
   ],
   "source": [
    "pip install graphviz"
   ]
  },
  {
   "cell_type": "code",
   "execution_count": 5,
   "metadata": {},
   "outputs": [],
   "source": [
    "import dowhy\n",
    "from dowhy import CausalModel\n",
    "import dowhy.datasets, dowhy.plotter\n",
    "import dowhy.api\n",
    "import numpy as np\n",
    "import pandas as pd\n",
    "import matplotlib.pyplot as plt\n",
    "import math"
   ]
  },
  {
   "cell_type": "code",
   "execution_count": 6,
   "metadata": {},
   "outputs": [],
   "source": [
    "clv = pd.read_csv(r\"C:\\Users\\Nupur\\OneDrive - McGill University\\Desktop\\McGill Notes\\INSY695075\\WA_Fn-UseC_-Marketing-Customer-Value-Analysis.csv\")"
   ]
  },
  {
   "cell_type": "code",
   "execution_count": 7,
   "metadata": {},
   "outputs": [],
   "source": [
    "clv_clean = clv.drop(columns=[\"Customer\",\"Effective To Date\",\"Policy Type\"])"
   ]
  },
  {
   "cell_type": "code",
   "execution_count": 8,
   "metadata": {},
   "outputs": [
    {
     "data": {
      "text/html": [
       "<div>\n",
       "<style scoped>\n",
       "    .dataframe tbody tr th:only-of-type {\n",
       "        vertical-align: middle;\n",
       "    }\n",
       "\n",
       "    .dataframe tbody tr th {\n",
       "        vertical-align: top;\n",
       "    }\n",
       "\n",
       "    .dataframe thead th {\n",
       "        text-align: right;\n",
       "    }\n",
       "</style>\n",
       "<table border=\"1\" class=\"dataframe\">\n",
       "  <thead>\n",
       "    <tr style=\"text-align: right;\">\n",
       "      <th></th>\n",
       "      <th>State</th>\n",
       "      <th>Customer Lifetime Value</th>\n",
       "      <th>Response</th>\n",
       "      <th>Coverage</th>\n",
       "      <th>Education</th>\n",
       "      <th>EmploymentStatus</th>\n",
       "      <th>Gender</th>\n",
       "      <th>Income</th>\n",
       "      <th>Location Code</th>\n",
       "      <th>Marital Status</th>\n",
       "      <th>...</th>\n",
       "      <th>Months Since Last Claim</th>\n",
       "      <th>Months Since Policy Inception</th>\n",
       "      <th>Number of Open Complaints</th>\n",
       "      <th>Number of Policies</th>\n",
       "      <th>Policy</th>\n",
       "      <th>Renew Offer Type</th>\n",
       "      <th>Sales Channel</th>\n",
       "      <th>Total Claim Amount</th>\n",
       "      <th>Vehicle Class</th>\n",
       "      <th>Vehicle Size</th>\n",
       "    </tr>\n",
       "  </thead>\n",
       "  <tbody>\n",
       "    <tr>\n",
       "      <th>0</th>\n",
       "      <td>Washington</td>\n",
       "      <td>2763.519279</td>\n",
       "      <td>No</td>\n",
       "      <td>Basic</td>\n",
       "      <td>Bachelor</td>\n",
       "      <td>Employed</td>\n",
       "      <td>F</td>\n",
       "      <td>56274</td>\n",
       "      <td>Suburban</td>\n",
       "      <td>Married</td>\n",
       "      <td>...</td>\n",
       "      <td>32</td>\n",
       "      <td>5</td>\n",
       "      <td>0</td>\n",
       "      <td>1</td>\n",
       "      <td>Corporate L3</td>\n",
       "      <td>Offer1</td>\n",
       "      <td>Agent</td>\n",
       "      <td>384.811147</td>\n",
       "      <td>Two-Door Car</td>\n",
       "      <td>Medsize</td>\n",
       "    </tr>\n",
       "    <tr>\n",
       "      <th>1</th>\n",
       "      <td>Arizona</td>\n",
       "      <td>6979.535903</td>\n",
       "      <td>No</td>\n",
       "      <td>Extended</td>\n",
       "      <td>Bachelor</td>\n",
       "      <td>Unemployed</td>\n",
       "      <td>F</td>\n",
       "      <td>0</td>\n",
       "      <td>Suburban</td>\n",
       "      <td>Single</td>\n",
       "      <td>...</td>\n",
       "      <td>13</td>\n",
       "      <td>42</td>\n",
       "      <td>0</td>\n",
       "      <td>8</td>\n",
       "      <td>Personal L3</td>\n",
       "      <td>Offer3</td>\n",
       "      <td>Agent</td>\n",
       "      <td>1131.464935</td>\n",
       "      <td>Four-Door Car</td>\n",
       "      <td>Medsize</td>\n",
       "    </tr>\n",
       "    <tr>\n",
       "      <th>2</th>\n",
       "      <td>Nevada</td>\n",
       "      <td>12887.431650</td>\n",
       "      <td>No</td>\n",
       "      <td>Premium</td>\n",
       "      <td>Bachelor</td>\n",
       "      <td>Employed</td>\n",
       "      <td>F</td>\n",
       "      <td>48767</td>\n",
       "      <td>Suburban</td>\n",
       "      <td>Married</td>\n",
       "      <td>...</td>\n",
       "      <td>18</td>\n",
       "      <td>38</td>\n",
       "      <td>0</td>\n",
       "      <td>2</td>\n",
       "      <td>Personal L3</td>\n",
       "      <td>Offer1</td>\n",
       "      <td>Agent</td>\n",
       "      <td>566.472247</td>\n",
       "      <td>Two-Door Car</td>\n",
       "      <td>Medsize</td>\n",
       "    </tr>\n",
       "    <tr>\n",
       "      <th>3</th>\n",
       "      <td>California</td>\n",
       "      <td>7645.861827</td>\n",
       "      <td>No</td>\n",
       "      <td>Basic</td>\n",
       "      <td>Bachelor</td>\n",
       "      <td>Unemployed</td>\n",
       "      <td>M</td>\n",
       "      <td>0</td>\n",
       "      <td>Suburban</td>\n",
       "      <td>Married</td>\n",
       "      <td>...</td>\n",
       "      <td>18</td>\n",
       "      <td>65</td>\n",
       "      <td>0</td>\n",
       "      <td>7</td>\n",
       "      <td>Corporate L2</td>\n",
       "      <td>Offer1</td>\n",
       "      <td>Call Center</td>\n",
       "      <td>529.881344</td>\n",
       "      <td>SUV</td>\n",
       "      <td>Medsize</td>\n",
       "    </tr>\n",
       "    <tr>\n",
       "      <th>4</th>\n",
       "      <td>Washington</td>\n",
       "      <td>2813.692575</td>\n",
       "      <td>No</td>\n",
       "      <td>Basic</td>\n",
       "      <td>Bachelor</td>\n",
       "      <td>Employed</td>\n",
       "      <td>M</td>\n",
       "      <td>43836</td>\n",
       "      <td>Rural</td>\n",
       "      <td>Single</td>\n",
       "      <td>...</td>\n",
       "      <td>12</td>\n",
       "      <td>44</td>\n",
       "      <td>0</td>\n",
       "      <td>1</td>\n",
       "      <td>Personal L1</td>\n",
       "      <td>Offer1</td>\n",
       "      <td>Agent</td>\n",
       "      <td>138.130879</td>\n",
       "      <td>Four-Door Car</td>\n",
       "      <td>Medsize</td>\n",
       "    </tr>\n",
       "  </tbody>\n",
       "</table>\n",
       "<p>5 rows × 21 columns</p>\n",
       "</div>"
      ],
      "text/plain": [
       "        State  Customer Lifetime Value Response  Coverage Education  \\\n",
       "0  Washington              2763.519279       No     Basic  Bachelor   \n",
       "1     Arizona              6979.535903       No  Extended  Bachelor   \n",
       "2      Nevada             12887.431650       No   Premium  Bachelor   \n",
       "3  California              7645.861827       No     Basic  Bachelor   \n",
       "4  Washington              2813.692575       No     Basic  Bachelor   \n",
       "\n",
       "  EmploymentStatus Gender  Income Location Code Marital Status  ...  \\\n",
       "0         Employed      F   56274      Suburban        Married  ...   \n",
       "1       Unemployed      F       0      Suburban         Single  ...   \n",
       "2         Employed      F   48767      Suburban        Married  ...   \n",
       "3       Unemployed      M       0      Suburban        Married  ...   \n",
       "4         Employed      M   43836         Rural         Single  ...   \n",
       "\n",
       "   Months Since Last Claim  Months Since Policy Inception  \\\n",
       "0                       32                              5   \n",
       "1                       13                             42   \n",
       "2                       18                             38   \n",
       "3                       18                             65   \n",
       "4                       12                             44   \n",
       "\n",
       "   Number of Open Complaints  Number of Policies        Policy  \\\n",
       "0                          0                   1  Corporate L3   \n",
       "1                          0                   8   Personal L3   \n",
       "2                          0                   2   Personal L3   \n",
       "3                          0                   7  Corporate L2   \n",
       "4                          0                   1   Personal L1   \n",
       "\n",
       "  Renew Offer Type Sales Channel Total Claim Amount  Vehicle Class  \\\n",
       "0           Offer1         Agent         384.811147   Two-Door Car   \n",
       "1           Offer3         Agent        1131.464935  Four-Door Car   \n",
       "2           Offer1         Agent         566.472247   Two-Door Car   \n",
       "3           Offer1   Call Center         529.881344            SUV   \n",
       "4           Offer1         Agent         138.130879  Four-Door Car   \n",
       "\n",
       "  Vehicle Size  \n",
       "0      Medsize  \n",
       "1      Medsize  \n",
       "2      Medsize  \n",
       "3      Medsize  \n",
       "4      Medsize  \n",
       "\n",
       "[5 rows x 21 columns]"
      ]
     },
     "execution_count": 8,
     "metadata": {},
     "output_type": "execute_result"
    }
   ],
   "source": [
    "clv_clean.head()"
   ]
  },
  {
   "cell_type": "code",
   "execution_count": 9,
   "metadata": {},
   "outputs": [
    {
     "data": {
      "text/plain": [
       "Customer             9134\n",
       "State                   5\n",
       "Response                2\n",
       "Coverage                3\n",
       "Education               5\n",
       "Effective To Date      59\n",
       "EmploymentStatus        5\n",
       "Gender                  2\n",
       "Location Code           3\n",
       "Marital Status          3\n",
       "Policy Type             3\n",
       "Policy                  9\n",
       "Renew Offer Type        4\n",
       "Sales Channel           4\n",
       "Vehicle Class           6\n",
       "Vehicle Size            3\n",
       "dtype: int64"
      ]
     },
     "execution_count": 9,
     "metadata": {},
     "output_type": "execute_result"
    }
   ],
   "source": [
    "clv.select_dtypes('object').apply(pd.Series.nunique, axis=0)"
   ]
  },
  {
   "cell_type": "code",
   "execution_count": 10,
   "metadata": {},
   "outputs": [],
   "source": [
    "#Splitting Features into binary and remaining categorical\n",
    "\n",
    "binary_feature = clv_clean.nunique()[clv_clean.nunique() == 2].keys().tolist()"
   ]
  },
  {
   "cell_type": "code",
   "execution_count": 11,
   "metadata": {},
   "outputs": [],
   "source": [
    "categorical_feature = [col for col in clv_clean.select_dtypes('object').columns.to_list() if col not in binary_feature]"
   ]
  },
  {
   "cell_type": "code",
   "execution_count": 12,
   "metadata": {},
   "outputs": [
    {
     "data": {
      "text/plain": [
       "['State',\n",
       " 'Coverage',\n",
       " 'Education',\n",
       " 'EmploymentStatus',\n",
       " 'Location Code',\n",
       " 'Marital Status',\n",
       " 'Policy',\n",
       " 'Renew Offer Type',\n",
       " 'Sales Channel',\n",
       " 'Vehicle Class',\n",
       " 'Vehicle Size']"
      ]
     },
     "execution_count": 12,
     "metadata": {},
     "output_type": "execute_result"
    }
   ],
   "source": [
    "categorical_feature"
   ]
  },
  {
   "cell_type": "code",
   "execution_count": 13,
   "metadata": {},
   "outputs": [],
   "source": [
    "# Feature Engineering  - dummyfying the binary and categorical variables\n",
    "from sklearn.preprocessing import LabelEncoder\n",
    "le = LabelEncoder()\n",
    "for i in binary_feature:\n",
    "    clv_clean[i] = le.fit_transform(clv_clean[i])"
   ]
  },
  {
   "cell_type": "code",
   "execution_count": 14,
   "metadata": {},
   "outputs": [
    {
     "data": {
      "text/plain": [
       "Index(['State', 'Customer Lifetime Value', 'Response', 'Coverage', 'Education',\n",
       "       'EmploymentStatus', 'Gender', 'Income', 'Location Code',\n",
       "       'Marital Status', 'Monthly Premium Auto', 'Months Since Last Claim',\n",
       "       'Months Since Policy Inception', 'Number of Open Complaints',\n",
       "       'Number of Policies', 'Policy', 'Renew Offer Type', 'Sales Channel',\n",
       "       'Total Claim Amount', 'Vehicle Class', 'Vehicle Size'],\n",
       "      dtype='object')"
      ]
     },
     "execution_count": 14,
     "metadata": {},
     "output_type": "execute_result"
    }
   ],
   "source": [
    "clv_clean.columns"
   ]
  },
  {
   "cell_type": "code",
   "execution_count": 15,
   "metadata": {},
   "outputs": [
    {
     "data": {
      "text/html": [
       "<div>\n",
       "<style scoped>\n",
       "    .dataframe tbody tr th:only-of-type {\n",
       "        vertical-align: middle;\n",
       "    }\n",
       "\n",
       "    .dataframe tbody tr th {\n",
       "        vertical-align: top;\n",
       "    }\n",
       "\n",
       "    .dataframe thead th {\n",
       "        text-align: right;\n",
       "    }\n",
       "</style>\n",
       "<table border=\"1\" class=\"dataframe\">\n",
       "  <thead>\n",
       "    <tr style=\"text-align: right;\">\n",
       "      <th></th>\n",
       "      <th>State</th>\n",
       "      <th>Customer Lifetime Value</th>\n",
       "      <th>Response</th>\n",
       "      <th>Coverage</th>\n",
       "      <th>Education</th>\n",
       "      <th>EmploymentStatus</th>\n",
       "      <th>Gender</th>\n",
       "      <th>Income</th>\n",
       "      <th>Location Code</th>\n",
       "      <th>Marital Status</th>\n",
       "      <th>...</th>\n",
       "      <th>Months Since Last Claim</th>\n",
       "      <th>Months Since Policy Inception</th>\n",
       "      <th>Number of Open Complaints</th>\n",
       "      <th>Number of Policies</th>\n",
       "      <th>Policy</th>\n",
       "      <th>Renew Offer Type</th>\n",
       "      <th>Sales Channel</th>\n",
       "      <th>Total Claim Amount</th>\n",
       "      <th>Vehicle Class</th>\n",
       "      <th>Vehicle Size</th>\n",
       "    </tr>\n",
       "  </thead>\n",
       "  <tbody>\n",
       "    <tr>\n",
       "      <th>0</th>\n",
       "      <td>Washington</td>\n",
       "      <td>2763.519279</td>\n",
       "      <td>0</td>\n",
       "      <td>Basic</td>\n",
       "      <td>Bachelor</td>\n",
       "      <td>Employed</td>\n",
       "      <td>0</td>\n",
       "      <td>56274</td>\n",
       "      <td>Suburban</td>\n",
       "      <td>Married</td>\n",
       "      <td>...</td>\n",
       "      <td>32</td>\n",
       "      <td>5</td>\n",
       "      <td>0</td>\n",
       "      <td>1</td>\n",
       "      <td>Corporate L3</td>\n",
       "      <td>Offer1</td>\n",
       "      <td>Agent</td>\n",
       "      <td>384.811147</td>\n",
       "      <td>Two-Door Car</td>\n",
       "      <td>Medsize</td>\n",
       "    </tr>\n",
       "    <tr>\n",
       "      <th>1</th>\n",
       "      <td>Arizona</td>\n",
       "      <td>6979.535903</td>\n",
       "      <td>0</td>\n",
       "      <td>Extended</td>\n",
       "      <td>Bachelor</td>\n",
       "      <td>Unemployed</td>\n",
       "      <td>0</td>\n",
       "      <td>0</td>\n",
       "      <td>Suburban</td>\n",
       "      <td>Single</td>\n",
       "      <td>...</td>\n",
       "      <td>13</td>\n",
       "      <td>42</td>\n",
       "      <td>0</td>\n",
       "      <td>8</td>\n",
       "      <td>Personal L3</td>\n",
       "      <td>Offer3</td>\n",
       "      <td>Agent</td>\n",
       "      <td>1131.464935</td>\n",
       "      <td>Four-Door Car</td>\n",
       "      <td>Medsize</td>\n",
       "    </tr>\n",
       "    <tr>\n",
       "      <th>2</th>\n",
       "      <td>Nevada</td>\n",
       "      <td>12887.431650</td>\n",
       "      <td>0</td>\n",
       "      <td>Premium</td>\n",
       "      <td>Bachelor</td>\n",
       "      <td>Employed</td>\n",
       "      <td>0</td>\n",
       "      <td>48767</td>\n",
       "      <td>Suburban</td>\n",
       "      <td>Married</td>\n",
       "      <td>...</td>\n",
       "      <td>18</td>\n",
       "      <td>38</td>\n",
       "      <td>0</td>\n",
       "      <td>2</td>\n",
       "      <td>Personal L3</td>\n",
       "      <td>Offer1</td>\n",
       "      <td>Agent</td>\n",
       "      <td>566.472247</td>\n",
       "      <td>Two-Door Car</td>\n",
       "      <td>Medsize</td>\n",
       "    </tr>\n",
       "    <tr>\n",
       "      <th>3</th>\n",
       "      <td>California</td>\n",
       "      <td>7645.861827</td>\n",
       "      <td>0</td>\n",
       "      <td>Basic</td>\n",
       "      <td>Bachelor</td>\n",
       "      <td>Unemployed</td>\n",
       "      <td>1</td>\n",
       "      <td>0</td>\n",
       "      <td>Suburban</td>\n",
       "      <td>Married</td>\n",
       "      <td>...</td>\n",
       "      <td>18</td>\n",
       "      <td>65</td>\n",
       "      <td>0</td>\n",
       "      <td>7</td>\n",
       "      <td>Corporate L2</td>\n",
       "      <td>Offer1</td>\n",
       "      <td>Call Center</td>\n",
       "      <td>529.881344</td>\n",
       "      <td>SUV</td>\n",
       "      <td>Medsize</td>\n",
       "    </tr>\n",
       "    <tr>\n",
       "      <th>4</th>\n",
       "      <td>Washington</td>\n",
       "      <td>2813.692575</td>\n",
       "      <td>0</td>\n",
       "      <td>Basic</td>\n",
       "      <td>Bachelor</td>\n",
       "      <td>Employed</td>\n",
       "      <td>1</td>\n",
       "      <td>43836</td>\n",
       "      <td>Rural</td>\n",
       "      <td>Single</td>\n",
       "      <td>...</td>\n",
       "      <td>12</td>\n",
       "      <td>44</td>\n",
       "      <td>0</td>\n",
       "      <td>1</td>\n",
       "      <td>Personal L1</td>\n",
       "      <td>Offer1</td>\n",
       "      <td>Agent</td>\n",
       "      <td>138.130879</td>\n",
       "      <td>Four-Door Car</td>\n",
       "      <td>Medsize</td>\n",
       "    </tr>\n",
       "  </tbody>\n",
       "</table>\n",
       "<p>5 rows × 21 columns</p>\n",
       "</div>"
      ],
      "text/plain": [
       "        State  Customer Lifetime Value  Response  Coverage Education  \\\n",
       "0  Washington              2763.519279         0     Basic  Bachelor   \n",
       "1     Arizona              6979.535903         0  Extended  Bachelor   \n",
       "2      Nevada             12887.431650         0   Premium  Bachelor   \n",
       "3  California              7645.861827         0     Basic  Bachelor   \n",
       "4  Washington              2813.692575         0     Basic  Bachelor   \n",
       "\n",
       "  EmploymentStatus  Gender  Income Location Code Marital Status  ...  \\\n",
       "0         Employed       0   56274      Suburban        Married  ...   \n",
       "1       Unemployed       0       0      Suburban         Single  ...   \n",
       "2         Employed       0   48767      Suburban        Married  ...   \n",
       "3       Unemployed       1       0      Suburban        Married  ...   \n",
       "4         Employed       1   43836         Rural         Single  ...   \n",
       "\n",
       "   Months Since Last Claim  Months Since Policy Inception  \\\n",
       "0                       32                              5   \n",
       "1                       13                             42   \n",
       "2                       18                             38   \n",
       "3                       18                             65   \n",
       "4                       12                             44   \n",
       "\n",
       "   Number of Open Complaints  Number of Policies        Policy  \\\n",
       "0                          0                   1  Corporate L3   \n",
       "1                          0                   8   Personal L3   \n",
       "2                          0                   2   Personal L3   \n",
       "3                          0                   7  Corporate L2   \n",
       "4                          0                   1   Personal L1   \n",
       "\n",
       "  Renew Offer Type Sales Channel Total Claim Amount  Vehicle Class  \\\n",
       "0           Offer1         Agent         384.811147   Two-Door Car   \n",
       "1           Offer3         Agent        1131.464935  Four-Door Car   \n",
       "2           Offer1         Agent         566.472247   Two-Door Car   \n",
       "3           Offer1   Call Center         529.881344            SUV   \n",
       "4           Offer1         Agent         138.130879  Four-Door Car   \n",
       "\n",
       "  Vehicle Size  \n",
       "0      Medsize  \n",
       "1      Medsize  \n",
       "2      Medsize  \n",
       "3      Medsize  \n",
       "4      Medsize  \n",
       "\n",
       "[5 rows x 21 columns]"
      ]
     },
     "execution_count": 15,
     "metadata": {},
     "output_type": "execute_result"
    }
   ],
   "source": [
    "clv_clean.head()"
   ]
  },
  {
   "cell_type": "markdown",
   "metadata": {},
   "source": [
    "**Creating Causal Models with Treatment and control features and target variable**"
   ]
  },
  {
   "cell_type": "markdown",
   "metadata": {},
   "source": [
    "**Treatment - Gender**"
   ]
  },
  {
   "cell_type": "code",
   "execution_count": 16,
   "metadata": {},
   "outputs": [],
   "source": [
    "clv_clean['Gender'] = clv_clean['Gender'].apply(bool)\n",
    "clv_clean['Response'] = clv_clean['Response'].apply(bool)"
   ]
  },
  {
   "cell_type": "code",
   "execution_count": 17,
   "metadata": {},
   "outputs": [],
   "source": [
    "clv_clean['EmploymentStatus'] = clv_clean['EmploymentStatus'].apply(lambda x: 1 if x=='Retired' else 0)"
   ]
  },
  {
   "cell_type": "code",
   "execution_count": 18,
   "metadata": {},
   "outputs": [],
   "source": [
    "clv_clean['Renew Offer Type'] = clv_clean['Renew Offer Type'].apply(lambda x: 1 if x=='Offer2' else 0)"
   ]
  },
  {
   "cell_type": "code",
   "execution_count": 28,
   "metadata": {},
   "outputs": [],
   "source": [
    "clv_clean['Coverage'] = clv_clean['Coverage'].apply(lambda x: 1 if x=='Basic' else 0)"
   ]
  },
  {
   "cell_type": "code",
   "execution_count": 29,
   "metadata": {},
   "outputs": [
    {
     "data": {
      "text/html": [
       "<div>\n",
       "<style scoped>\n",
       "    .dataframe tbody tr th:only-of-type {\n",
       "        vertical-align: middle;\n",
       "    }\n",
       "\n",
       "    .dataframe tbody tr th {\n",
       "        vertical-align: top;\n",
       "    }\n",
       "\n",
       "    .dataframe thead th {\n",
       "        text-align: right;\n",
       "    }\n",
       "</style>\n",
       "<table border=\"1\" class=\"dataframe\">\n",
       "  <thead>\n",
       "    <tr style=\"text-align: right;\">\n",
       "      <th></th>\n",
       "      <th>State</th>\n",
       "      <th>Customer Lifetime Value</th>\n",
       "      <th>Response</th>\n",
       "      <th>Coverage</th>\n",
       "      <th>Education</th>\n",
       "      <th>EmploymentStatus</th>\n",
       "      <th>Gender</th>\n",
       "      <th>Income</th>\n",
       "      <th>Location Code</th>\n",
       "      <th>Marital Status</th>\n",
       "      <th>...</th>\n",
       "      <th>Renew Offer Type</th>\n",
       "      <th>Sales Channel</th>\n",
       "      <th>Total Claim Amount</th>\n",
       "      <th>Vehicle Class</th>\n",
       "      <th>Vehicle Size</th>\n",
       "      <th>propensity_score</th>\n",
       "      <th>strata</th>\n",
       "      <th>dbar</th>\n",
       "      <th>d_y</th>\n",
       "      <th>dbar_y</th>\n",
       "    </tr>\n",
       "  </thead>\n",
       "  <tbody>\n",
       "    <tr>\n",
       "      <th>0</th>\n",
       "      <td>Washington</td>\n",
       "      <td>2763.519279</td>\n",
       "      <td>False</td>\n",
       "      <td>1</td>\n",
       "      <td>Bachelor</td>\n",
       "      <td>False</td>\n",
       "      <td>False</td>\n",
       "      <td>56274</td>\n",
       "      <td>Suburban</td>\n",
       "      <td>Married</td>\n",
       "      <td>...</td>\n",
       "      <td>False</td>\n",
       "      <td>Agent</td>\n",
       "      <td>384.811147</td>\n",
       "      <td>Two-Door Car</td>\n",
       "      <td>Medsize</td>\n",
       "      <td>0.456835</td>\n",
       "      <td>46.0</td>\n",
       "      <td>1</td>\n",
       "      <td>False</td>\n",
       "      <td>0</td>\n",
       "    </tr>\n",
       "    <tr>\n",
       "      <th>1</th>\n",
       "      <td>Arizona</td>\n",
       "      <td>6979.535903</td>\n",
       "      <td>False</td>\n",
       "      <td>0</td>\n",
       "      <td>Bachelor</td>\n",
       "      <td>False</td>\n",
       "      <td>False</td>\n",
       "      <td>0</td>\n",
       "      <td>Suburban</td>\n",
       "      <td>Single</td>\n",
       "      <td>...</td>\n",
       "      <td>False</td>\n",
       "      <td>Agent</td>\n",
       "      <td>1131.464935</td>\n",
       "      <td>Four-Door Car</td>\n",
       "      <td>Medsize</td>\n",
       "      <td>0.233869</td>\n",
       "      <td>7.0</td>\n",
       "      <td>1</td>\n",
       "      <td>False</td>\n",
       "      <td>0</td>\n",
       "    </tr>\n",
       "    <tr>\n",
       "      <th>2</th>\n",
       "      <td>Nevada</td>\n",
       "      <td>12887.431650</td>\n",
       "      <td>False</td>\n",
       "      <td>0</td>\n",
       "      <td>Bachelor</td>\n",
       "      <td>False</td>\n",
       "      <td>False</td>\n",
       "      <td>48767</td>\n",
       "      <td>Suburban</td>\n",
       "      <td>Married</td>\n",
       "      <td>...</td>\n",
       "      <td>False</td>\n",
       "      <td>Agent</td>\n",
       "      <td>566.472247</td>\n",
       "      <td>Two-Door Car</td>\n",
       "      <td>Medsize</td>\n",
       "      <td>0.339325</td>\n",
       "      <td>27.0</td>\n",
       "      <td>1</td>\n",
       "      <td>False</td>\n",
       "      <td>0</td>\n",
       "    </tr>\n",
       "    <tr>\n",
       "      <th>3</th>\n",
       "      <td>California</td>\n",
       "      <td>7645.861827</td>\n",
       "      <td>False</td>\n",
       "      <td>1</td>\n",
       "      <td>Bachelor</td>\n",
       "      <td>False</td>\n",
       "      <td>True</td>\n",
       "      <td>0</td>\n",
       "      <td>Suburban</td>\n",
       "      <td>Married</td>\n",
       "      <td>...</td>\n",
       "      <td>False</td>\n",
       "      <td>Call Center</td>\n",
       "      <td>529.881344</td>\n",
       "      <td>SUV</td>\n",
       "      <td>Medsize</td>\n",
       "      <td>0.185916</td>\n",
       "      <td>3.0</td>\n",
       "      <td>1</td>\n",
       "      <td>False</td>\n",
       "      <td>0</td>\n",
       "    </tr>\n",
       "    <tr>\n",
       "      <th>4</th>\n",
       "      <td>Washington</td>\n",
       "      <td>2813.692575</td>\n",
       "      <td>False</td>\n",
       "      <td>1</td>\n",
       "      <td>Bachelor</td>\n",
       "      <td>False</td>\n",
       "      <td>True</td>\n",
       "      <td>43836</td>\n",
       "      <td>Rural</td>\n",
       "      <td>Single</td>\n",
       "      <td>...</td>\n",
       "      <td>False</td>\n",
       "      <td>Agent</td>\n",
       "      <td>138.130879</td>\n",
       "      <td>Four-Door Car</td>\n",
       "      <td>Medsize</td>\n",
       "      <td>0.394712</td>\n",
       "      <td>38.0</td>\n",
       "      <td>1</td>\n",
       "      <td>False</td>\n",
       "      <td>0</td>\n",
       "    </tr>\n",
       "  </tbody>\n",
       "</table>\n",
       "<p>5 rows × 26 columns</p>\n",
       "</div>"
      ],
      "text/plain": [
       "        State  Customer Lifetime Value  Response  Coverage Education  \\\n",
       "0  Washington              2763.519279     False         1  Bachelor   \n",
       "1     Arizona              6979.535903     False         0  Bachelor   \n",
       "2      Nevada             12887.431650     False         0  Bachelor   \n",
       "3  California              7645.861827     False         1  Bachelor   \n",
       "4  Washington              2813.692575     False         1  Bachelor   \n",
       "\n",
       "   EmploymentStatus  Gender  Income Location Code Marital Status  ...  \\\n",
       "0             False   False   56274      Suburban        Married  ...   \n",
       "1             False   False       0      Suburban         Single  ...   \n",
       "2             False   False   48767      Suburban        Married  ...   \n",
       "3             False    True       0      Suburban        Married  ...   \n",
       "4             False    True   43836         Rural         Single  ...   \n",
       "\n",
       "   Renew Offer Type  Sales Channel  Total Claim Amount  Vehicle Class  \\\n",
       "0             False          Agent          384.811147   Two-Door Car   \n",
       "1             False          Agent         1131.464935  Four-Door Car   \n",
       "2             False          Agent          566.472247   Two-Door Car   \n",
       "3             False    Call Center          529.881344            SUV   \n",
       "4             False          Agent          138.130879  Four-Door Car   \n",
       "\n",
       "   Vehicle Size propensity_score  strata dbar    d_y dbar_y  \n",
       "0       Medsize         0.456835    46.0    1  False      0  \n",
       "1       Medsize         0.233869     7.0    1  False      0  \n",
       "2       Medsize         0.339325    27.0    1  False      0  \n",
       "3       Medsize         0.185916     3.0    1  False      0  \n",
       "4       Medsize         0.394712    38.0    1  False      0  \n",
       "\n",
       "[5 rows x 26 columns]"
      ]
     },
     "execution_count": 29,
     "metadata": {},
     "output_type": "execute_result"
    }
   ],
   "source": [
    "clv_clean.head()"
   ]
  },
  {
   "cell_type": "code",
   "execution_count": 30,
   "metadata": {},
   "outputs": [],
   "source": [
    "clv_clean['EmploymentStatus'] = clv_clean['EmploymentStatus'].apply(bool)\n",
    "clv_clean['Renew Offer Type'] = clv_clean['Renew Offer Type'].apply(bool)\n",
    "clv_clean['Coverage'] = clv_clean['Coverage'].apply(bool)"
   ]
  },
  {
   "cell_type": "code",
   "execution_count": 31,
   "metadata": {},
   "outputs": [
    {
     "data": {
      "text/plain": [
       "State                             object\n",
       "Customer Lifetime Value          float64\n",
       "Response                            bool\n",
       "Coverage                            bool\n",
       "Education                         object\n",
       "EmploymentStatus                    bool\n",
       "Gender                              bool\n",
       "Income                             int64\n",
       "Location Code                     object\n",
       "Marital Status                    object\n",
       "Monthly Premium Auto               int64\n",
       "Months Since Last Claim            int64\n",
       "Months Since Policy Inception      int64\n",
       "Number of Open Complaints          int64\n",
       "Number of Policies                 int64\n",
       "Policy                            object\n",
       "Renew Offer Type                    bool\n",
       "Sales Channel                     object\n",
       "Total Claim Amount               float64\n",
       "Vehicle Class                     object\n",
       "Vehicle Size                      object\n",
       "propensity_score                 float64\n",
       "strata                           float64\n",
       "dbar                               int32\n",
       "d_y                                 bool\n",
       "dbar_y                             int32\n",
       "dtype: object"
      ]
     },
     "execution_count": 31,
     "metadata": {},
     "output_type": "execute_result"
    }
   ],
   "source": [
    "clv_clean.dtypes"
   ]
  },
  {
   "cell_type": "code",
   "execution_count": 39,
   "metadata": {},
   "outputs": [
    {
     "name": "stderr",
     "output_type": "stream",
     "text": [
      "WARNING:dowhy.causal_model:Causal Graph not provided. DoWhy will construct a graph based on data inputs.\n",
      "INFO:dowhy.causal_graph:If this is observed data (not from a randomized experiment), there might always be missing confounders. Adding a node named \"Unobserved Confounders\" to reflect this.\n",
      "INFO:dowhy.causal_model:Model to find the causal effect of treatment ['Gender'] on outcome ['Response']\n",
      "WARNING:dowhy.causal_graph:Warning: Pygraphviz cannot be loaded. Check that graphviz and pygraphviz are installed.\n",
      "INFO:dowhy.causal_graph:Using Matplotlib for plotting\n"
     ]
    },
    {
     "data": {
      "image/png": "[encoded data removed]",
      "text/plain": [
       "<Figure size 432x288 with 1 Axes>"
      ]
     },
     "metadata": {},
     "output_type": "display_data"
    }
   ],
   "source": [
    "model1= CausalModel(\n",
    "        data=clv_clean,\n",
    "        treatment='Gender',\n",
    "        outcome=\"Response\",\n",
    "        common_causes=['Income','Monthly Premium Auto','Number of Open Complaints','Total Claim Amount','Coverage','EmploymentStatus',\n",
    "                      'Renew Offer Type','Number of Policies'])\n",
    "model1.view_model()"
   ]
  },
  {
   "cell_type": "code",
   "execution_count": 40,
   "metadata": {},
   "outputs": [
    {
     "name": "stderr",
     "output_type": "stream",
     "text": [
      "WARNING:dowhy.causal_identifier:If this is observed data (not from a randomized experiment), there might always be missing confounders. Causal effect cannot be identified perfectly.\n",
      "INFO:dowhy.causal_identifier:Continuing by ignoring these unobserved confounders because proceed_when_unidentifiable flag is True.\n",
      "INFO:dowhy.causal_identifier:Instrumental variables for treatment and outcome:[]\n",
      "INFO:dowhy.causal_identifier:Frontdoor variables for treatment and outcome:[]\n"
     ]
    },
    {
     "name": "stdout",
     "output_type": "stream",
     "text": [
      "Estimand type: nonparametric-ate\n",
      "\n",
      "### Estimand : 1\n",
      "Estimand name: backdoor1 (Default)\n",
      "Estimand expression:\n",
      "    d                                                                         \n",
      "─────────(Expectation(Response|Coverage,Monthly Premium Auto,Renew Offer Type,\n",
      "d[Gender]                                                                     \n",
      "\n",
      "                                                                              \n",
      "Total Claim Amount,Number of Open Complaints,EmploymentStatus,Number of Polici\n",
      "                                                                              \n",
      "\n",
      "           \n",
      "es,Income))\n",
      "           \n",
      "Estimand assumption 1, Unconfoundedness: If U→{Gender} and U→Response then P(Response|Gender,Coverage,Monthly Premium Auto,Renew Offer Type,Total Claim Amount,Number of Open Complaints,EmploymentStatus,Number of Policies,Income,U) = P(Response|Gender,Coverage,Monthly Premium Auto,Renew Offer Type,Total Claim Amount,Number of Open Complaints,EmploymentStatus,Number of Policies,Income)\n",
      "\n",
      "### Estimand : 2\n",
      "Estimand name: iv\n",
      "No such variable found!\n",
      "\n",
      "### Estimand : 3\n",
      "Estimand name: frontdoor\n",
      "No such variable found!\n",
      "\n"
     ]
    }
   ],
   "source": [
    "identified_estimand1 = model1.identify_effect(proceed_when_unidentifiable=True)\n",
    "print(identified_estimand1)"
   ]
  },
  {
   "cell_type": "code",
   "execution_count": 41,
   "metadata": {},
   "outputs": [
    {
     "name": "stderr",
     "output_type": "stream",
     "text": [
      "INFO:dowhy.causal_estimator:INFO: Using Propensity Score Stratification Estimator\n",
      "INFO:dowhy.causal_estimator:b: Response~Gender+Coverage+Monthly Premium Auto+Renew Offer Type+Total Claim Amount+Number of Open Complaints+EmploymentStatus+Number of Policies+Income\n"
     ]
    },
    {
     "name": "stdout",
     "output_type": "stream",
     "text": [
      "*** Causal Estimate ***\n",
      "\n",
      "## Identified estimand\n",
      "Estimand type: nonparametric-ate\n",
      "\n",
      "## Realized estimand\n",
      "b: Response~Gender+Coverage+Monthly Premium Auto+Renew Offer Type+Total Claim Amount+Number of Open Complaints+EmploymentStatus+Number of Policies+Income\n",
      "Target units: ate\n",
      "\n",
      "## Estimate\n",
      "Mean value: 0.001794487864560961\n",
      "\n",
      "Causal Estimate is 0.001794487864560961\n"
     ]
    },
    {
     "name": "stderr",
     "output_type": "stream",
     "text": [
      "C:\\Users\\Nupur\\anaconda3\\lib\\site-packages\\sklearn\\utils\\validation.py:72: DataConversionWarning: A column-vector y was passed when a 1d array was expected. Please change the shape of y to (n_samples, ), for example using ravel().\n",
      "  return f(**kwargs)\n",
      "C:\\Users\\Nupur\\anaconda3\\lib\\site-packages\\pandas\\core\\computation\\expressions.py:203: UserWarning: evaluating in Python space because the '*' operator is not supported by numexpr for the bool dtype, use '&' instead\n",
      "  warnings.warn(\n"
     ]
    }
   ],
   "source": [
    "causal_estimate1 = model1.estimate_effect(identified_estimand1,\n",
    "        method_name=\"backdoor.propensity_score_stratification\")\n",
    "print(causal_estimate1)\n",
    "print(\"Causal Estimate is \" + str(causal_estimate1.value))"
   ]
  },
  {
   "cell_type": "markdown",
   "metadata": {},
   "source": [
    "**Treatment - Income**"
   ]
  },
  {
   "cell_type": "code",
   "execution_count": 42,
   "metadata": {},
   "outputs": [
    {
     "name": "stderr",
     "output_type": "stream",
     "text": [
      "WARNING:dowhy.causal_model:Causal Graph not provided. DoWhy will construct a graph based on data inputs.\n",
      "INFO:dowhy.causal_graph:If this is observed data (not from a randomized experiment), there might always be missing confounders. Adding a node named \"Unobserved Confounders\" to reflect this.\n",
      "INFO:dowhy.causal_model:Model to find the causal effect of treatment ['Income'] on outcome ['Response']\n",
      "WARNING:dowhy.causal_graph:Warning: Pygraphviz cannot be loaded. Check that graphviz and pygraphviz are installed.\n",
      "INFO:dowhy.causal_graph:Using Matplotlib for plotting\n"
     ]
    },
    {
     "data": {
      "image/png": "[encoded data removed]",
      "text/plain": [
       "<Figure size 432x288 with 1 Axes>"
      ]
     },
     "metadata": {},
     "output_type": "display_data"
    }
   ],
   "source": [
    "model2= CausalModel(\n",
    "        data=clv_clean,\n",
    "        treatment='Income',\n",
    "        outcome=\"Response\",\n",
    "        common_causes=['Renew Offer Type','Monthly Premium Auto','Number of Open Complaints','Total Claim Amount','Coverage','EmploymentStatus',\n",
    "                      'Gender','Vehicle Size','Number of Policies'])\n",
    "model2.view_model()"
   ]
  },
  {
   "cell_type": "code",
   "execution_count": 43,
   "metadata": {},
   "outputs": [
    {
     "name": "stderr",
     "output_type": "stream",
     "text": [
      "WARNING:dowhy.causal_identifier:If this is observed data (not from a randomized experiment), there might always be missing confounders. Causal effect cannot be identified perfectly.\n",
      "INFO:dowhy.causal_identifier:Continuing by ignoring these unobserved confounders because proceed_when_unidentifiable flag is True.\n",
      "INFO:dowhy.causal_identifier:Instrumental variables for treatment and outcome:[]\n",
      "INFO:dowhy.causal_identifier:Frontdoor variables for treatment and outcome:[]\n"
     ]
    },
    {
     "name": "stdout",
     "output_type": "stream",
     "text": [
      "Estimand type: nonparametric-ate\n",
      "\n",
      "### Estimand : 1\n",
      "Estimand name: backdoor1 (Default)\n",
      "Estimand expression:\n",
      "    d                                                                         \n",
      "─────────(Expectation(Response|Coverage,Monthly Premium Auto,Renew Offer Type,\n",
      "d[Income]                                                                     \n",
      "\n",
      "                                                                              \n",
      "Gender,Total Claim Amount,Number of Open Complaints,EmploymentStatus,Number of\n",
      "                                                                              \n",
      "\n",
      "                        \n",
      " Policies,Vehicle Size))\n",
      "                        \n",
      "Estimand assumption 1, Unconfoundedness: If U→{Income} and U→Response then P(Response|Income,Coverage,Monthly Premium Auto,Renew Offer Type,Gender,Total Claim Amount,Number of Open Complaints,EmploymentStatus,Number of Policies,Vehicle Size,U) = P(Response|Income,Coverage,Monthly Premium Auto,Renew Offer Type,Gender,Total Claim Amount,Number of Open Complaints,EmploymentStatus,Number of Policies,Vehicle Size)\n",
      "\n",
      "### Estimand : 2\n",
      "Estimand name: iv\n",
      "No such variable found!\n",
      "\n",
      "### Estimand : 3\n",
      "Estimand name: frontdoor\n",
      "No such variable found!\n",
      "\n"
     ]
    }
   ],
   "source": [
    "identified_estimand2 = model2.identify_effect(proceed_when_unidentifiable=True)\n",
    "print(identified_estimand2)"
   ]
  },
  {
   "cell_type": "code",
   "execution_count": 44,
   "metadata": {},
   "outputs": [
    {
     "name": "stderr",
     "output_type": "stream",
     "text": [
      "INFO:dowhy.causal_estimator:b: Response~Income+Coverage+Monthly Premium Auto+Renew Offer Type+Gender+Total Claim Amount+Number of Open Complaints+EmploymentStatus+Number of Policies+Vehicle Size\n",
      "INFO:dowhy.causal_estimator:INFO: Using Linear Regression Estimator\n"
     ]
    },
    {
     "name": "stdout",
     "output_type": "stream",
     "text": [
      "*** Causal Estimate ***\n",
      "\n",
      "## Identified estimand\n",
      "Estimand type: nonparametric-ate\n",
      "\n",
      "## Realized estimand\n",
      "b: Response~Income+Coverage+Monthly Premium Auto+Renew Offer Type+Gender+Total Claim Amount+Number of Open Complaints+EmploymentStatus+Number of Policies+Vehicle Size\n",
      "Target units: ate\n",
      "\n",
      "## Estimate\n",
      "Mean value: 2.761591893496451e-07\n",
      "p-value: [0.03149929]\n",
      "\n",
      "Causal Estimate is 2.761591893496451e-07\n"
     ]
    }
   ],
   "source": [
    "causal_estimate2 = model2.estimate_effect(identified_estimand2,\n",
    "        method_name=\"backdoor.linear_regression\",test_significance=True)\n",
    "print(causal_estimate2)\n",
    "print(\"Causal Estimate is \" + str(causal_estimate2.value))"
   ]
  },
  {
   "cell_type": "markdown",
   "metadata": {},
   "source": [
    "**Treatment - Monthly Premium Auto**"
   ]
  },
  {
   "cell_type": "code",
   "execution_count": 45,
   "metadata": {},
   "outputs": [
    {
     "name": "stderr",
     "output_type": "stream",
     "text": [
      "WARNING:dowhy.causal_model:Causal Graph not provided. DoWhy will construct a graph based on data inputs.\n",
      "INFO:dowhy.causal_graph:If this is observed data (not from a randomized experiment), there might always be missing confounders. Adding a node named \"Unobserved Confounders\" to reflect this.\n",
      "INFO:dowhy.causal_model:Model to find the causal effect of treatment ['Monthly Premium Auto'] on outcome ['Response']\n",
      "WARNING:dowhy.causal_graph:Warning: Pygraphviz cannot be loaded. Check that graphviz and pygraphviz are installed.\n",
      "INFO:dowhy.causal_graph:Using Matplotlib for plotting\n"
     ]
    },
    {
     "data": {
      "image/png": "[encoded data removed]",
      "text/plain": [
       "<Figure size 432x288 with 1 Axes>"
      ]
     },
     "metadata": {},
     "output_type": "display_data"
    }
   ],
   "source": [
    "model3= CausalModel(\n",
    "        data=clv_clean,\n",
    "        treatment='Monthly Premium Auto',\n",
    "        outcome=\"Response\",\n",
    "        common_causes=['Renew Offer Type','Income','Number of Open Complaints','Total Claim Amount','Coverage','EmploymentStatus',\n",
    "                      'Gender','Vehicle Size','Number of Policies'])\n",
    "model3.view_model()"
   ]
  },
  {
   "cell_type": "code",
   "execution_count": 46,
   "metadata": {},
   "outputs": [
    {
     "name": "stderr",
     "output_type": "stream",
     "text": [
      "WARNING:dowhy.causal_identifier:If this is observed data (not from a randomized experiment), there might always be missing confounders. Causal effect cannot be identified perfectly.\n",
      "INFO:dowhy.causal_identifier:Continuing by ignoring these unobserved confounders because proceed_when_unidentifiable flag is True.\n",
      "INFO:dowhy.causal_identifier:Instrumental variables for treatment and outcome:[]\n",
      "INFO:dowhy.causal_identifier:Frontdoor variables for treatment and outcome:[]\n"
     ]
    },
    {
     "name": "stdout",
     "output_type": "stream",
     "text": [
      "Estimand type: nonparametric-ate\n",
      "\n",
      "### Estimand : 1\n",
      "Estimand name: backdoor1 (Default)\n",
      "Estimand expression:\n",
      "           d                                                                  \n",
      "───────────────────────(Expectation(Response|Coverage,Renew Offer Type,Gender,\n",
      "d[Monthly Premium Auto]                                                       \n",
      "\n",
      "                                                                              \n",
      "Total Claim Amount,Income,Number of Open Complaints,EmploymentStatus,Number of\n",
      "                                                                              \n",
      "\n",
      "                        \n",
      " Policies,Vehicle Size))\n",
      "                        \n",
      "Estimand assumption 1, Unconfoundedness: If U→{Monthly Premium Auto} and U→Response then P(Response|Monthly Premium Auto,Coverage,Renew Offer Type,Gender,Total Claim Amount,Income,Number of Open Complaints,EmploymentStatus,Number of Policies,Vehicle Size,U) = P(Response|Monthly Premium Auto,Coverage,Renew Offer Type,Gender,Total Claim Amount,Income,Number of Open Complaints,EmploymentStatus,Number of Policies,Vehicle Size)\n",
      "\n",
      "### Estimand : 2\n",
      "Estimand name: iv\n",
      "No such variable found!\n",
      "\n",
      "### Estimand : 3\n",
      "Estimand name: frontdoor\n",
      "No such variable found!\n",
      "\n"
     ]
    }
   ],
   "source": [
    "identified_estimand3 = model3.identify_effect(proceed_when_unidentifiable=True)\n",
    "print(identified_estimand3)"
   ]
  },
  {
   "cell_type": "code",
   "execution_count": 47,
   "metadata": {},
   "outputs": [
    {
     "name": "stderr",
     "output_type": "stream",
     "text": [
      "INFO:dowhy.causal_estimator:b: Response~Monthly Premium Auto+Coverage+Renew Offer Type+Gender+Total Claim Amount+Income+Number of Open Complaints+EmploymentStatus+Number of Policies+Vehicle Size\n",
      "INFO:dowhy.causal_estimator:INFO: Using Linear Regression Estimator\n"
     ]
    },
    {
     "name": "stdout",
     "output_type": "stream",
     "text": [
      "*** Causal Estimate ***\n",
      "\n",
      "## Identified estimand\n",
      "Estimand type: nonparametric-ate\n",
      "\n",
      "## Realized estimand\n",
      "b: Response~Monthly Premium Auto+Coverage+Renew Offer Type+Gender+Total Claim Amount+Income+Number of Open Complaints+EmploymentStatus+Number of Policies+Vehicle Size\n",
      "Target units: ate\n",
      "\n",
      "## Estimate\n",
      "Mean value: 0.00016161019004101718\n",
      "p-value: [0.26023053]\n",
      "\n",
      "Causal Estimate is 0.00016161019004101718\n"
     ]
    }
   ],
   "source": [
    "causal_estimate3 = model3.estimate_effect(identified_estimand3,\n",
    "        method_name=\"backdoor.linear_regression\",test_significance=True)\n",
    "print(causal_estimate3)\n",
    "print(\"Causal Estimate is \" + str(causal_estimate3.value))"
   ]
  },
  {
   "cell_type": "markdown",
   "metadata": {},
   "source": [
    "**Treatment - Number of Open Complaints**"
   ]
  },
  {
   "cell_type": "code",
   "execution_count": 48,
   "metadata": {},
   "outputs": [
    {
     "name": "stderr",
     "output_type": "stream",
     "text": [
      "WARNING:dowhy.causal_model:Causal Graph not provided. DoWhy will construct a graph based on data inputs.\n",
      "INFO:dowhy.causal_graph:If this is observed data (not from a randomized experiment), there might always be missing confounders. Adding a node named \"Unobserved Confounders\" to reflect this.\n",
      "INFO:dowhy.causal_model:Model to find the causal effect of treatment ['Number of Open Complaints'] on outcome ['Response']\n",
      "WARNING:dowhy.causal_graph:Warning: Pygraphviz cannot be loaded. Check that graphviz and pygraphviz are installed.\n",
      "INFO:dowhy.causal_graph:Using Matplotlib for plotting\n"
     ]
    },
    {
     "data": {
      "image/png": "[encoded data removed]",
      "text/plain": [
       "<Figure size 432x288 with 1 Axes>"
      ]
     },
     "metadata": {},
     "output_type": "display_data"
    }
   ],
   "source": [
    "model5= CausalModel(\n",
    "        data=clv_clean,\n",
    "        treatment='Number of Open Complaints',\n",
    "        outcome=\"Response\",\n",
    "        common_causes=['Renew Offer Type','Income','Total Claim Amount','Coverage','EmploymentStatus',\n",
    "                      'Gender','Vehicle Size','Monthly Premium Auto','Number of Policies'])\n",
    "model5.view_model()"
   ]
  },
  {
   "cell_type": "code",
   "execution_count": 49,
   "metadata": {},
   "outputs": [
    {
     "name": "stderr",
     "output_type": "stream",
     "text": [
      "WARNING:dowhy.causal_identifier:If this is observed data (not from a randomized experiment), there might always be missing confounders. Causal effect cannot be identified perfectly.\n",
      "INFO:dowhy.causal_identifier:Continuing by ignoring these unobserved confounders because proceed_when_unidentifiable flag is True.\n",
      "INFO:dowhy.causal_identifier:Instrumental variables for treatment and outcome:[]\n",
      "INFO:dowhy.causal_identifier:Frontdoor variables for treatment and outcome:[]\n"
     ]
    },
    {
     "name": "stdout",
     "output_type": "stream",
     "text": [
      "Estimand type: nonparametric-ate\n",
      "\n",
      "### Estimand : 1\n",
      "Estimand name: backdoor1 (Default)\n",
      "Estimand expression:\n",
      "             d                                                                \n",
      "────────────────────────────(Expectation(Response|Coverage,Renew Offer Type,Mo\n",
      "d[Number of Open Complaints]                                                  \n",
      "\n",
      "                                                                              \n",
      "nthly Premium Auto,Gender,Total Claim Amount,Income,EmploymentStatus,Number of\n",
      "                                                                              \n",
      "\n",
      "                        \n",
      " Policies,Vehicle Size))\n",
      "                        \n",
      "Estimand assumption 1, Unconfoundedness: If U→{Number of Open Complaints} and U→Response then P(Response|Number of Open Complaints,Coverage,Renew Offer Type,Monthly Premium Auto,Gender,Total Claim Amount,Income,EmploymentStatus,Number of Policies,Vehicle Size,U) = P(Response|Number of Open Complaints,Coverage,Renew Offer Type,Monthly Premium Auto,Gender,Total Claim Amount,Income,EmploymentStatus,Number of Policies,Vehicle Size)\n",
      "\n",
      "### Estimand : 2\n",
      "Estimand name: iv\n",
      "No such variable found!\n",
      "\n",
      "### Estimand : 3\n",
      "Estimand name: frontdoor\n",
      "No such variable found!\n",
      "\n"
     ]
    }
   ],
   "source": [
    "identified_estimand5 = model5.identify_effect(proceed_when_unidentifiable=True)\n",
    "print(identified_estimand5)"
   ]
  },
  {
   "cell_type": "code",
   "execution_count": 50,
   "metadata": {},
   "outputs": [
    {
     "name": "stderr",
     "output_type": "stream",
     "text": [
      "INFO:dowhy.causal_estimator:b: Response~Number of Open Complaints+Coverage+Renew Offer Type+Monthly Premium Auto+Gender+Total Claim Amount+Income+EmploymentStatus+Number of Policies+Vehicle Size\n",
      "INFO:dowhy.causal_estimator:INFO: Using Linear Regression Estimator\n"
     ]
    },
    {
     "name": "stdout",
     "output_type": "stream",
     "text": [
      "*** Causal Estimate ***\n",
      "\n",
      "## Identified estimand\n",
      "Estimand type: nonparametric-ate\n",
      "\n",
      "## Realized estimand\n",
      "b: Response~Number of Open Complaints+Coverage+Renew Offer Type+Monthly Premium Auto+Gender+Total Claim Amount+Income+EmploymentStatus+Number of Policies+Vehicle Size\n",
      "Target units: ate\n",
      "\n",
      "## Estimate\n",
      "Mean value: -0.0007171882947570318\n",
      "p-value: [0.84939671]\n",
      "\n",
      "Causal Estimate is -0.0007171882947570318\n"
     ]
    }
   ],
   "source": [
    "causal_estimate5 = model5.estimate_effect(identified_estimand5,\n",
    "        method_name=\"backdoor.linear_regression\",test_significance=True)\n",
    "print(causal_estimate5)\n",
    "print(\"Causal Estimate is \" + str(causal_estimate5.value))"
   ]
  },
  {
   "cell_type": "markdown",
   "metadata": {},
   "source": [
    "**Treatment - Number of Policies**"
   ]
  },
  {
   "cell_type": "code",
   "execution_count": 51,
   "metadata": {},
   "outputs": [
    {
     "name": "stderr",
     "output_type": "stream",
     "text": [
      "WARNING:dowhy.causal_model:Causal Graph not provided. DoWhy will construct a graph based on data inputs.\n",
      "INFO:dowhy.causal_graph:If this is observed data (not from a randomized experiment), there might always be missing confounders. Adding a node named \"Unobserved Confounders\" to reflect this.\n",
      "INFO:dowhy.causal_model:Model to find the causal effect of treatment ['Number of Policies'] on outcome ['Response']\n",
      "WARNING:dowhy.causal_graph:Warning: Pygraphviz cannot be loaded. Check that graphviz and pygraphviz are installed.\n",
      "INFO:dowhy.causal_graph:Using Matplotlib for plotting\n"
     ]
    },
    {
     "data": {
      "image/png": "[encoded data removed]",
      "text/plain": [
       "<Figure size 432x288 with 1 Axes>"
      ]
     },
     "metadata": {},
     "output_type": "display_data"
    }
   ],
   "source": [
    "model6= CausalModel(\n",
    "        data=clv_clean,\n",
    "        treatment='Number of Policies',\n",
    "        outcome=\"Response\",\n",
    "        common_causes=['Renew Offer Type','Income','Number of Open Complaints','Total Claim Amount','Coverage','EmploymentStatus',\n",
    "                      'Gender','Vehicle Size','Monthly Premium Auto'])\n",
    "model6.view_model()"
   ]
  },
  {
   "cell_type": "code",
   "execution_count": 52,
   "metadata": {},
   "outputs": [
    {
     "name": "stderr",
     "output_type": "stream",
     "text": [
      "WARNING:dowhy.causal_identifier:If this is observed data (not from a randomized experiment), there might always be missing confounders. Causal effect cannot be identified perfectly.\n",
      "INFO:dowhy.causal_identifier:Continuing by ignoring these unobserved confounders because proceed_when_unidentifiable flag is True.\n",
      "INFO:dowhy.causal_identifier:Instrumental variables for treatment and outcome:[]\n",
      "INFO:dowhy.causal_identifier:Frontdoor variables for treatment and outcome:[]\n"
     ]
    },
    {
     "name": "stdout",
     "output_type": "stream",
     "text": [
      "Estimand type: nonparametric-ate\n",
      "\n",
      "### Estimand : 1\n",
      "Estimand name: backdoor1 (Default)\n",
      "Estimand expression:\n",
      "          d                                                                   \n",
      "─────────────────────(Expectation(Response|Coverage,Renew Offer Type,Monthly P\n",
      "d[Number of Policies]                                                         \n",
      "\n",
      "                                                                              \n",
      "remium Auto,Gender,Total Claim Amount,Income,Number of Open Complaints,Employm\n",
      "                                                                              \n",
      "\n",
      "                        \n",
      "entStatus,Vehicle Size))\n",
      "                        \n",
      "Estimand assumption 1, Unconfoundedness: If U→{Number of Policies} and U→Response then P(Response|Number of Policies,Coverage,Renew Offer Type,Monthly Premium Auto,Gender,Total Claim Amount,Income,Number of Open Complaints,EmploymentStatus,Vehicle Size,U) = P(Response|Number of Policies,Coverage,Renew Offer Type,Monthly Premium Auto,Gender,Total Claim Amount,Income,Number of Open Complaints,EmploymentStatus,Vehicle Size)\n",
      "\n",
      "### Estimand : 2\n",
      "Estimand name: iv\n",
      "No such variable found!\n",
      "\n",
      "### Estimand : 3\n",
      "Estimand name: frontdoor\n",
      "No such variable found!\n",
      "\n"
     ]
    }
   ],
   "source": [
    "identified_estimand6 = model6.identify_effect(proceed_when_unidentifiable=True)\n",
    "print(identified_estimand6)"
   ]
  },
  {
   "cell_type": "code",
   "execution_count": 53,
   "metadata": {},
   "outputs": [
    {
     "name": "stderr",
     "output_type": "stream",
     "text": [
      "INFO:dowhy.causal_estimator:b: Response~Number of Policies+Coverage+Renew Offer Type+Monthly Premium Auto+Gender+Total Claim Amount+Income+Number of Open Complaints+EmploymentStatus+Vehicle Size\n",
      "INFO:dowhy.causal_estimator:INFO: Using Linear Regression Estimator\n"
     ]
    },
    {
     "name": "stdout",
     "output_type": "stream",
     "text": [
      "*** Causal Estimate ***\n",
      "\n",
      "## Identified estimand\n",
      "Estimand type: nonparametric-ate\n",
      "\n",
      "## Realized estimand\n",
      "b: Response~Number of Policies+Coverage+Renew Offer Type+Monthly Premium Auto+Gender+Total Claim Amount+Income+Number of Open Complaints+EmploymentStatus+Vehicle Size\n",
      "Target units: ate\n",
      "\n",
      "## Estimate\n",
      "Mean value: -0.0006524961648662897\n",
      "p-value: [0.65021955]\n",
      "\n",
      "Causal Estimate is -0.0006524961648662897\n"
     ]
    }
   ],
   "source": [
    "causal_estimate6 = model6.estimate_effect(identified_estimand6,\n",
    "        method_name=\"backdoor.linear_regression\",test_significance=True)\n",
    "print(causal_estimate6)\n",
    "print(\"Causal Estimate is \" + str(causal_estimate6.value))"
   ]
  },
  {
   "cell_type": "markdown",
   "metadata": {},
   "source": [
    "**Treatment - Total Claim Amount**"
   ]
  },
  {
   "cell_type": "code",
   "execution_count": 54,
   "metadata": {},
   "outputs": [
    {
     "name": "stderr",
     "output_type": "stream",
     "text": [
      "WARNING:dowhy.causal_model:Causal Graph not provided. DoWhy will construct a graph based on data inputs.\n",
      "INFO:dowhy.causal_graph:If this is observed data (not from a randomized experiment), there might always be missing confounders. Adding a node named \"Unobserved Confounders\" to reflect this.\n",
      "INFO:dowhy.causal_model:Model to find the causal effect of treatment ['Total Claim Amount'] on outcome ['Response']\n",
      "WARNING:dowhy.causal_graph:Warning: Pygraphviz cannot be loaded. Check that graphviz and pygraphviz are installed.\n",
      "INFO:dowhy.causal_graph:Using Matplotlib for plotting\n"
     ]
    },
    {
     "data": {
      "image/png": "[encoded data removed]",
      "text/plain": [
       "<Figure size 432x288 with 1 Axes>"
      ]
     },
     "metadata": {},
     "output_type": "display_data"
    }
   ],
   "source": [
    "model7= CausalModel(\n",
    "        data=clv_clean,\n",
    "        treatment='Total Claim Amount',\n",
    "        outcome=\"Response\",\n",
    "        common_causes=['Renew Offer Type','Income','Number of Open Complaints','Number of Policies','Coverage','EmploymentStatus',\n",
    "                      'Gender','Vehicle Size','Monthly Premium Auto'])\n",
    "model7.view_model()"
   ]
  },
  {
   "cell_type": "code",
   "execution_count": 55,
   "metadata": {},
   "outputs": [
    {
     "name": "stderr",
     "output_type": "stream",
     "text": [
      "WARNING:dowhy.causal_identifier:If this is observed data (not from a randomized experiment), there might always be missing confounders. Causal effect cannot be identified perfectly.\n",
      "INFO:dowhy.causal_identifier:Continuing by ignoring these unobserved confounders because proceed_when_unidentifiable flag is True.\n",
      "INFO:dowhy.causal_identifier:Instrumental variables for treatment and outcome:[]\n",
      "INFO:dowhy.causal_identifier:Frontdoor variables for treatment and outcome:[]\n"
     ]
    },
    {
     "name": "stdout",
     "output_type": "stream",
     "text": [
      "Estimand type: nonparametric-ate\n",
      "\n",
      "### Estimand : 1\n",
      "Estimand name: backdoor1 (Default)\n",
      "Estimand expression:\n",
      "          d                                                                   \n",
      "─────────────────────(Expectation(Response|Coverage,Renew Offer Type,Monthly P\n",
      "d[Total Claim Amount]                                                         \n",
      "\n",
      "                                                                              \n",
      "remium Auto,Gender,Income,Number of Open Complaints,EmploymentStatus,Number of\n",
      "                                                                              \n",
      "\n",
      "                        \n",
      " Policies,Vehicle Size))\n",
      "                        \n",
      "Estimand assumption 1, Unconfoundedness: If U→{Total Claim Amount} and U→Response then P(Response|Total Claim Amount,Coverage,Renew Offer Type,Monthly Premium Auto,Gender,Income,Number of Open Complaints,EmploymentStatus,Number of Policies,Vehicle Size,U) = P(Response|Total Claim Amount,Coverage,Renew Offer Type,Monthly Premium Auto,Gender,Income,Number of Open Complaints,EmploymentStatus,Number of Policies,Vehicle Size)\n",
      "\n",
      "### Estimand : 2\n",
      "Estimand name: iv\n",
      "No such variable found!\n",
      "\n",
      "### Estimand : 3\n",
      "Estimand name: frontdoor\n",
      "No such variable found!\n",
      "\n"
     ]
    }
   ],
   "source": [
    "identified_estimand7 = model7.identify_effect(proceed_when_unidentifiable=True)\n",
    "print(identified_estimand7)"
   ]
  },
  {
   "cell_type": "code",
   "execution_count": 57,
   "metadata": {
    "scrolled": true
   },
   "outputs": [
    {
     "name": "stderr",
     "output_type": "stream",
     "text": [
      "INFO:dowhy.causal_estimator:b: Response~Total Claim Amount+Coverage+Renew Offer Type+Monthly Premium Auto+Gender+Income+Number of Open Complaints+EmploymentStatus+Number of Policies+Vehicle Size\n",
      "INFO:dowhy.causal_estimator:INFO: Using Linear Regression Estimator\n"
     ]
    },
    {
     "name": "stdout",
     "output_type": "stream",
     "text": [
      "*** Causal Estimate ***\n",
      "\n",
      "## Identified estimand\n",
      "Estimand type: nonparametric-ate\n",
      "\n",
      "## Realized estimand\n",
      "b: Response~Total Claim Amount+Coverage+Renew Offer Type+Monthly Premium Auto+Gender+Income+Number of Open Complaints+EmploymentStatus+Number of Policies+Vehicle Size\n",
      "Target units: ate\n",
      "\n",
      "## Estimate\n",
      "Mean value: 2.5645605327972998e-05\n",
      "p-value: [0.13826636]\n",
      "\n",
      "Causal Estimate is 2.5645605327972998e-05\n"
     ]
    }
   ],
   "source": [
    "causal_estimate7 = model7.estimate_effect(identified_estimand7,\n",
    "        method_name=\"backdoor.linear_regression\",test_significance=True)\n",
    "print(causal_estimate7)\n",
    "print(\"Causal Estimate is \" + str(causal_estimate7.value))"
   ]
  },
  {
   "cell_type": "markdown",
   "metadata": {},
   "source": [
    "**Treatment - EmploymentStatus-Retired vs Others**"
   ]
  },
  {
   "cell_type": "code",
   "execution_count": 58,
   "metadata": {},
   "outputs": [
    {
     "name": "stderr",
     "output_type": "stream",
     "text": [
      "WARNING:dowhy.causal_model:Causal Graph not provided. DoWhy will construct a graph based on data inputs.\n",
      "INFO:dowhy.causal_graph:If this is observed data (not from a randomized experiment), there might always be missing confounders. Adding a node named \"Unobserved Confounders\" to reflect this.\n",
      "INFO:dowhy.causal_model:Model to find the causal effect of treatment ['EmploymentStatus'] on outcome ['Response']\n",
      "WARNING:dowhy.causal_graph:Warning: Pygraphviz cannot be loaded. Check that graphviz and pygraphviz are installed.\n",
      "INFO:dowhy.causal_graph:Using Matplotlib for plotting\n"
     ]
    },
    {
     "data": {
      "image/png": "[encoded data removed]",
      "text/plain": [
       "<Figure size 432x288 with 1 Axes>"
      ]
     },
     "metadata": {},
     "output_type": "display_data"
    }
   ],
   "source": [
    "model8= CausalModel(\n",
    "        data=clv_clean,\n",
    "        treatment='EmploymentStatus',\n",
    "        outcome=\"Response\",\n",
    "        common_causes=['Income','Monthly Premium Auto','Number of Open Complaints','Total Claim Amount','Coverage','Gender',\n",
    "                      'Renew Offer Type','Vehicle Size','Number of Policies'])\n",
    "model8.view_model()"
   ]
  },
  {
   "cell_type": "code",
   "execution_count": 59,
   "metadata": {},
   "outputs": [
    {
     "name": "stderr",
     "output_type": "stream",
     "text": [
      "WARNING:dowhy.causal_identifier:If this is observed data (not from a randomized experiment), there might always be missing confounders. Causal effect cannot be identified perfectly.\n",
      "INFO:dowhy.causal_identifier:Continuing by ignoring these unobserved confounders because proceed_when_unidentifiable flag is True.\n",
      "INFO:dowhy.causal_identifier:Instrumental variables for treatment and outcome:[]\n",
      "INFO:dowhy.causal_identifier:Frontdoor variables for treatment and outcome:[]\n"
     ]
    },
    {
     "name": "stdout",
     "output_type": "stream",
     "text": [
      "Estimand type: nonparametric-ate\n",
      "\n",
      "### Estimand : 1\n",
      "Estimand name: backdoor1 (Default)\n",
      "Estimand expression:\n",
      "         d                                                                    \n",
      "───────────────────(Expectation(Response|Coverage,Monthly Premium Auto,Renew O\n",
      "d[EmploymentStatus]                                                           \n",
      "\n",
      "                                                                              \n",
      "ffer Type,Gender,Total Claim Amount,Income,Number of Open Complaints,Number of\n",
      "                                                                              \n",
      "\n",
      "                        \n",
      " Policies,Vehicle Size))\n",
      "                        \n",
      "Estimand assumption 1, Unconfoundedness: If U→{EmploymentStatus} and U→Response then P(Response|EmploymentStatus,Coverage,Monthly Premium Auto,Renew Offer Type,Gender,Total Claim Amount,Income,Number of Open Complaints,Number of Policies,Vehicle Size,U) = P(Response|EmploymentStatus,Coverage,Monthly Premium Auto,Renew Offer Type,Gender,Total Claim Amount,Income,Number of Open Complaints,Number of Policies,Vehicle Size)\n",
      "\n",
      "### Estimand : 2\n",
      "Estimand name: iv\n",
      "No such variable found!\n",
      "\n",
      "### Estimand : 3\n",
      "Estimand name: frontdoor\n",
      "No such variable found!\n",
      "\n"
     ]
    }
   ],
   "source": [
    "identified_estimand8 = model8.identify_effect(proceed_when_unidentifiable=True)\n",
    "print(identified_estimand8)"
   ]
  },
  {
   "cell_type": "code",
   "execution_count": 60,
   "metadata": {
    "scrolled": true
   },
   "outputs": [
    {
     "name": "stderr",
     "output_type": "stream",
     "text": [
      "INFO:dowhy.causal_estimator:INFO: Using Propensity Score Stratification Estimator\n",
      "INFO:dowhy.causal_estimator:b: Response~EmploymentStatus+Coverage+Monthly Premium Auto+Renew Offer Type+Gender+Total Claim Amount+Income+Number of Open Complaints+Number of Policies+Vehicle Size\n",
      "C:\\Users\\Nupur\\anaconda3\\lib\\site-packages\\sklearn\\utils\\validation.py:72: DataConversionWarning: A column-vector y was passed when a 1d array was expected. Please change the shape of y to (n_samples, ), for example using ravel().\n",
      "  return f(**kwargs)\n",
      "C:\\Users\\Nupur\\anaconda3\\lib\\site-packages\\pandas\\core\\computation\\expressions.py:203: UserWarning: evaluating in Python space because the '*' operator is not supported by numexpr for the bool dtype, use '&' instead\n",
      "  warnings.warn(\n"
     ]
    },
    {
     "name": "stdout",
     "output_type": "stream",
     "text": [
      "*** Causal Estimate ***\n",
      "\n",
      "## Identified estimand\n",
      "Estimand type: nonparametric-ate\n",
      "\n",
      "## Realized estimand\n",
      "b: Response~EmploymentStatus+Coverage+Monthly Premium Auto+Renew Offer Type+Gender+Total Claim Amount+Income+Number of Open Complaints+Number of Policies+Vehicle Size\n",
      "Target units: ate\n",
      "\n",
      "## Estimate\n",
      "Mean value: 0.6865826321132407\n",
      "\n",
      "Causal Estimate is 0.6865826321132407\n"
     ]
    }
   ],
   "source": [
    "causal_estimate8 = model8.estimate_effect(identified_estimand8,\n",
    "        method_name=\"backdoor.propensity_score_stratification\")\n",
    "print(causal_estimate8)\n",
    "print(\"Causal Estimate is \" + str(causal_estimate8.value))"
   ]
  },
  {
   "cell_type": "markdown",
   "metadata": {},
   "source": [
    "**Treatment - Renew Offer Type- Offer2 vs Others**"
   ]
  },
  {
   "cell_type": "code",
   "execution_count": 61,
   "metadata": {},
   "outputs": [
    {
     "name": "stderr",
     "output_type": "stream",
     "text": [
      "WARNING:dowhy.causal_model:Causal Graph not provided. DoWhy will construct a graph based on data inputs.\n",
      "INFO:dowhy.causal_graph:If this is observed data (not from a randomized experiment), there might always be missing confounders. Adding a node named \"Unobserved Confounders\" to reflect this.\n",
      "INFO:dowhy.causal_model:Model to find the causal effect of treatment ['Renew Offer Type'] on outcome ['Response']\n",
      "WARNING:dowhy.causal_graph:Warning: Pygraphviz cannot be loaded. Check that graphviz and pygraphviz are installed.\n",
      "INFO:dowhy.causal_graph:Using Matplotlib for plotting\n"
     ]
    },
    {
     "data": {
      "image/png": "[encoded data removed]",
      "text/plain": [
       "<Figure size 432x288 with 1 Axes>"
      ]
     },
     "metadata": {},
     "output_type": "display_data"
    }
   ],
   "source": [
    "model9= CausalModel(\n",
    "        data=clv_clean,\n",
    "        treatment='Renew Offer Type',\n",
    "        outcome=\"Response\",\n",
    "        common_causes=['Income','Monthly Premium Auto','Number of Open Complaints','Total Claim Amount','Coverage','Gender',\n",
    "                      'EmploymentStatus','Vehicle Size','Number of Policies'])\n",
    "model9.view_model()"
   ]
  },
  {
   "cell_type": "code",
   "execution_count": 62,
   "metadata": {},
   "outputs": [
    {
     "name": "stderr",
     "output_type": "stream",
     "text": [
      "WARNING:dowhy.causal_identifier:If this is observed data (not from a randomized experiment), there might always be missing confounders. Causal effect cannot be identified perfectly.\n",
      "INFO:dowhy.causal_identifier:Continuing by ignoring these unobserved confounders because proceed_when_unidentifiable flag is True.\n",
      "INFO:dowhy.causal_identifier:Instrumental variables for treatment and outcome:[]\n",
      "INFO:dowhy.causal_identifier:Frontdoor variables for treatment and outcome:[]\n"
     ]
    },
    {
     "name": "stdout",
     "output_type": "stream",
     "text": [
      "Estimand type: nonparametric-ate\n",
      "\n",
      "### Estimand : 1\n",
      "Estimand name: backdoor1 (Default)\n",
      "Estimand expression:\n",
      "         d                                                                    \n",
      "───────────────────(Expectation(Response|Coverage,Monthly Premium Auto,Gender,\n",
      "d[Renew Offer Type]                                                           \n",
      "\n",
      "                                                                              \n",
      "Total Claim Amount,Income,Number of Open Complaints,EmploymentStatus,Number of\n",
      "                                                                              \n",
      "\n",
      "                        \n",
      " Policies,Vehicle Size))\n",
      "                        \n",
      "Estimand assumption 1, Unconfoundedness: If U→{Renew Offer Type} and U→Response then P(Response|Renew Offer Type,Coverage,Monthly Premium Auto,Gender,Total Claim Amount,Income,Number of Open Complaints,EmploymentStatus,Number of Policies,Vehicle Size,U) = P(Response|Renew Offer Type,Coverage,Monthly Premium Auto,Gender,Total Claim Amount,Income,Number of Open Complaints,EmploymentStatus,Number of Policies,Vehicle Size)\n",
      "\n",
      "### Estimand : 2\n",
      "Estimand name: iv\n",
      "No such variable found!\n",
      "\n",
      "### Estimand : 3\n",
      "Estimand name: frontdoor\n",
      "No such variable found!\n",
      "\n"
     ]
    }
   ],
   "source": [
    "identified_estimand9 = model9.identify_effect(proceed_when_unidentifiable=True)\n",
    "print(identified_estimand9)"
   ]
  },
  {
   "cell_type": "code",
   "execution_count": 63,
   "metadata": {},
   "outputs": [
    {
     "name": "stderr",
     "output_type": "stream",
     "text": [
      "INFO:dowhy.causal_estimator:INFO: Using Propensity Score Stratification Estimator\n",
      "INFO:dowhy.causal_estimator:b: Response~Renew Offer Type+Coverage+Monthly Premium Auto+Gender+Total Claim Amount+Income+Number of Open Complaints+EmploymentStatus+Number of Policies+Vehicle Size\n"
     ]
    },
    {
     "name": "stdout",
     "output_type": "stream",
     "text": [
      "*** Causal Estimate ***\n",
      "\n",
      "## Identified estimand\n",
      "Estimand type: nonparametric-ate\n",
      "\n",
      "## Realized estimand\n",
      "b: Response~Renew Offer Type+Coverage+Monthly Premium Auto+Gender+Total Claim Amount+Income+Number of Open Complaints+EmploymentStatus+Number of Policies+Vehicle Size\n",
      "Target units: ate\n",
      "\n",
      "## Estimate\n",
      "Mean value: 0.1197022780411956\n",
      "\n",
      "Causal Estimate is 0.1197022780411956\n"
     ]
    },
    {
     "name": "stderr",
     "output_type": "stream",
     "text": [
      "C:\\Users\\Nupur\\anaconda3\\lib\\site-packages\\sklearn\\utils\\validation.py:72: DataConversionWarning: A column-vector y was passed when a 1d array was expected. Please change the shape of y to (n_samples, ), for example using ravel().\n",
      "  return f(**kwargs)\n",
      "C:\\Users\\Nupur\\anaconda3\\lib\\site-packages\\pandas\\core\\computation\\expressions.py:203: UserWarning: evaluating in Python space because the '*' operator is not supported by numexpr for the bool dtype, use '&' instead\n",
      "  warnings.warn(\n"
     ]
    }
   ],
   "source": [
    "causal_estimate9 = model9.estimate_effect(identified_estimand9,\n",
    "        method_name=\"backdoor.propensity_score_stratification\")\n",
    "print(causal_estimate9)\n",
    "print(\"Causal Estimate is \" + str(causal_estimate9.value))"
   ]
  },
  {
   "cell_type": "code",
   "execution_count": 65,
   "metadata": {},
   "outputs": [
    {
     "name": "stderr",
     "output_type": "stream",
     "text": [
      "WARNING:dowhy.causal_model:Causal Graph not provided. DoWhy will construct a graph based on data inputs.\n",
      "INFO:dowhy.causal_graph:If this is observed data (not from a randomized experiment), there might always be missing confounders. Adding a node named \"Unobserved Confounders\" to reflect this.\n",
      "INFO:dowhy.causal_model:Model to find the causal effect of treatment ['Coverage'] on outcome ['Response']\n",
      "WARNING:dowhy.causal_graph:Warning: Pygraphviz cannot be loaded. Check that graphviz and pygraphviz are installed.\n",
      "INFO:dowhy.causal_graph:Using Matplotlib for plotting\n"
     ]
    },
    {
     "data": {
      "image/png": "[encoded data removed]",
      "text/plain": [
       "<Figure size 432x288 with 1 Axes>"
      ]
     },
     "metadata": {},
     "output_type": "display_data"
    }
   ],
   "source": [
    "model10= CausalModel(\n",
    "        data=clv_clean,\n",
    "        treatment='Coverage',\n",
    "        outcome=\"Response\",\n",
    "        common_causes=['Income','Monthly Premium Auto','Number of Open Complaints','Total Claim Amount','Coverage','Gender',\n",
    "                      'EmploymentStatus','Vehicle Size','Number of Policies','Renew Offer Type'])\n",
    "model10.view_model()"
   ]
  },
  {
   "cell_type": "code",
   "execution_count": 66,
   "metadata": {},
   "outputs": [
    {
     "name": "stderr",
     "output_type": "stream",
     "text": [
      "WARNING:dowhy.causal_identifier:If this is observed data (not from a randomized experiment), there might always be missing confounders. Causal effect cannot be identified perfectly.\n",
      "INFO:dowhy.causal_identifier:Continuing by ignoring these unobserved confounders because proceed_when_unidentifiable flag is True.\n",
      "INFO:dowhy.causal_identifier:Instrumental variables for treatment and outcome:[]\n",
      "INFO:dowhy.causal_identifier:Frontdoor variables for treatment and outcome:[]\n"
     ]
    },
    {
     "name": "stdout",
     "output_type": "stream",
     "text": [
      "Estimand type: nonparametric-ate\n",
      "\n",
      "### Estimand : 1\n",
      "Estimand name: backdoor1 (Default)\n",
      "Estimand expression:\n",
      "     d                                                                        \n",
      "───────────(Expectation(Response|Monthly Premium Auto,Renew Offer Type,Gender,\n",
      "d[Coverage]                                                                   \n",
      "\n",
      "                                                                              \n",
      "Total Claim Amount,Income,Number of Open Complaints,EmploymentStatus,Number of\n",
      "                                                                              \n",
      "\n",
      "                        \n",
      " Policies,Vehicle Size))\n",
      "                        \n",
      "Estimand assumption 1, Unconfoundedness: If U→{Coverage} and U→Response then P(Response|Coverage,Monthly Premium Auto,Renew Offer Type,Gender,Total Claim Amount,Income,Number of Open Complaints,EmploymentStatus,Number of Policies,Vehicle Size,U) = P(Response|Coverage,Monthly Premium Auto,Renew Offer Type,Gender,Total Claim Amount,Income,Number of Open Complaints,EmploymentStatus,Number of Policies,Vehicle Size)\n",
      "\n",
      "### Estimand : 2\n",
      "Estimand name: iv\n",
      "No such variable found!\n",
      "\n",
      "### Estimand : 3\n",
      "Estimand name: frontdoor\n",
      "No such variable found!\n",
      "\n"
     ]
    }
   ],
   "source": [
    "identified_estimand10 = model10.identify_effect(proceed_when_unidentifiable=True)\n",
    "print(identified_estimand10)"
   ]
  },
  {
   "cell_type": "code",
   "execution_count": 67,
   "metadata": {},
   "outputs": [
    {
     "name": "stderr",
     "output_type": "stream",
     "text": [
      "INFO:dowhy.causal_estimator:INFO: Using Propensity Score Stratification Estimator\n",
      "INFO:dowhy.causal_estimator:b: Response~Coverage+Monthly Premium Auto+Renew Offer Type+Gender+Total Claim Amount+Income+Number of Open Complaints+EmploymentStatus+Number of Policies+Vehicle Size\n"
     ]
    },
    {
     "name": "stdout",
     "output_type": "stream",
     "text": [
      "*** Causal Estimate ***\n",
      "\n",
      "## Identified estimand\n",
      "Estimand type: nonparametric-ate\n",
      "\n",
      "## Realized estimand\n",
      "b: Response~Coverage+Monthly Premium Auto+Renew Offer Type+Gender+Total Claim Amount+Income+Number of Open Complaints+EmploymentStatus+Number of Policies+Vehicle Size\n",
      "Target units: ate\n",
      "\n",
      "## Estimate\n",
      "Mean value: 0.003762287744560183\n",
      "\n",
      "Causal Estimate is 0.003762287744560183\n"
     ]
    },
    {
     "name": "stderr",
     "output_type": "stream",
     "text": [
      "C:\\Users\\Nupur\\anaconda3\\lib\\site-packages\\sklearn\\utils\\validation.py:72: DataConversionWarning: A column-vector y was passed when a 1d array was expected. Please change the shape of y to (n_samples, ), for example using ravel().\n",
      "  return f(**kwargs)\n",
      "C:\\Users\\Nupur\\anaconda3\\lib\\site-packages\\pandas\\core\\computation\\expressions.py:203: UserWarning: evaluating in Python space because the '*' operator is not supported by numexpr for the bool dtype, use '&' instead\n",
      "  warnings.warn(\n"
     ]
    }
   ],
   "source": [
    "causal_estimate10 = model10.estimate_effect(identified_estimand10,\n",
    "        method_name=\"backdoor.propensity_score_stratification\")\n",
    "print(causal_estimate10)\n",
    "print(\"Causal Estimate is \" + str(causal_estimate10.value))"
   ]
  },
  {
   "cell_type": "code",
   "execution_count": null,
   "metadata": {},
   "outputs": [],
   "source": []
  },
  {
   "cell_type": "code",
   "execution_count": null,
   "metadata": {},
   "outputs": [],
   "source": []
  },
  {
   "cell_type": "code",
   "execution_count": null,
   "metadata": {},
   "outputs": [],
   "source": []
  },
  {
   "cell_type": "code",
   "execution_count": null,
   "metadata": {},
   "outputs": [],
   "source": []
  }
 ],
 "metadata": {
  "kernelspec": {
   "display_name": "Python 3",
   "language": "python",
   "name": "python3"
  },
  "language_info": {
   "codemirror_mode": {
    "name": "ipython",
    "version": 3
   },
   "file_extension": ".py",
   "mimetype": "text/x-python",
   "name": "python",
   "nbconvert_exporter": "python",
   "pygments_lexer": "ipython3",
   "version": "3.8.5"
  }
 },
 "nbformat": 4,
 "nbformat_minor": 4
}
