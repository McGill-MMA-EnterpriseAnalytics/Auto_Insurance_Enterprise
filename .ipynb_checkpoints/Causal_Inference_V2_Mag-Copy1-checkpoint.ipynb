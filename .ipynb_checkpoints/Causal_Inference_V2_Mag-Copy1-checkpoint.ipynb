{
 "cells": [
  {
   "cell_type": "markdown",
   "metadata": {},
   "source": [
    "# Causal Inference"
   ]
  },
  {
   "cell_type": "code",
   "execution_count": 1,
   "metadata": {},
   "outputs": [],
   "source": [
    "#Installing libraries and packages"
   ]
  },
  {
   "cell_type": "code",
   "execution_count": 2,
   "metadata": {},
   "outputs": [
    {
     "name": "stdout",
     "output_type": "stream",
     "text": [
      "Requirement already satisfied: dowhy in c:\\users\\nupur\\anaconda3\\lib\\site-packages (0.5.1)\n",
      "Requirement already satisfied: pandas>=0.24 in c:\\users\\nupur\\anaconda3\\lib\\site-packages (from dowhy) (1.1.3)\n",
      "Requirement already satisfied: sympy>=1.4 in c:\\users\\nupur\\anaconda3\\lib\\site-packages (from dowhy) (1.6.2)\n",
      "Requirement already satisfied: numpy>=1.15 in c:\\users\\nupur\\anaconda3\\lib\\site-packages (from dowhy) (1.18.5)\n",
      "Requirement already satisfied: networkx>=2.0 in c:\\users\\nupur\\anaconda3\\lib\\site-packages (from dowhy) (2.5)\n",
      "Requirement already satisfied: scikit-learn in c:\\users\\nupur\\anaconda3\\lib\\site-packages (from dowhy) (0.23.2)\n",
      "Requirement already satisfied: pydot>=1.4 in c:\\users\\nupur\\anaconda3\\lib\\site-packages (from dowhy) (1.4.1)\n",
      "Requirement already satisfied: scipy in c:\\users\\nupur\\anaconda3\\lib\\site-packages (from dowhy) (1.4.1)\n",
      "Requirement already satisfied: statsmodels in c:\\users\\nupur\\anaconda3\\lib\\site-packages (from dowhy) (0.12.0)\n",
      "Requirement already satisfied: matplotlib in c:\\users\\nupur\\anaconda3\\lib\\site-packages (from dowhy) (3.3.2)\n",
      "Requirement already satisfied: python-dateutil>=2.7.3 in c:\\users\\nupur\\anaconda3\\lib\\site-packages (from pandas>=0.24->dowhy) (2.8.1)\n",
      "Requirement already satisfied: pytz>=2017.2 in c:\\users\\nupur\\anaconda3\\lib\\site-packages (from pandas>=0.24->dowhy) (2020.1)\n",
      "Requirement already satisfied: mpmath>=0.19 in c:\\users\\nupur\\anaconda3\\lib\\site-packages (from sympy>=1.4->dowhy) (1.1.0)\n",
      "Requirement already satisfied: decorator>=4.3.0 in c:\\users\\nupur\\anaconda3\\lib\\site-packages (from networkx>=2.0->dowhy) (4.4.2)\n",
      "Requirement already satisfied: joblib>=0.11 in c:\\users\\nupur\\anaconda3\\lib\\site-packages (from scikit-learn->dowhy) (0.17.0)\n",
      "Requirement already satisfied: threadpoolctl>=2.0.0 in c:\\users\\nupur\\anaconda3\\lib\\site-packages (from scikit-learn->dowhy) (2.1.0)\n",
      "Requirement already satisfied: pyparsing>=2.1.4 in c:\\users\\nupur\\anaconda3\\lib\\site-packages (from pydot>=1.4->dowhy) (2.4.7)\n",
      "Requirement already satisfied: patsy>=0.5 in c:\\users\\nupur\\anaconda3\\lib\\site-packages (from statsmodels->dowhy) (0.5.1)\n",
      "Requirement already satisfied: pillow>=6.2.0 in c:\\users\\nupur\\anaconda3\\lib\\site-packages (from matplotlib->dowhy) (8.0.1)\n",
      "Requirement already satisfied: cycler>=0.10 in c:\\users\\nupur\\anaconda3\\lib\\site-packages (from matplotlib->dowhy) (0.10.0)\n",
      "Requirement already satisfied: kiwisolver>=1.0.1 in c:\\users\\nupur\\anaconda3\\lib\\site-packages (from matplotlib->dowhy) (1.3.0)\n",
      "Requirement already satisfied: certifi>=2020.06.20 in c:\\users\\nupur\\anaconda3\\lib\\site-packages (from matplotlib->dowhy) (2020.6.20)\n",
      "Requirement already satisfied: six>=1.5 in c:\\users\\nupur\\anaconda3\\lib\\site-packages (from python-dateutil>=2.7.3->pandas>=0.24->dowhy) (1.15.0)\n",
      "Note: you may need to restart the kernel to use updated packages.\n"
     ]
    }
   ],
   "source": [
    "pip install dowhy"
   ]
  },
  {
   "cell_type": "code",
   "execution_count": 3,
   "metadata": {},
   "outputs": [
    {
     "name": "stdout",
     "output_type": "stream",
     "text": [
      "Collecting package metadata (current_repodata.json): ...working... done\n",
      "Note: you may need to restart the kernel to use updated packages.\n",
      "Solving environment: ...working... done\n",
      "\n",
      "## Package Plan ##\n",
      "\n",
      "  environment location: C:\\Users\\Nupur\\anaconda3\n",
      "\n",
      "\n",
      "  added / updated specs:\n",
      "    - dowhy\n",
      "\n",
      "\n",
      "The following packages will be SUPERSEDED by a higher-priority channel:\n",
      "\n",
      "  conda               pkgs/main::conda-4.9.2-py38haa95532_0 --> conda-forge::conda-4.9.2-py38haa244fe_0\n",
      "\n",
      "\n",
      "Preparing transaction: ...working... done\n",
      "Verifying transaction: ...working... done\n",
      "Executing transaction: ...working... done\n"
     ]
    }
   ],
   "source": [
    "conda install -c conda-forge dowhy"
   ]
  },
  {
   "cell_type": "code",
   "execution_count": 4,
   "metadata": {},
   "outputs": [
    {
     "name": "stdout",
     "output_type": "stream",
     "text": [
      "Requirement already satisfied: graphviz in c:\\users\\nupur\\anaconda3\\lib\\site-packages (0.16)\n",
      "Note: you may need to restart the kernel to use updated packages.\n"
     ]
    }
   ],
   "source": [
    "pip install graphviz"
   ]
  },
  {
   "cell_type": "code",
   "execution_count": 1,
   "metadata": {},
   "outputs": [],
   "source": [
    "import dowhy\n",
    "from dowhy import CausalModel\n",
    "import dowhy.datasets, dowhy.plotter\n",
    "import dowhy.api\n",
    "import numpy as np\n",
    "import pandas as pd\n",
    "import matplotlib.pyplot as plt\n",
    "import math"
   ]
  },
  {
   "cell_type": "code",
   "execution_count": 45,
   "metadata": {},
   "outputs": [
    {
     "name": "stdout",
     "output_type": "stream",
     "text": [
      "The history saving thread hit an unexpected error (OperationalError('database or disk is full')).History will not be written to the database.\n"
     ]
    }
   ],
   "source": [
    "clv = pd.read_csv('data_insy695.csv')"
   ]
  },
  {
   "cell_type": "code",
   "execution_count": 46,
   "metadata": {},
   "outputs": [],
   "source": [
    "clv_clean = clv.drop(columns=[\"Customer\",\"Effective To Date\",\"Policy Type\"])"
   ]
  },
  {
   "cell_type": "code",
   "execution_count": 47,
   "metadata": {},
   "outputs": [
    {
     "data": {
      "text/html": [
       "<div>\n",
       "<style scoped>\n",
       "    .dataframe tbody tr th:only-of-type {\n",
       "        vertical-align: middle;\n",
       "    }\n",
       "\n",
       "    .dataframe tbody tr th {\n",
       "        vertical-align: top;\n",
       "    }\n",
       "\n",
       "    .dataframe thead th {\n",
       "        text-align: right;\n",
       "    }\n",
       "</style>\n",
       "<table border=\"1\" class=\"dataframe\">\n",
       "  <thead>\n",
       "    <tr style=\"text-align: right;\">\n",
       "      <th></th>\n",
       "      <th>State</th>\n",
       "      <th>Customer Lifetime Value</th>\n",
       "      <th>Response</th>\n",
       "      <th>Coverage</th>\n",
       "      <th>Education</th>\n",
       "      <th>EmploymentStatus</th>\n",
       "      <th>Gender</th>\n",
       "      <th>Income</th>\n",
       "      <th>Location Code</th>\n",
       "      <th>Marital Status</th>\n",
       "      <th>...</th>\n",
       "      <th>Months Since Last Claim</th>\n",
       "      <th>Months Since Policy Inception</th>\n",
       "      <th>Number of Open Complaints</th>\n",
       "      <th>Number of Policies</th>\n",
       "      <th>Policy</th>\n",
       "      <th>Renew Offer Type</th>\n",
       "      <th>Sales Channel</th>\n",
       "      <th>Total Claim Amount</th>\n",
       "      <th>Vehicle Class</th>\n",
       "      <th>Vehicle Size</th>\n",
       "    </tr>\n",
       "  </thead>\n",
       "  <tbody>\n",
       "    <tr>\n",
       "      <th>0</th>\n",
       "      <td>Washington</td>\n",
       "      <td>2763.519279</td>\n",
       "      <td>No</td>\n",
       "      <td>Basic</td>\n",
       "      <td>Bachelor</td>\n",
       "      <td>Employed</td>\n",
       "      <td>F</td>\n",
       "      <td>56274</td>\n",
       "      <td>Suburban</td>\n",
       "      <td>Married</td>\n",
       "      <td>...</td>\n",
       "      <td>32</td>\n",
       "      <td>5</td>\n",
       "      <td>0</td>\n",
       "      <td>1</td>\n",
       "      <td>Corporate L3</td>\n",
       "      <td>Offer1</td>\n",
       "      <td>Agent</td>\n",
       "      <td>384.811147</td>\n",
       "      <td>Two-Door Car</td>\n",
       "      <td>Medsize</td>\n",
       "    </tr>\n",
       "    <tr>\n",
       "      <th>1</th>\n",
       "      <td>Arizona</td>\n",
       "      <td>6979.535903</td>\n",
       "      <td>No</td>\n",
       "      <td>Extended</td>\n",
       "      <td>Bachelor</td>\n",
       "      <td>Unemployed</td>\n",
       "      <td>F</td>\n",
       "      <td>0</td>\n",
       "      <td>Suburban</td>\n",
       "      <td>Single</td>\n",
       "      <td>...</td>\n",
       "      <td>13</td>\n",
       "      <td>42</td>\n",
       "      <td>0</td>\n",
       "      <td>8</td>\n",
       "      <td>Personal L3</td>\n",
       "      <td>Offer3</td>\n",
       "      <td>Agent</td>\n",
       "      <td>1131.464935</td>\n",
       "      <td>Four-Door Car</td>\n",
       "      <td>Medsize</td>\n",
       "    </tr>\n",
       "    <tr>\n",
       "      <th>2</th>\n",
       "      <td>Nevada</td>\n",
       "      <td>12887.431650</td>\n",
       "      <td>No</td>\n",
       "      <td>Premium</td>\n",
       "      <td>Bachelor</td>\n",
       "      <td>Employed</td>\n",
       "      <td>F</td>\n",
       "      <td>48767</td>\n",
       "      <td>Suburban</td>\n",
       "      <td>Married</td>\n",
       "      <td>...</td>\n",
       "      <td>18</td>\n",
       "      <td>38</td>\n",
       "      <td>0</td>\n",
       "      <td>2</td>\n",
       "      <td>Personal L3</td>\n",
       "      <td>Offer1</td>\n",
       "      <td>Agent</td>\n",
       "      <td>566.472247</td>\n",
       "      <td>Two-Door Car</td>\n",
       "      <td>Medsize</td>\n",
       "    </tr>\n",
       "    <tr>\n",
       "      <th>3</th>\n",
       "      <td>California</td>\n",
       "      <td>7645.861827</td>\n",
       "      <td>No</td>\n",
       "      <td>Basic</td>\n",
       "      <td>Bachelor</td>\n",
       "      <td>Unemployed</td>\n",
       "      <td>M</td>\n",
       "      <td>0</td>\n",
       "      <td>Suburban</td>\n",
       "      <td>Married</td>\n",
       "      <td>...</td>\n",
       "      <td>18</td>\n",
       "      <td>65</td>\n",
       "      <td>0</td>\n",
       "      <td>7</td>\n",
       "      <td>Corporate L2</td>\n",
       "      <td>Offer1</td>\n",
       "      <td>Call Center</td>\n",
       "      <td>529.881344</td>\n",
       "      <td>SUV</td>\n",
       "      <td>Medsize</td>\n",
       "    </tr>\n",
       "    <tr>\n",
       "      <th>4</th>\n",
       "      <td>Washington</td>\n",
       "      <td>2813.692575</td>\n",
       "      <td>No</td>\n",
       "      <td>Basic</td>\n",
       "      <td>Bachelor</td>\n",
       "      <td>Employed</td>\n",
       "      <td>M</td>\n",
       "      <td>43836</td>\n",
       "      <td>Rural</td>\n",
       "      <td>Single</td>\n",
       "      <td>...</td>\n",
       "      <td>12</td>\n",
       "      <td>44</td>\n",
       "      <td>0</td>\n",
       "      <td>1</td>\n",
       "      <td>Personal L1</td>\n",
       "      <td>Offer1</td>\n",
       "      <td>Agent</td>\n",
       "      <td>138.130879</td>\n",
       "      <td>Four-Door Car</td>\n",
       "      <td>Medsize</td>\n",
       "    </tr>\n",
       "  </tbody>\n",
       "</table>\n",
       "<p>5 rows × 21 columns</p>\n",
       "</div>"
      ],
      "text/plain": [
       "        State  Customer Lifetime Value Response  Coverage Education  \\\n",
       "0  Washington              2763.519279       No     Basic  Bachelor   \n",
       "1     Arizona              6979.535903       No  Extended  Bachelor   \n",
       "2      Nevada             12887.431650       No   Premium  Bachelor   \n",
       "3  California              7645.861827       No     Basic  Bachelor   \n",
       "4  Washington              2813.692575       No     Basic  Bachelor   \n",
       "\n",
       "  EmploymentStatus Gender  Income Location Code Marital Status  ...  \\\n",
       "0         Employed      F   56274      Suburban        Married  ...   \n",
       "1       Unemployed      F       0      Suburban         Single  ...   \n",
       "2         Employed      F   48767      Suburban        Married  ...   \n",
       "3       Unemployed      M       0      Suburban        Married  ...   \n",
       "4         Employed      M   43836         Rural         Single  ...   \n",
       "\n",
       "   Months Since Last Claim  Months Since Policy Inception  \\\n",
       "0                       32                              5   \n",
       "1                       13                             42   \n",
       "2                       18                             38   \n",
       "3                       18                             65   \n",
       "4                       12                             44   \n",
       "\n",
       "   Number of Open Complaints  Number of Policies        Policy  \\\n",
       "0                          0                   1  Corporate L3   \n",
       "1                          0                   8   Personal L3   \n",
       "2                          0                   2   Personal L3   \n",
       "3                          0                   7  Corporate L2   \n",
       "4                          0                   1   Personal L1   \n",
       "\n",
       "  Renew Offer Type Sales Channel Total Claim Amount  Vehicle Class  \\\n",
       "0           Offer1         Agent         384.811147   Two-Door Car   \n",
       "1           Offer3         Agent        1131.464935  Four-Door Car   \n",
       "2           Offer1         Agent         566.472247   Two-Door Car   \n",
       "3           Offer1   Call Center         529.881344            SUV   \n",
       "4           Offer1         Agent         138.130879  Four-Door Car   \n",
       "\n",
       "  Vehicle Size  \n",
       "0      Medsize  \n",
       "1      Medsize  \n",
       "2      Medsize  \n",
       "3      Medsize  \n",
       "4      Medsize  \n",
       "\n",
       "[5 rows x 21 columns]"
      ]
     },
     "execution_count": 47,
     "metadata": {},
     "output_type": "execute_result"
    }
   ],
   "source": [
    "clv_clean.head()"
   ]
  },
  {
   "cell_type": "code",
   "execution_count": 48,
   "metadata": {},
   "outputs": [
    {
     "data": {
      "text/plain": [
       "Customer             9134\n",
       "State                   5\n",
       "Response                2\n",
       "Coverage                3\n",
       "Education               5\n",
       "Effective To Date      59\n",
       "EmploymentStatus        5\n",
       "Gender                  2\n",
       "Location Code           3\n",
       "Marital Status          3\n",
       "Policy Type             3\n",
       "Policy                  9\n",
       "Renew Offer Type        4\n",
       "Sales Channel           4\n",
       "Vehicle Class           6\n",
       "Vehicle Size            3\n",
       "dtype: int64"
      ]
     },
     "execution_count": 48,
     "metadata": {},
     "output_type": "execute_result"
    }
   ],
   "source": [
    "clv.select_dtypes('object').apply(pd.Series.nunique, axis=0)"
   ]
  },
  {
   "cell_type": "code",
   "execution_count": 49,
   "metadata": {},
   "outputs": [],
   "source": [
    "#Splitting Features into binary and remaining categorical\n",
    "\n",
    "binary_feature = clv_clean.nunique()[clv_clean.nunique() == 2].keys().tolist()"
   ]
  },
  {
   "cell_type": "code",
   "execution_count": 50,
   "metadata": {},
   "outputs": [],
   "source": [
    "categorical_feature = [col for col in clv_clean.select_dtypes('object').columns.to_list() if col not in binary_feature]"
   ]
  },
  {
   "cell_type": "code",
   "execution_count": 51,
   "metadata": {},
   "outputs": [
    {
     "data": {
      "text/plain": [
       "['State',\n",
       " 'Coverage',\n",
       " 'Education',\n",
       " 'EmploymentStatus',\n",
       " 'Location Code',\n",
       " 'Marital Status',\n",
       " 'Policy',\n",
       " 'Renew Offer Type',\n",
       " 'Sales Channel',\n",
       " 'Vehicle Class',\n",
       " 'Vehicle Size']"
      ]
     },
     "execution_count": 51,
     "metadata": {},
     "output_type": "execute_result"
    }
   ],
   "source": [
    "categorical_feature"
   ]
  },
  {
   "cell_type": "code",
   "execution_count": 52,
   "metadata": {},
   "outputs": [],
   "source": [
    "# Feature Engineering  - dummyfying the binary and categorical variables\n",
    "from sklearn.preprocessing import LabelEncoder\n",
    "le = LabelEncoder()\n",
    "for i in binary_feature:\n",
    "    clv_clean[i] = le.fit_transform(clv_clean[i])"
   ]
  },
  {
   "cell_type": "code",
   "execution_count": 53,
   "metadata": {
    "scrolled": true
   },
   "outputs": [
    {
     "data": {
      "text/plain": [
       "Index(['State', 'Customer Lifetime Value', 'Response', 'Coverage', 'Education',\n",
       "       'EmploymentStatus', 'Gender', 'Income', 'Location Code',\n",
       "       'Marital Status', 'Monthly Premium Auto', 'Months Since Last Claim',\n",
       "       'Months Since Policy Inception', 'Number of Open Complaints',\n",
       "       'Number of Policies', 'Policy', 'Renew Offer Type', 'Sales Channel',\n",
       "       'Total Claim Amount', 'Vehicle Class', 'Vehicle Size'],\n",
       "      dtype='object')"
      ]
     },
     "execution_count": 53,
     "metadata": {},
     "output_type": "execute_result"
    }
   ],
   "source": [
    "clv_clean.columns"
   ]
  },
  {
   "cell_type": "code",
   "execution_count": null,
   "metadata": {},
   "outputs": [],
   "source": [
    "clv_clean = clv_clean.rename({'Monthly Premium Auto': 'Monthly_Premium_Auto', 'Total Claim Amount':'Total_Claim_Amount', 'Number of Policies': 'Number_of_Policies', 'Number of Open Complaints': 'Number_of_Open_Complaints'}, axis=1) \n"
   ]
  },
  {
   "cell_type": "code",
   "execution_count": 54,
   "metadata": {
    "scrolled": true
   },
   "outputs": [
    {
     "data": {
      "text/html": [
       "<div>\n",
       "<style scoped>\n",
       "    .dataframe tbody tr th:only-of-type {\n",
       "        vertical-align: middle;\n",
       "    }\n",
       "\n",
       "    .dataframe tbody tr th {\n",
       "        vertical-align: top;\n",
       "    }\n",
       "\n",
       "    .dataframe thead th {\n",
       "        text-align: right;\n",
       "    }\n",
       "</style>\n",
       "<table border=\"1\" class=\"dataframe\">\n",
       "  <thead>\n",
       "    <tr style=\"text-align: right;\">\n",
       "      <th></th>\n",
       "      <th>State</th>\n",
       "      <th>Customer Lifetime Value</th>\n",
       "      <th>Response</th>\n",
       "      <th>Coverage</th>\n",
       "      <th>Education</th>\n",
       "      <th>EmploymentStatus</th>\n",
       "      <th>Gender</th>\n",
       "      <th>Income</th>\n",
       "      <th>Location Code</th>\n",
       "      <th>Marital Status</th>\n",
       "      <th>...</th>\n",
       "      <th>Months Since Last Claim</th>\n",
       "      <th>Months Since Policy Inception</th>\n",
       "      <th>Number of Open Complaints</th>\n",
       "      <th>Number of Policies</th>\n",
       "      <th>Policy</th>\n",
       "      <th>Renew Offer Type</th>\n",
       "      <th>Sales Channel</th>\n",
       "      <th>Total Claim Amount</th>\n",
       "      <th>Vehicle Class</th>\n",
       "      <th>Vehicle Size</th>\n",
       "    </tr>\n",
       "  </thead>\n",
       "  <tbody>\n",
       "    <tr>\n",
       "      <th>0</th>\n",
       "      <td>Washington</td>\n",
       "      <td>2763.519279</td>\n",
       "      <td>0</td>\n",
       "      <td>Basic</td>\n",
       "      <td>Bachelor</td>\n",
       "      <td>Employed</td>\n",
       "      <td>0</td>\n",
       "      <td>56274</td>\n",
       "      <td>Suburban</td>\n",
       "      <td>Married</td>\n",
       "      <td>...</td>\n",
       "      <td>32</td>\n",
       "      <td>5</td>\n",
       "      <td>0</td>\n",
       "      <td>1</td>\n",
       "      <td>Corporate L3</td>\n",
       "      <td>Offer1</td>\n",
       "      <td>Agent</td>\n",
       "      <td>384.811147</td>\n",
       "      <td>Two-Door Car</td>\n",
       "      <td>Medsize</td>\n",
       "    </tr>\n",
       "    <tr>\n",
       "      <th>1</th>\n",
       "      <td>Arizona</td>\n",
       "      <td>6979.535903</td>\n",
       "      <td>0</td>\n",
       "      <td>Extended</td>\n",
       "      <td>Bachelor</td>\n",
       "      <td>Unemployed</td>\n",
       "      <td>0</td>\n",
       "      <td>0</td>\n",
       "      <td>Suburban</td>\n",
       "      <td>Single</td>\n",
       "      <td>...</td>\n",
       "      <td>13</td>\n",
       "      <td>42</td>\n",
       "      <td>0</td>\n",
       "      <td>8</td>\n",
       "      <td>Personal L3</td>\n",
       "      <td>Offer3</td>\n",
       "      <td>Agent</td>\n",
       "      <td>1131.464935</td>\n",
       "      <td>Four-Door Car</td>\n",
       "      <td>Medsize</td>\n",
       "    </tr>\n",
       "    <tr>\n",
       "      <th>2</th>\n",
       "      <td>Nevada</td>\n",
       "      <td>12887.431650</td>\n",
       "      <td>0</td>\n",
       "      <td>Premium</td>\n",
       "      <td>Bachelor</td>\n",
       "      <td>Employed</td>\n",
       "      <td>0</td>\n",
       "      <td>48767</td>\n",
       "      <td>Suburban</td>\n",
       "      <td>Married</td>\n",
       "      <td>...</td>\n",
       "      <td>18</td>\n",
       "      <td>38</td>\n",
       "      <td>0</td>\n",
       "      <td>2</td>\n",
       "      <td>Personal L3</td>\n",
       "      <td>Offer1</td>\n",
       "      <td>Agent</td>\n",
       "      <td>566.472247</td>\n",
       "      <td>Two-Door Car</td>\n",
       "      <td>Medsize</td>\n",
       "    </tr>\n",
       "    <tr>\n",
       "      <th>3</th>\n",
       "      <td>California</td>\n",
       "      <td>7645.861827</td>\n",
       "      <td>0</td>\n",
       "      <td>Basic</td>\n",
       "      <td>Bachelor</td>\n",
       "      <td>Unemployed</td>\n",
       "      <td>1</td>\n",
       "      <td>0</td>\n",
       "      <td>Suburban</td>\n",
       "      <td>Married</td>\n",
       "      <td>...</td>\n",
       "      <td>18</td>\n",
       "      <td>65</td>\n",
       "      <td>0</td>\n",
       "      <td>7</td>\n",
       "      <td>Corporate L2</td>\n",
       "      <td>Offer1</td>\n",
       "      <td>Call Center</td>\n",
       "      <td>529.881344</td>\n",
       "      <td>SUV</td>\n",
       "      <td>Medsize</td>\n",
       "    </tr>\n",
       "    <tr>\n",
       "      <th>4</th>\n",
       "      <td>Washington</td>\n",
       "      <td>2813.692575</td>\n",
       "      <td>0</td>\n",
       "      <td>Basic</td>\n",
       "      <td>Bachelor</td>\n",
       "      <td>Employed</td>\n",
       "      <td>1</td>\n",
       "      <td>43836</td>\n",
       "      <td>Rural</td>\n",
       "      <td>Single</td>\n",
       "      <td>...</td>\n",
       "      <td>12</td>\n",
       "      <td>44</td>\n",
       "      <td>0</td>\n",
       "      <td>1</td>\n",
       "      <td>Personal L1</td>\n",
       "      <td>Offer1</td>\n",
       "      <td>Agent</td>\n",
       "      <td>138.130879</td>\n",
       "      <td>Four-Door Car</td>\n",
       "      <td>Medsize</td>\n",
       "    </tr>\n",
       "  </tbody>\n",
       "</table>\n",
       "<p>5 rows × 21 columns</p>\n",
       "</div>"
      ],
      "text/plain": [
       "        State  Customer Lifetime Value  Response  Coverage Education  \\\n",
       "0  Washington              2763.519279         0     Basic  Bachelor   \n",
       "1     Arizona              6979.535903         0  Extended  Bachelor   \n",
       "2      Nevada             12887.431650         0   Premium  Bachelor   \n",
       "3  California              7645.861827         0     Basic  Bachelor   \n",
       "4  Washington              2813.692575         0     Basic  Bachelor   \n",
       "\n",
       "  EmploymentStatus  Gender  Income Location Code Marital Status  ...  \\\n",
       "0         Employed       0   56274      Suburban        Married  ...   \n",
       "1       Unemployed       0       0      Suburban         Single  ...   \n",
       "2         Employed       0   48767      Suburban        Married  ...   \n",
       "3       Unemployed       1       0      Suburban        Married  ...   \n",
       "4         Employed       1   43836         Rural         Single  ...   \n",
       "\n",
       "   Months Since Last Claim  Months Since Policy Inception  \\\n",
       "0                       32                              5   \n",
       "1                       13                             42   \n",
       "2                       18                             38   \n",
       "3                       18                             65   \n",
       "4                       12                             44   \n",
       "\n",
       "   Number of Open Complaints  Number of Policies        Policy  \\\n",
       "0                          0                   1  Corporate L3   \n",
       "1                          0                   8   Personal L3   \n",
       "2                          0                   2   Personal L3   \n",
       "3                          0                   7  Corporate L2   \n",
       "4                          0                   1   Personal L1   \n",
       "\n",
       "  Renew Offer Type Sales Channel Total Claim Amount  Vehicle Class  \\\n",
       "0           Offer1         Agent         384.811147   Two-Door Car   \n",
       "1           Offer3         Agent        1131.464935  Four-Door Car   \n",
       "2           Offer1         Agent         566.472247   Two-Door Car   \n",
       "3           Offer1   Call Center         529.881344            SUV   \n",
       "4           Offer1         Agent         138.130879  Four-Door Car   \n",
       "\n",
       "  Vehicle Size  \n",
       "0      Medsize  \n",
       "1      Medsize  \n",
       "2      Medsize  \n",
       "3      Medsize  \n",
       "4      Medsize  \n",
       "\n",
       "[5 rows x 21 columns]"
      ]
     },
     "execution_count": 54,
     "metadata": {},
     "output_type": "execute_result"
    }
   ],
   "source": [
    "clv_clean.head()"
   ]
  },
  {
   "cell_type": "markdown",
   "metadata": {},
   "source": [
    "# Treatments"
   ]
  },
  {
   "cell_type": "markdown",
   "metadata": {},
   "source": [
    "For our causality analysis we will be looking at the effect of three chosen treatments on outcome variables thata are response and customer lifetime value. \n",
    "The three treatments are: \n",
    "- Employment Status - Retired or not \n",
    "- Coverage \n",
    "- If they reniewed offer 2 (most popular one)\n",
    "- If their income is above average or not "
   ]
  },
  {
   "cell_type": "markdown",
   "metadata": {},
   "source": [
    "From our analysis of the dataset, we assumed that there are variables that are more likely to have a causal affect on our outcome variables: Customer Lifetime Value and Response. We can see the following variables represented on the graph below..."
   ]
  },
  {
   "cell_type": "code",
   "execution_count": 113,
   "metadata": {},
   "outputs": [],
   "source": [
    "causal_graph = \"\"\"digraph {\n",
    "Income -> Response;\n",
    "EmploymentStatus -> Income\n",
    "Monthly_Premium_Auto -> Response;\n",
    "Number_of_Open_Complaints -> Response;\n",
    "Total_Claim_Amount -> Response;\n",
    "Coverage -> Response; \n",
    "EmploymentStatus -> Response;\n",
    "Number_of_Policies -> Response;\n",
    "Gender -> Response\n",
    "}\"\"\""
   ]
  },
  {
   "cell_type": "markdown",
   "metadata": {},
   "source": [
    "## Employment Status "
   ]
  },
  {
   "cell_type": "code",
   "execution_count": 114,
   "metadata": {},
   "outputs": [],
   "source": [
    "clv_clean['EmploymentStatus'] = clv_clean['EmploymentStatus'].apply(lambda x: 1 if x=='Retired' else 0)\n",
    "clv_clean['EmploymentStatus'] = clv_clean['EmploymentStatus'].apply(bool)"
   ]
  },
  {
   "cell_type": "markdown",
   "metadata": {},
   "source": [
    "### Outcome = Response "
   ]
  },
  {
   "cell_type": "code",
   "execution_count": 115,
   "metadata": {},
   "outputs": [],
   "source": [
    "clv_clean['Response'] = clv_clean['Response'].apply(bool)"
   ]
  },
  {
   "cell_type": "code",
   "execution_count": 116,
   "metadata": {},
   "outputs": [
    {
     "name": "stderr",
     "output_type": "stream",
     "text": [
      "INFO:dowhy.causal_graph:If this is observed data (not from a randomized experiment), there might always be missing confounders. Adding a node named \"Unobserved Confounders\" to reflect this.\n",
      "INFO:dowhy.causal_model:Model to find the causal effect of treatment ['EmploymentStatus'] on outcome ['Response']\n"
     ]
    },
    {
     "data": {
      "image/png": "[encoded data removed]",
      "text/plain": [
       "<IPython.core.display.Image object>"
      ]
     },
     "metadata": {},
     "output_type": "display_data"
    }
   ],
   "source": [
    "model4= CausalModel(\n",
    "        data=clv_clean,\n",
    "        treatment='EmploymentStatus',\n",
    "        outcome=\"Response\",\n",
    "         graph = causal_graph.replace(\"\\n\", \" \"),\n",
    "        common_causes=['Renew Offer Type','Monthly Premium Auto','Number of Open Complaints','Total Claim Amount','Coverage','EmploymentStatus',\n",
    "                      'Gender','Vehicle Size','Number of Policies', 'Income'])\n",
    "model4.view_model()\n",
    "from IPython.display import Image, display\n",
    "display(Image(filename=\"causal_model.png\"))"
   ]
  },
  {
   "cell_type": "code",
   "execution_count": 112,
   "metadata": {},
   "outputs": [
    {
     "name": "stderr",
     "output_type": "stream",
     "text": [
      "WARNING:dowhy.causal_identifier:If this is observed data (not from a randomized experiment), there might always be missing confounders. Causal effect cannot be identified perfectly.\n",
      "INFO:dowhy.causal_identifier:Continuing by ignoring these unobserved confounders because proceed_when_unidentifiable flag is True.\n",
      "INFO:dowhy.causal_identifier:Instrumental variables for treatment and outcome:[]\n",
      "INFO:dowhy.causal_identifier:Frontdoor variables for treatment and outcome:[]\n"
     ]
    },
    {
     "name": "stdout",
     "output_type": "stream",
     "text": [
      "Estimand type: nonparametric-ate\n",
      "\n",
      "### Estimand : 1\n",
      "Estimand name: backdoor1 (Default)\n",
      "Estimand expression:\n",
      "         d                                                                    \n",
      "───────────────────(Expectation(Response|Number_of_Policies,Monthly_Premium_Au\n",
      "d[EmploymentStatus]                                                           \n",
      "\n",
      "                                                                 \n",
      "to,Gender,Number_of_Open_Complaints,Total_Claim_Amount,Coverage))\n",
      "                                                                 \n",
      "Estimand assumption 1, Unconfoundedness: If U→{EmploymentStatus} and U→Response then P(Response|EmploymentStatus,Number_of_Policies,Monthly_Premium_Auto,Gender,Number_of_Open_Complaints,Total_Claim_Amount,Coverage,U) = P(Response|EmploymentStatus,Number_of_Policies,Monthly_Premium_Auto,Gender,Number_of_Open_Complaints,Total_Claim_Amount,Coverage)\n",
      "\n",
      "### Estimand : 2\n",
      "Estimand name: backdoor2\n",
      "Estimand expression:\n",
      "         d                                                                    \n",
      "───────────────────(Expectation(Response|Number_of_Policies,Monthly_Premium_Au\n",
      "d[EmploymentStatus]                                                           \n",
      "\n",
      "                                                        \n",
      "to,Gender,Number_of_Open_Complaints,Total_Claim_Amount))\n",
      "                                                        \n",
      "Estimand assumption 1, Unconfoundedness: If U→{EmploymentStatus} and U→Response then P(Response|EmploymentStatus,Number_of_Policies,Monthly_Premium_Auto,Gender,Number_of_Open_Complaints,Total_Claim_Amount,U) = P(Response|EmploymentStatus,Number_of_Policies,Monthly_Premium_Auto,Gender,Number_of_Open_Complaints,Total_Claim_Amount)\n",
      "\n",
      "### Estimand : 3\n",
      "Estimand name: backdoor3\n",
      "Estimand expression:\n",
      "         d                                                                    \n",
      "───────────────────(Expectation(Response|Number_of_Policies,Monthly_Premium_Au\n",
      "d[EmploymentStatus]                                                           \n",
      "\n",
      "                                              \n",
      "to,Gender,Number_of_Open_Complaints,Coverage))\n",
      "                                              \n",
      "Estimand assumption 1, Unconfoundedness: If U→{EmploymentStatus} and U→Response then P(Response|EmploymentStatus,Number_of_Policies,Monthly_Premium_Auto,Gender,Number_of_Open_Complaints,Coverage,U) = P(Response|EmploymentStatus,Number_of_Policies,Monthly_Premium_Auto,Gender,Number_of_Open_Complaints,Coverage)\n",
      "\n",
      "### Estimand : 4\n",
      "Estimand name: backdoor4\n",
      "Estimand expression:\n",
      "         d                                                                    \n",
      "───────────────────(Expectation(Response|Number_of_Policies,Monthly_Premium_Au\n",
      "d[EmploymentStatus]                                                           \n",
      "\n",
      "                                       \n",
      "to,Gender,Total_Claim_Amount,Coverage))\n",
      "                                       \n",
      "Estimand assumption 1, Unconfoundedness: If U→{EmploymentStatus} and U→Response then P(Response|EmploymentStatus,Number_of_Policies,Monthly_Premium_Auto,Gender,Total_Claim_Amount,Coverage,U) = P(Response|EmploymentStatus,Number_of_Policies,Monthly_Premium_Auto,Gender,Total_Claim_Amount,Coverage)\n",
      "\n",
      "### Estimand : 5\n",
      "Estimand name: backdoor5\n",
      "Estimand expression:\n",
      "         d                                                                    \n",
      "───────────────────(Expectation(Response|Number_of_Policies,Monthly_Premium_Au\n",
      "d[EmploymentStatus]                                                           \n",
      "\n",
      "                                                          \n",
      "to,Number_of_Open_Complaints,Total_Claim_Amount,Coverage))\n",
      "                                                          \n",
      "Estimand assumption 1, Unconfoundedness: If U→{EmploymentStatus} and U→Response then P(Response|EmploymentStatus,Number_of_Policies,Monthly_Premium_Auto,Number_of_Open_Complaints,Total_Claim_Amount,Coverage,U) = P(Response|EmploymentStatus,Number_of_Policies,Monthly_Premium_Auto,Number_of_Open_Complaints,Total_Claim_Amount,Coverage)\n",
      "\n",
      "### Estimand : 6\n",
      "Estimand name: backdoor6\n",
      "Estimand expression:\n",
      "         d                                                                    \n",
      "───────────────────(Expectation(Response|Number_of_Policies,Gender,Number_of_O\n",
      "d[EmploymentStatus]                                                           \n",
      "\n",
      "                                            \n",
      "pen_Complaints,Total_Claim_Amount,Coverage))\n",
      "                                            \n",
      "Estimand assumption 1, Unconfoundedness: If U→{EmploymentStatus} and U→Response then P(Response|EmploymentStatus,Number_of_Policies,Gender,Number_of_Open_Complaints,Total_Claim_Amount,Coverage,U) = P(Response|EmploymentStatus,Number_of_Policies,Gender,Number_of_Open_Complaints,Total_Claim_Amount,Coverage)\n",
      "\n",
      "### Estimand : 7\n",
      "Estimand name: backdoor7\n",
      "Estimand expression:\n",
      "         d                                                                    \n",
      "───────────────────(Expectation(Response|Monthly_Premium_Auto,Gender,Number_of\n",
      "d[EmploymentStatus]                                                           \n",
      "\n",
      "                                              \n",
      "_Open_Complaints,Total_Claim_Amount,Coverage))\n",
      "                                              \n",
      "Estimand assumption 1, Unconfoundedness: If U→{EmploymentStatus} and U→Response then P(Response|EmploymentStatus,Monthly_Premium_Auto,Gender,Number_of_Open_Complaints,Total_Claim_Amount,Coverage,U) = P(Response|EmploymentStatus,Monthly_Premium_Auto,Gender,Number_of_Open_Complaints,Total_Claim_Amount,Coverage)\n",
      "\n",
      "### Estimand : 8\n",
      "Estimand name: backdoor8\n",
      "Estimand expression:\n",
      "         d                                                                    \n",
      "───────────────────(Expectation(Response|Number_of_Policies,Monthly_Premium_Au\n",
      "d[EmploymentStatus]                                                           \n",
      "\n",
      "                                     \n",
      "to,Gender,Number_of_Open_Complaints))\n",
      "                                     \n",
      "Estimand assumption 1, Unconfoundedness: If U→{EmploymentStatus} and U→Response then P(Response|EmploymentStatus,Number_of_Policies,Monthly_Premium_Auto,Gender,Number_of_Open_Complaints,U) = P(Response|EmploymentStatus,Number_of_Policies,Monthly_Premium_Auto,Gender,Number_of_Open_Complaints)\n",
      "\n",
      "### Estimand : 9\n",
      "Estimand name: backdoor9\n",
      "Estimand expression:\n",
      "         d                                                                    \n",
      "───────────────────(Expectation(Response|Number_of_Policies,Monthly_Premium_Au\n",
      "d[EmploymentStatus]                                                           \n",
      "\n",
      "                              \n",
      "to,Gender,Total_Claim_Amount))\n",
      "                              \n",
      "Estimand assumption 1, Unconfoundedness: If U→{EmploymentStatus} and U→Response then P(Response|EmploymentStatus,Number_of_Policies,Monthly_Premium_Auto,Gender,Total_Claim_Amount,U) = P(Response|EmploymentStatus,Number_of_Policies,Monthly_Premium_Auto,Gender,Total_Claim_Amount)\n",
      "\n",
      "### Estimand : 10\n",
      "Estimand name: backdoor10\n",
      "Estimand expression:\n",
      "         d                                                                    \n",
      "───────────────────(Expectation(Response|Number_of_Policies,Monthly_Premium_Au\n",
      "d[EmploymentStatus]                                                           \n",
      "\n",
      "                    \n",
      "to,Gender,Coverage))\n",
      "                    \n",
      "Estimand assumption 1, Unconfoundedness: If U→{EmploymentStatus} and U→Response then P(Response|EmploymentStatus,Number_of_Policies,Monthly_Premium_Auto,Gender,Coverage,U) = P(Response|EmploymentStatus,Number_of_Policies,Monthly_Premium_Auto,Gender,Coverage)\n",
      "\n",
      "### Estimand : 11\n",
      "Estimand name: backdoor11\n",
      "Estimand expression:\n",
      "         d                                                                    \n",
      "───────────────────(Expectation(Response|Number_of_Policies,Monthly_Premium_Au\n",
      "d[EmploymentStatus]                                                           \n",
      "\n",
      "                                                 \n",
      "to,Number_of_Open_Complaints,Total_Claim_Amount))\n",
      "                                                 \n",
      "Estimand assumption 1, Unconfoundedness: If U→{EmploymentStatus} and U→Response then P(Response|EmploymentStatus,Number_of_Policies,Monthly_Premium_Auto,Number_of_Open_Complaints,Total_Claim_Amount,U) = P(Response|EmploymentStatus,Number_of_Policies,Monthly_Premium_Auto,Number_of_Open_Complaints,Total_Claim_Amount)\n",
      "\n",
      "### Estimand : 12\n",
      "Estimand name: backdoor12\n",
      "Estimand expression:\n",
      "         d                                                                    \n",
      "───────────────────(Expectation(Response|Number_of_Policies,Monthly_Premium_Au\n",
      "d[EmploymentStatus]                                                           \n",
      "\n",
      "                                       \n",
      "to,Number_of_Open_Complaints,Coverage))\n",
      "                                       \n",
      "Estimand assumption 1, Unconfoundedness: If U→{EmploymentStatus} and U→Response then P(Response|EmploymentStatus,Number_of_Policies,Monthly_Premium_Auto,Number_of_Open_Complaints,Coverage,U) = P(Response|EmploymentStatus,Number_of_Policies,Monthly_Premium_Auto,Number_of_Open_Complaints,Coverage)\n",
      "\n",
      "### Estimand : 13\n",
      "Estimand name: backdoor13\n",
      "Estimand expression:\n",
      "         d                                                                    \n",
      "───────────────────(Expectation(Response|Number_of_Policies,Monthly_Premium_Au\n",
      "d[EmploymentStatus]                                                           \n",
      "\n",
      "                                \n",
      "to,Total_Claim_Amount,Coverage))\n",
      "                                \n",
      "Estimand assumption 1, Unconfoundedness: If U→{EmploymentStatus} and U→Response then P(Response|EmploymentStatus,Number_of_Policies,Monthly_Premium_Auto,Total_Claim_Amount,Coverage,U) = P(Response|EmploymentStatus,Number_of_Policies,Monthly_Premium_Auto,Total_Claim_Amount,Coverage)\n",
      "\n",
      "### Estimand : 14\n",
      "Estimand name: backdoor14\n",
      "Estimand expression:\n",
      "         d                                                                    \n",
      "───────────────────(Expectation(Response|Number_of_Policies,Gender,Number_of_O\n",
      "d[EmploymentStatus]                                                           \n",
      "\n",
      "                                   \n",
      "pen_Complaints,Total_Claim_Amount))\n",
      "                                   \n",
      "Estimand assumption 1, Unconfoundedness: If U→{EmploymentStatus} and U→Response then P(Response|EmploymentStatus,Number_of_Policies,Gender,Number_of_Open_Complaints,Total_Claim_Amount,U) = P(Response|EmploymentStatus,Number_of_Policies,Gender,Number_of_Open_Complaints,Total_Claim_Amount)\n",
      "\n",
      "### Estimand : 15\n",
      "Estimand name: backdoor15\n",
      "Estimand expression:\n",
      "         d                                                                    \n",
      "───────────────────(Expectation(Response|Number_of_Policies,Gender,Number_of_O\n",
      "d[EmploymentStatus]                                                           \n",
      "\n",
      "                         \n",
      "pen_Complaints,Coverage))\n",
      "                         \n",
      "Estimand assumption 1, Unconfoundedness: If U→{EmploymentStatus} and U→Response then P(Response|EmploymentStatus,Number_of_Policies,Gender,Number_of_Open_Complaints,Coverage,U) = P(Response|EmploymentStatus,Number_of_Policies,Gender,Number_of_Open_Complaints,Coverage)\n",
      "\n",
      "### Estimand : 16\n",
      "Estimand name: backdoor16\n",
      "Estimand expression:\n",
      "         d                                                                    \n",
      "───────────────────(Expectation(Response|Number_of_Policies,Gender,Total_Claim\n",
      "d[EmploymentStatus]                                                           \n",
      "\n",
      "                  \n",
      "_Amount,Coverage))\n",
      "                  \n",
      "Estimand assumption 1, Unconfoundedness: If U→{EmploymentStatus} and U→Response then P(Response|EmploymentStatus,Number_of_Policies,Gender,Total_Claim_Amount,Coverage,U) = P(Response|EmploymentStatus,Number_of_Policies,Gender,Total_Claim_Amount,Coverage)\n",
      "\n",
      "### Estimand : 17\n",
      "Estimand name: backdoor17\n",
      "Estimand expression:\n",
      "         d                                                                    \n",
      "───────────────────(Expectation(Response|Number_of_Policies,Number_of_Open_Com\n",
      "d[EmploymentStatus]                                                           \n",
      "\n",
      "                                     \n",
      "plaints,Total_Claim_Amount,Coverage))\n",
      "                                     \n",
      "Estimand assumption 1, Unconfoundedness: If U→{EmploymentStatus} and U→Response then P(Response|EmploymentStatus,Number_of_Policies,Number_of_Open_Complaints,Total_Claim_Amount,Coverage,U) = P(Response|EmploymentStatus,Number_of_Policies,Number_of_Open_Complaints,Total_Claim_Amount,Coverage)\n",
      "\n",
      "### Estimand : 18\n",
      "Estimand name: backdoor18\n",
      "Estimand expression:\n",
      "         d                                                                    \n",
      "───────────────────(Expectation(Response|Monthly_Premium_Auto,Gender,Number_of\n",
      "d[EmploymentStatus]                                                           \n",
      "\n",
      "                                     \n",
      "_Open_Complaints,Total_Claim_Amount))\n",
      "                                     \n",
      "Estimand assumption 1, Unconfoundedness: If U→{EmploymentStatus} and U→Response then P(Response|EmploymentStatus,Monthly_Premium_Auto,Gender,Number_of_Open_Complaints,Total_Claim_Amount,U) = P(Response|EmploymentStatus,Monthly_Premium_Auto,Gender,Number_of_Open_Complaints,Total_Claim_Amount)\n",
      "\n",
      "### Estimand : 19\n",
      "Estimand name: backdoor19\n",
      "Estimand expression:\n",
      "         d                                                                    \n",
      "───────────────────(Expectation(Response|Monthly_Premium_Auto,Gender,Number_of\n",
      "d[EmploymentStatus]                                                           \n",
      "\n",
      "                           \n",
      "_Open_Complaints,Coverage))\n",
      "                           \n",
      "Estimand assumption 1, Unconfoundedness: If U→{EmploymentStatus} and U→Response then P(Response|EmploymentStatus,Monthly_Premium_Auto,Gender,Number_of_Open_Complaints,Coverage,U) = P(Response|EmploymentStatus,Monthly_Premium_Auto,Gender,Number_of_Open_Complaints,Coverage)\n",
      "\n",
      "### Estimand : 20\n",
      "Estimand name: backdoor20\n",
      "Estimand expression:\n",
      "         d                                                                    \n",
      "───────────────────(Expectation(Response|Monthly_Premium_Auto,Gender,Total_Cla\n",
      "d[EmploymentStatus]                                                           \n",
      "\n",
      "                    \n",
      "im_Amount,Coverage))\n",
      "                    \n",
      "Estimand assumption 1, Unconfoundedness: If U→{EmploymentStatus} and U→Response then P(Response|EmploymentStatus,Monthly_Premium_Auto,Gender,Total_Claim_Amount,Coverage,U) = P(Response|EmploymentStatus,Monthly_Premium_Auto,Gender,Total_Claim_Amount,Coverage)\n",
      "\n",
      "### Estimand : 21\n",
      "Estimand name: backdoor21\n",
      "Estimand expression:\n",
      "         d                                                                    \n",
      "───────────────────(Expectation(Response|Monthly_Premium_Auto,Number_of_Open_C\n",
      "d[EmploymentStatus]                                                           \n",
      "\n",
      "                                       \n",
      "omplaints,Total_Claim_Amount,Coverage))\n",
      "                                       \n",
      "Estimand assumption 1, Unconfoundedness: If U→{EmploymentStatus} and U→Response then P(Response|EmploymentStatus,Monthly_Premium_Auto,Number_of_Open_Complaints,Total_Claim_Amount,Coverage,U) = P(Response|EmploymentStatus,Monthly_Premium_Auto,Number_of_Open_Complaints,Total_Claim_Amount,Coverage)\n",
      "\n",
      "### Estimand : 22\n",
      "Estimand name: backdoor22\n",
      "Estimand expression:\n",
      "         d                                                                    \n",
      "───────────────────(Expectation(Response|Gender,Number_of_Open_Complaints,Tota\n",
      "d[EmploymentStatus]                                                           \n",
      "\n",
      "                         \n",
      "l_Claim_Amount,Coverage))\n",
      "                         \n",
      "Estimand assumption 1, Unconfoundedness: If U→{EmploymentStatus} and U→Response then P(Response|EmploymentStatus,Gender,Number_of_Open_Complaints,Total_Claim_Amount,Coverage,U) = P(Response|EmploymentStatus,Gender,Number_of_Open_Complaints,Total_Claim_Amount,Coverage)\n",
      "\n",
      "### Estimand : 23\n",
      "Estimand name: backdoor23\n",
      "Estimand expression:\n",
      "         d                                                                    \n",
      "───────────────────(Expectation(Response|Number_of_Policies,Monthly_Premium_Au\n",
      "d[EmploymentStatus]                                                           \n",
      "\n",
      "           \n",
      "to,Gender))\n",
      "           \n",
      "Estimand assumption 1, Unconfoundedness: If U→{EmploymentStatus} and U→Response then P(Response|EmploymentStatus,Number_of_Policies,Monthly_Premium_Auto,Gender,U) = P(Response|EmploymentStatus,Number_of_Policies,Monthly_Premium_Auto,Gender)\n",
      "\n",
      "### Estimand : 24\n",
      "Estimand name: backdoor24\n",
      "Estimand expression:\n",
      "         d                                                                    \n",
      "───────────────────(Expectation(Response|Number_of_Policies,Monthly_Premium_Au\n",
      "d[EmploymentStatus]                                                           \n",
      "\n",
      "                              \n",
      "to,Number_of_Open_Complaints))\n",
      "                              \n",
      "Estimand assumption 1, Unconfoundedness: If U→{EmploymentStatus} and U→Response then P(Response|EmploymentStatus,Number_of_Policies,Monthly_Premium_Auto,Number_of_Open_Complaints,U) = P(Response|EmploymentStatus,Number_of_Policies,Monthly_Premium_Auto,Number_of_Open_Complaints)\n",
      "\n",
      "### Estimand : 25\n",
      "Estimand name: backdoor25\n",
      "Estimand expression:\n",
      "         d                                                                    \n",
      "───────────────────(Expectation(Response|Number_of_Policies,Monthly_Premium_Au\n",
      "d[EmploymentStatus]                                                           \n",
      "\n",
      "                       \n",
      "to,Total_Claim_Amount))\n",
      "                       \n",
      "Estimand assumption 1, Unconfoundedness: If U→{EmploymentStatus} and U→Response then P(Response|EmploymentStatus,Number_of_Policies,Monthly_Premium_Auto,Total_Claim_Amount,U) = P(Response|EmploymentStatus,Number_of_Policies,Monthly_Premium_Auto,Total_Claim_Amount)\n",
      "\n",
      "### Estimand : 26\n",
      "Estimand name: backdoor26\n",
      "Estimand expression:\n",
      "         d                                                                    \n",
      "───────────────────(Expectation(Response|Number_of_Policies,Monthly_Premium_Au\n",
      "d[EmploymentStatus]                                                           \n",
      "\n",
      "             \n",
      "to,Coverage))\n",
      "             \n",
      "Estimand assumption 1, Unconfoundedness: If U→{EmploymentStatus} and U→Response then P(Response|EmploymentStatus,Number_of_Policies,Monthly_Premium_Auto,Coverage,U) = P(Response|EmploymentStatus,Number_of_Policies,Monthly_Premium_Auto,Coverage)\n",
      "\n",
      "### Estimand : 27\n",
      "Estimand name: backdoor27\n",
      "Estimand expression:\n",
      "         d                                                                    \n",
      "───────────────────(Expectation(Response|Number_of_Policies,Gender,Number_of_O\n",
      "d[EmploymentStatus]                                                           \n",
      "\n",
      "                \n",
      "pen_Complaints))\n",
      "                \n",
      "Estimand assumption 1, Unconfoundedness: If U→{EmploymentStatus} and U→Response then P(Response|EmploymentStatus,Number_of_Policies,Gender,Number_of_Open_Complaints,U) = P(Response|EmploymentStatus,Number_of_Policies,Gender,Number_of_Open_Complaints)\n",
      "\n",
      "### Estimand : 28\n",
      "Estimand name: backdoor28\n",
      "Estimand expression:\n",
      "         d                                                                    \n",
      "───────────────────(Expectation(Response|Number_of_Policies,Gender,Total_Claim\n",
      "d[EmploymentStatus]                                                           \n",
      "\n",
      "         \n",
      "_Amount))\n",
      "         \n",
      "Estimand assumption 1, Unconfoundedness: If U→{EmploymentStatus} and U→Response then P(Response|EmploymentStatus,Number_of_Policies,Gender,Total_Claim_Amount,U) = P(Response|EmploymentStatus,Number_of_Policies,Gender,Total_Claim_Amount)\n",
      "\n",
      "### Estimand : 29\n",
      "Estimand name: backdoor29\n",
      "Estimand expression:\n",
      "         d                                                                   \n",
      "───────────────────(Expectation(Response|Number_of_Policies,Gender,Coverage))\n",
      "d[EmploymentStatus]                                                          \n",
      "Estimand assumption 1, Unconfoundedness: If U→{EmploymentStatus} and U→Response then P(Response|EmploymentStatus,Number_of_Policies,Gender,Coverage,U) = P(Response|EmploymentStatus,Number_of_Policies,Gender,Coverage)\n",
      "\n",
      "### Estimand : 30\n",
      "Estimand name: backdoor30\n",
      "Estimand expression:\n",
      "         d                                                                    \n",
      "───────────────────(Expectation(Response|Number_of_Policies,Number_of_Open_Com\n",
      "d[EmploymentStatus]                                                           \n",
      "\n",
      "                            \n",
      "plaints,Total_Claim_Amount))\n",
      "                            \n",
      "Estimand assumption 1, Unconfoundedness: If U→{EmploymentStatus} and U→Response then P(Response|EmploymentStatus,Number_of_Policies,Number_of_Open_Complaints,Total_Claim_Amount,U) = P(Response|EmploymentStatus,Number_of_Policies,Number_of_Open_Complaints,Total_Claim_Amount)\n",
      "\n",
      "### Estimand : 31\n",
      "Estimand name: backdoor31\n",
      "Estimand expression:\n",
      "         d                                                                    \n",
      "───────────────────(Expectation(Response|Number_of_Policies,Number_of_Open_Com\n",
      "d[EmploymentStatus]                                                           \n",
      "\n",
      "                  \n",
      "plaints,Coverage))\n",
      "                  \n",
      "Estimand assumption 1, Unconfoundedness: If U→{EmploymentStatus} and U→Response then P(Response|EmploymentStatus,Number_of_Policies,Number_of_Open_Complaints,Coverage,U) = P(Response|EmploymentStatus,Number_of_Policies,Number_of_Open_Complaints,Coverage)\n",
      "\n",
      "### Estimand : 32\n",
      "Estimand name: backdoor32\n",
      "Estimand expression:\n",
      "         d                                                                    \n",
      "───────────────────(Expectation(Response|Number_of_Policies,Total_Claim_Amount\n",
      "d[EmploymentStatus]                                                           \n",
      "\n",
      "           \n",
      ",Coverage))\n",
      "           \n",
      "Estimand assumption 1, Unconfoundedness: If U→{EmploymentStatus} and U→Response then P(Response|EmploymentStatus,Number_of_Policies,Total_Claim_Amount,Coverage,U) = P(Response|EmploymentStatus,Number_of_Policies,Total_Claim_Amount,Coverage)\n",
      "\n",
      "### Estimand : 33\n",
      "Estimand name: backdoor33\n",
      "Estimand expression:\n",
      "         d                                                                    \n",
      "───────────────────(Expectation(Response|Monthly_Premium_Auto,Gender,Number_of\n",
      "d[EmploymentStatus]                                                           \n",
      "\n",
      "                  \n",
      "_Open_Complaints))\n",
      "                  \n",
      "Estimand assumption 1, Unconfoundedness: If U→{EmploymentStatus} and U→Response then P(Response|EmploymentStatus,Monthly_Premium_Auto,Gender,Number_of_Open_Complaints,U) = P(Response|EmploymentStatus,Monthly_Premium_Auto,Gender,Number_of_Open_Complaints)\n",
      "\n",
      "### Estimand : 34\n",
      "Estimand name: backdoor34\n",
      "Estimand expression:\n",
      "         d                                                                    \n",
      "───────────────────(Expectation(Response|Monthly_Premium_Auto,Gender,Total_Cla\n",
      "d[EmploymentStatus]                                                           \n",
      "\n",
      "           \n",
      "im_Amount))\n",
      "           \n",
      "Estimand assumption 1, Unconfoundedness: If U→{EmploymentStatus} and U→Response then P(Response|EmploymentStatus,Monthly_Premium_Auto,Gender,Total_Claim_Amount,U) = P(Response|EmploymentStatus,Monthly_Premium_Auto,Gender,Total_Claim_Amount)\n",
      "\n",
      "### Estimand : 35\n",
      "Estimand name: backdoor35\n",
      "Estimand expression:\n",
      "         d                                                                    \n",
      "───────────────────(Expectation(Response|Monthly_Premium_Auto,Gender,Coverage)\n",
      "d[EmploymentStatus]                                                           \n",
      "\n",
      " \n",
      ")\n",
      " \n",
      "Estimand assumption 1, Unconfoundedness: If U→{EmploymentStatus} and U→Response then P(Response|EmploymentStatus,Monthly_Premium_Auto,Gender,Coverage,U) = P(Response|EmploymentStatus,Monthly_Premium_Auto,Gender,Coverage)\n",
      "\n",
      "### Estimand : 36\n",
      "Estimand name: backdoor36\n",
      "Estimand expression:\n",
      "         d                                                                    \n",
      "───────────────────(Expectation(Response|Monthly_Premium_Auto,Number_of_Open_C\n",
      "d[EmploymentStatus]                                                           \n",
      "\n",
      "                              \n",
      "omplaints,Total_Claim_Amount))\n",
      "                              \n",
      "Estimand assumption 1, Unconfoundedness: If U→{EmploymentStatus} and U→Response then P(Response|EmploymentStatus,Monthly_Premium_Auto,Number_of_Open_Complaints,Total_Claim_Amount,U) = P(Response|EmploymentStatus,Monthly_Premium_Auto,Number_of_Open_Complaints,Total_Claim_Amount)\n",
      "\n",
      "### Estimand : 37\n",
      "Estimand name: backdoor37\n",
      "Estimand expression:\n",
      "         d                                                                    \n",
      "───────────────────(Expectation(Response|Monthly_Premium_Auto,Number_of_Open_C\n",
      "d[EmploymentStatus]                                                           \n",
      "\n",
      "                    \n",
      "omplaints,Coverage))\n",
      "                    \n",
      "Estimand assumption 1, Unconfoundedness: If U→{EmploymentStatus} and U→Response then P(Response|EmploymentStatus,Monthly_Premium_Auto,Number_of_Open_Complaints,Coverage,U) = P(Response|EmploymentStatus,Monthly_Premium_Auto,Number_of_Open_Complaints,Coverage)\n",
      "\n",
      "### Estimand : 38\n",
      "Estimand name: backdoor38\n",
      "Estimand expression:\n",
      "         d                                                                    \n",
      "───────────────────(Expectation(Response|Monthly_Premium_Auto,Total_Claim_Amou\n",
      "d[EmploymentStatus]                                                           \n",
      "\n",
      "             \n",
      "nt,Coverage))\n",
      "             \n",
      "Estimand assumption 1, Unconfoundedness: If U→{EmploymentStatus} and U→Response then P(Response|EmploymentStatus,Monthly_Premium_Auto,Total_Claim_Amount,Coverage,U) = P(Response|EmploymentStatus,Monthly_Premium_Auto,Total_Claim_Amount,Coverage)\n",
      "\n",
      "### Estimand : 39\n",
      "Estimand name: backdoor39\n",
      "Estimand expression:\n",
      "         d                                                                    \n",
      "───────────────────(Expectation(Response|Gender,Number_of_Open_Complaints,Tota\n",
      "d[EmploymentStatus]                                                           \n",
      "\n",
      "                \n",
      "l_Claim_Amount))\n",
      "                \n",
      "Estimand assumption 1, Unconfoundedness: If U→{EmploymentStatus} and U→Response then P(Response|EmploymentStatus,Gender,Number_of_Open_Complaints,Total_Claim_Amount,U) = P(Response|EmploymentStatus,Gender,Number_of_Open_Complaints,Total_Claim_Amount)\n",
      "\n",
      "### Estimand : 40\n",
      "Estimand name: backdoor40\n",
      "Estimand expression:\n",
      "         d                                                                    \n",
      "───────────────────(Expectation(Response|Gender,Number_of_Open_Complaints,Cove\n",
      "d[EmploymentStatus]                                                           \n",
      "\n",
      "      \n",
      "rage))\n",
      "      \n",
      "Estimand assumption 1, Unconfoundedness: If U→{EmploymentStatus} and U→Response then P(Response|EmploymentStatus,Gender,Number_of_Open_Complaints,Coverage,U) = P(Response|EmploymentStatus,Gender,Number_of_Open_Complaints,Coverage)\n",
      "\n",
      "### Estimand : 41\n",
      "Estimand name: backdoor41\n",
      "Estimand expression:\n",
      "         d                                                                   \n",
      "───────────────────(Expectation(Response|Gender,Total_Claim_Amount,Coverage))\n",
      "d[EmploymentStatus]                                                          \n",
      "Estimand assumption 1, Unconfoundedness: If U→{EmploymentStatus} and U→Response then P(Response|EmploymentStatus,Gender,Total_Claim_Amount,Coverage,U) = P(Response|EmploymentStatus,Gender,Total_Claim_Amount,Coverage)\n",
      "\n",
      "### Estimand : 42\n",
      "Estimand name: backdoor42\n",
      "Estimand expression:\n",
      "         d                                                                    \n",
      "───────────────────(Expectation(Response|Number_of_Open_Complaints,Total_Claim\n",
      "d[EmploymentStatus]                                                           \n",
      "\n",
      "                  \n",
      "_Amount,Coverage))\n",
      "                  \n",
      "Estimand assumption 1, Unconfoundedness: If U→{EmploymentStatus} and U→Response then P(Response|EmploymentStatus,Number_of_Open_Complaints,Total_Claim_Amount,Coverage,U) = P(Response|EmploymentStatus,Number_of_Open_Complaints,Total_Claim_Amount,Coverage)\n",
      "\n",
      "### Estimand : 43\n",
      "Estimand name: backdoor43\n",
      "Estimand expression:\n",
      "         d                                                                    \n",
      "───────────────────(Expectation(Response|Number_of_Policies,Monthly_Premium_Au\n",
      "d[EmploymentStatus]                                                           \n",
      "\n",
      "    \n",
      "to))\n",
      "    \n",
      "Estimand assumption 1, Unconfoundedness: If U→{EmploymentStatus} and U→Response then P(Response|EmploymentStatus,Number_of_Policies,Monthly_Premium_Auto,U) = P(Response|EmploymentStatus,Number_of_Policies,Monthly_Premium_Auto)\n",
      "\n",
      "### Estimand : 44\n",
      "Estimand name: backdoor44\n",
      "Estimand expression:\n",
      "         d                                                          \n",
      "───────────────────(Expectation(Response|Number_of_Policies,Gender))\n",
      "d[EmploymentStatus]                                                 \n",
      "Estimand assumption 1, Unconfoundedness: If U→{EmploymentStatus} and U→Response then P(Response|EmploymentStatus,Number_of_Policies,Gender,U) = P(Response|EmploymentStatus,Number_of_Policies,Gender)\n",
      "\n",
      "### Estimand : 45\n",
      "Estimand name: backdoor45\n",
      "Estimand expression:\n",
      "         d                                                                    \n",
      "───────────────────(Expectation(Response|Number_of_Policies,Number_of_Open_Com\n",
      "d[EmploymentStatus]                                                           \n",
      "\n",
      "         \n",
      "plaints))\n",
      "         \n",
      "Estimand assumption 1, Unconfoundedness: If U→{EmploymentStatus} and U→Response then P(Response|EmploymentStatus,Number_of_Policies,Number_of_Open_Complaints,U) = P(Response|EmploymentStatus,Number_of_Policies,Number_of_Open_Complaints)\n",
      "\n",
      "### Estimand : 46\n",
      "Estimand name: backdoor46\n",
      "Estimand expression:\n",
      "         d                                                                    \n",
      "───────────────────(Expectation(Response|Number_of_Policies,Total_Claim_Amount\n",
      "d[EmploymentStatus]                                                           \n",
      "\n",
      "  \n",
      "))\n",
      "  \n",
      "Estimand assumption 1, Unconfoundedness: If U→{EmploymentStatus} and U→Response then P(Response|EmploymentStatus,Number_of_Policies,Total_Claim_Amount,U) = P(Response|EmploymentStatus,Number_of_Policies,Total_Claim_Amount)\n",
      "\n",
      "### Estimand : 47\n",
      "Estimand name: backdoor47\n",
      "Estimand expression:\n",
      "         d                                                            \n",
      "───────────────────(Expectation(Response|Number_of_Policies,Coverage))\n",
      "d[EmploymentStatus]                                                   \n",
      "Estimand assumption 1, Unconfoundedness: If U→{EmploymentStatus} and U→Response then P(Response|EmploymentStatus,Number_of_Policies,Coverage,U) = P(Response|EmploymentStatus,Number_of_Policies,Coverage)\n",
      "\n",
      "### Estimand : 48\n",
      "Estimand name: backdoor48\n",
      "Estimand expression:\n",
      "         d                                                            \n",
      "───────────────────(Expectation(Response|Monthly_Premium_Auto,Gender))\n",
      "d[EmploymentStatus]                                                   \n",
      "Estimand assumption 1, Unconfoundedness: If U→{EmploymentStatus} and U→Response then P(Response|EmploymentStatus,Monthly_Premium_Auto,Gender,U) = P(Response|EmploymentStatus,Monthly_Premium_Auto,Gender)\n",
      "\n",
      "### Estimand : 49\n",
      "Estimand name: backdoor49\n",
      "Estimand expression:\n",
      "         d                                                                    \n",
      "───────────────────(Expectation(Response|Monthly_Premium_Auto,Number_of_Open_C\n",
      "d[EmploymentStatus]                                                           \n",
      "\n",
      "           \n",
      "omplaints))\n",
      "           \n",
      "Estimand assumption 1, Unconfoundedness: If U→{EmploymentStatus} and U→Response then P(Response|EmploymentStatus,Monthly_Premium_Auto,Number_of_Open_Complaints,U) = P(Response|EmploymentStatus,Monthly_Premium_Auto,Number_of_Open_Complaints)\n",
      "\n",
      "### Estimand : 50\n",
      "Estimand name: backdoor50\n",
      "Estimand expression:\n",
      "         d                                                                    \n",
      "───────────────────(Expectation(Response|Monthly_Premium_Auto,Total_Claim_Amou\n",
      "d[EmploymentStatus]                                                           \n",
      "\n",
      "    \n",
      "nt))\n",
      "    \n",
      "Estimand assumption 1, Unconfoundedness: If U→{EmploymentStatus} and U→Response then P(Response|EmploymentStatus,Monthly_Premium_Auto,Total_Claim_Amount,U) = P(Response|EmploymentStatus,Monthly_Premium_Auto,Total_Claim_Amount)\n",
      "\n",
      "### Estimand : 51\n",
      "Estimand name: backdoor51\n",
      "Estimand expression:\n",
      "         d                                                              \n",
      "───────────────────(Expectation(Response|Monthly_Premium_Auto,Coverage))\n",
      "d[EmploymentStatus]                                                     \n",
      "Estimand assumption 1, Unconfoundedness: If U→{EmploymentStatus} and U→Response then P(Response|EmploymentStatus,Monthly_Premium_Auto,Coverage,U) = P(Response|EmploymentStatus,Monthly_Premium_Auto,Coverage)\n",
      "\n",
      "### Estimand : 52\n",
      "Estimand name: backdoor52\n",
      "Estimand expression:\n",
      "         d                                                                 \n",
      "───────────────────(Expectation(Response|Gender,Number_of_Open_Complaints))\n",
      "d[EmploymentStatus]                                                        \n",
      "Estimand assumption 1, Unconfoundedness: If U→{EmploymentStatus} and U→Response then P(Response|EmploymentStatus,Gender,Number_of_Open_Complaints,U) = P(Response|EmploymentStatus,Gender,Number_of_Open_Complaints)\n",
      "\n",
      "### Estimand : 53\n",
      "Estimand name: backdoor53\n",
      "Estimand expression:\n",
      "         d                                                          \n",
      "───────────────────(Expectation(Response|Gender,Total_Claim_Amount))\n",
      "d[EmploymentStatus]                                                 \n",
      "Estimand assumption 1, Unconfoundedness: If U→{EmploymentStatus} and U→Response then P(Response|EmploymentStatus,Gender,Total_Claim_Amount,U) = P(Response|EmploymentStatus,Gender,Total_Claim_Amount)\n",
      "\n",
      "### Estimand : 54\n",
      "Estimand name: backdoor54\n",
      "Estimand expression:\n",
      "         d                                                \n",
      "───────────────────(Expectation(Response|Gender,Coverage))\n",
      "d[EmploymentStatus]                                       \n",
      "Estimand assumption 1, Unconfoundedness: If U→{EmploymentStatus} and U→Response then P(Response|EmploymentStatus,Gender,Coverage,U) = P(Response|EmploymentStatus,Gender,Coverage)\n",
      "\n",
      "### Estimand : 55\n",
      "Estimand name: backdoor55\n",
      "Estimand expression:\n",
      "         d                                                                    \n",
      "───────────────────(Expectation(Response|Number_of_Open_Complaints,Total_Claim\n",
      "d[EmploymentStatus]                                                           \n",
      "\n",
      "         \n",
      "_Amount))\n",
      "         \n",
      "Estimand assumption 1, Unconfoundedness: If U→{EmploymentStatus} and U→Response then P(Response|EmploymentStatus,Number_of_Open_Complaints,Total_Claim_Amount,U) = P(Response|EmploymentStatus,Number_of_Open_Complaints,Total_Claim_Amount)\n",
      "\n",
      "### Estimand : 56\n",
      "Estimand name: backdoor56\n",
      "Estimand expression:\n",
      "         d                                                                   \n",
      "───────────────────(Expectation(Response|Number_of_Open_Complaints,Coverage))\n",
      "d[EmploymentStatus]                                                          \n",
      "Estimand assumption 1, Unconfoundedness: If U→{EmploymentStatus} and U→Response then P(Response|EmploymentStatus,Number_of_Open_Complaints,Coverage,U) = P(Response|EmploymentStatus,Number_of_Open_Complaints,Coverage)\n",
      "\n",
      "### Estimand : 57\n",
      "Estimand name: backdoor57\n",
      "Estimand expression:\n",
      "         d                                                            \n",
      "───────────────────(Expectation(Response|Total_Claim_Amount,Coverage))\n",
      "d[EmploymentStatus]                                                   \n",
      "Estimand assumption 1, Unconfoundedness: If U→{EmploymentStatus} and U→Response then P(Response|EmploymentStatus,Total_Claim_Amount,Coverage,U) = P(Response|EmploymentStatus,Total_Claim_Amount,Coverage)\n",
      "\n",
      "### Estimand : 58\n",
      "Estimand name: backdoor58\n",
      "Estimand expression:\n",
      "         d                                                   \n",
      "───────────────────(Expectation(Response|Number_of_Policies))\n",
      "d[EmploymentStatus]                                          \n",
      "Estimand assumption 1, Unconfoundedness: If U→{EmploymentStatus} and U→Response then P(Response|EmploymentStatus,Number_of_Policies,U) = P(Response|EmploymentStatus,Number_of_Policies)\n",
      "\n",
      "### Estimand : 59\n",
      "Estimand name: backdoor59\n",
      "Estimand expression:\n",
      "         d                                                     \n",
      "───────────────────(Expectation(Response|Monthly_Premium_Auto))\n",
      "d[EmploymentStatus]                                            \n",
      "Estimand assumption 1, Unconfoundedness: If U→{EmploymentStatus} and U→Response then P(Response|EmploymentStatus,Monthly_Premium_Auto,U) = P(Response|EmploymentStatus,Monthly_Premium_Auto)\n",
      "\n",
      "### Estimand : 60\n",
      "Estimand name: backdoor60\n",
      "Estimand expression:\n",
      "         d                                       \n",
      "───────────────────(Expectation(Response|Gender))\n",
      "d[EmploymentStatus]                              \n",
      "Estimand assumption 1, Unconfoundedness: If U→{EmploymentStatus} and U→Response then P(Response|EmploymentStatus,Gender,U) = P(Response|EmploymentStatus,Gender)\n",
      "\n",
      "### Estimand : 61\n",
      "Estimand name: backdoor61\n",
      "Estimand expression:\n",
      "         d                                                          \n",
      "───────────────────(Expectation(Response|Number_of_Open_Complaints))\n",
      "d[EmploymentStatus]                                                 \n",
      "Estimand assumption 1, Unconfoundedness: If U→{EmploymentStatus} and U→Response then P(Response|EmploymentStatus,Number_of_Open_Complaints,U) = P(Response|EmploymentStatus,Number_of_Open_Complaints)\n",
      "\n",
      "### Estimand : 62\n",
      "Estimand name: backdoor62\n",
      "Estimand expression:\n",
      "         d                                                   \n",
      "───────────────────(Expectation(Response|Total_Claim_Amount))\n",
      "d[EmploymentStatus]                                          \n",
      "Estimand assumption 1, Unconfoundedness: If U→{EmploymentStatus} and U→Response then P(Response|EmploymentStatus,Total_Claim_Amount,U) = P(Response|EmploymentStatus,Total_Claim_Amount)\n",
      "\n",
      "### Estimand : 63\n",
      "Estimand name: backdoor63\n",
      "Estimand expression:\n",
      "         d                                         \n",
      "───────────────────(Expectation(Response|Coverage))\n",
      "d[EmploymentStatus]                                \n",
      "Estimand assumption 1, Unconfoundedness: If U→{EmploymentStatus} and U→Response then P(Response|EmploymentStatus,Coverage,U) = P(Response|EmploymentStatus,Coverage)\n",
      "\n",
      "### Estimand : 64\n",
      "Estimand name: backdoor64\n",
      "Estimand expression:\n",
      "         d                                \n",
      "───────────────────(Expectation(Response))\n",
      "d[EmploymentStatus]                       \n",
      "Estimand assumption 1, Unconfoundedness: If U→{EmploymentStatus} and U→Response then P(Response|EmploymentStatus,,U) = P(Response|EmploymentStatus,)\n",
      "\n",
      "### Estimand : 65\n",
      "Estimand name: iv\n",
      "No such variable found!\n",
      "\n",
      "### Estimand : 66\n",
      "Estimand name: frontdoor\n",
      "No such variable found!\n",
      "\n"
     ]
    }
   ],
   "source": [
    "identified_estimand4 = model4.identify_effect(proceed_when_unidentifiable=True)\n",
    "print(identified_estimand4)"
   ]
  },
  {
   "cell_type": "code",
   "execution_count": 90,
   "metadata": {
    "scrolled": true
   },
   "outputs": [
    {
     "name": "stderr",
     "output_type": "stream",
     "text": [
      "INFO:dowhy.causal_estimator:b: Response~Renew Offer Type+Monthly Premium Auto+Income+EmploymentStatus+Gender+Vehicle Size+Number of Open Complaints+Total Claim Amount+Coverage+Number of Policies\n",
      "INFO:dowhy.causal_estimator:INFO: Using Linear Regression Estimator\n"
     ]
    },
    {
     "name": "stdout",
     "output_type": "stream",
     "text": [
      "*** Causal Estimate ***\n",
      "\n",
      "## Identified estimand\n",
      "Estimand type: nonparametric-ate\n",
      "\n",
      "## Realized estimand\n",
      "b: Response~Renew Offer Type+Monthly Premium Auto+Income+EmploymentStatus+Gender+Vehicle Size+Number of Open Complaints+Total Claim Amount+Coverage+Number of Policies\n",
      "Target units: ate\n",
      "\n",
      "## Estimate\n",
      "Mean value: 0.30227239707480014\n",
      "p-value: [2.05802192e-185]\n",
      "\n",
      "Causal Estimate is 0.30227239707480014\n"
     ]
    }
   ],
   "source": [
    "causal_estimate4 = model4.estimate_effect(identified_estimand3,\n",
    "        method_name=\"backdoor.linear_regression\",test_significance=True)\n",
    "print(causal_estimate4)\n",
    "print(\"Causal Estimate is \" + str(causal_estimate4.value))"
   ]
  },
  {
   "cell_type": "markdown",
   "metadata": {},
   "source": [
    "From our result we could inder that if a customer is retired, the odds of them saying yes to a renewal offer goes up by 30%. However, the p-value of more than 0.001 i.e. 0.302 tells us that there is no causal relationship between the treatment and the outcome."
   ]
  },
  {
   "cell_type": "markdown",
   "metadata": {},
   "source": [
    "### Outcome = CLV"
   ]
  },
  {
   "cell_type": "code",
   "execution_count": 91,
   "metadata": {},
   "outputs": [
    {
     "name": "stderr",
     "output_type": "stream",
     "text": [
      "WARNING:dowhy.causal_model:Causal Graph not provided. DoWhy will construct a graph based on data inputs.\n",
      "INFO:dowhy.causal_graph:If this is observed data (not from a randomized experiment), there might always be missing confounders. Adding a node named \"Unobserved Confounders\" to reflect this.\n",
      "INFO:dowhy.causal_model:Model to find the causal effect of treatment ['EmploymentStatus'] on outcome ['Customer Lifetime Value']\n"
     ]
    }
   ],
   "source": [
    "model41= CausalModel(\n",
    "        data=clv_clean,\n",
    "        treatment='EmploymentStatus',\n",
    "        outcome=\"Customer Lifetime Value\",\n",
    "        common_causes=['Renew Offer Type','Monthly Premium Auto','Number of Open Complaints','Total Claim Amount','Coverage','EmploymentStatus',\n",
    "                      'Gender','Vehicle Size','Number of Policies', 'Income'])\n",
    "model41.view_model()"
   ]
  },
  {
   "cell_type": "code",
   "execution_count": 92,
   "metadata": {},
   "outputs": [
    {
     "name": "stderr",
     "output_type": "stream",
     "text": [
      "WARNING:dowhy.causal_identifier:If this is observed data (not from a randomized experiment), there might always be missing confounders. Causal effect cannot be identified perfectly.\n",
      "INFO:dowhy.causal_identifier:Continuing by ignoring these unobserved confounders because proceed_when_unidentifiable flag is True.\n",
      "INFO:dowhy.causal_identifier:Instrumental variables for treatment and outcome:[]\n",
      "INFO:dowhy.causal_identifier:Frontdoor variables for treatment and outcome:[]\n"
     ]
    },
    {
     "name": "stdout",
     "output_type": "stream",
     "text": [
      "Estimand type: nonparametric-ate\n",
      "\n",
      "### Estimand : 1\n",
      "Estimand name: backdoor1 (Default)\n",
      "Estimand expression:\n",
      "         d                                                                    \n",
      "───────────────────(Expectation(Response|Monthly Premium Auto,Income,Employmen\n",
      "d[Renew Offer Type]                                                           \n",
      "\n",
      "                                                                              \n",
      "tStatus,Gender,Vehicle Size,Number of Open Complaints,Total Claim Amount,Cover\n",
      "                                                                              \n",
      "\n",
      "                        \n",
      "age,Number of Policies))\n",
      "                        \n",
      "Estimand assumption 1, Unconfoundedness: If U→{Renew Offer Type} and U→Response then P(Response|Renew Offer Type,Monthly Premium Auto,Income,EmploymentStatus,Gender,Vehicle Size,Number of Open Complaints,Total Claim Amount,Coverage,Number of Policies,U) = P(Response|Renew Offer Type,Monthly Premium Auto,Income,EmploymentStatus,Gender,Vehicle Size,Number of Open Complaints,Total Claim Amount,Coverage,Number of Policies)\n",
      "\n",
      "### Estimand : 2\n",
      "Estimand name: iv\n",
      "No such variable found!\n",
      "\n",
      "### Estimand : 3\n",
      "Estimand name: frontdoor\n",
      "No such variable found!\n",
      "\n"
     ]
    }
   ],
   "source": [
    "identified_estimand41 = model41.identify_effect(proceed_when_unidentifiable=True)\n",
    "print(identified_estimand3)"
   ]
  },
  {
   "cell_type": "code",
   "execution_count": 94,
   "metadata": {},
   "outputs": [
    {
     "name": "stderr",
     "output_type": "stream",
     "text": [
      "INFO:dowhy.causal_estimator:b: Customer Lifetime Value~EmploymentStatus+Monthly Premium Auto+Income+Gender+Vehicle Size+Number of Open Complaints+Renew Offer Type+Total Claim Amount+Coverage+Number of Policies\n",
      "INFO:dowhy.causal_estimator:INFO: Using Linear Regression Estimator\n"
     ]
    },
    {
     "name": "stdout",
     "output_type": "stream",
     "text": [
      "*** Causal Estimate ***\n",
      "\n",
      "## Identified estimand\n",
      "Estimand type: nonparametric-ate\n",
      "\n",
      "## Realized estimand\n",
      "b: Customer Lifetime Value~EmploymentStatus+Monthly Premium Auto+Income+Gender+Vehicle Size+Number of Open Complaints+Renew Offer Type+Total Claim Amount+Coverage+Number of Policies\n",
      "Target units: ate\n",
      "\n",
      "## Estimate\n",
      "Mean value: -231.5672853316355\n",
      "p-value: [0.54563766]\n",
      "\n",
      "Causal Estimate is -231.5672853316355\n"
     ]
    }
   ],
   "source": [
    "causal_estimate41 = model41.estimate_effect(identified_estimand41,\n",
    "        method_name=\"backdoor.linear_regression\",test_significance=True)\n",
    "print(causal_estimate41)\n",
    "print(\"Causal Estimate is \" + str(causal_estimate41.value))"
   ]
  },
  {
   "cell_type": "markdown",
   "metadata": {},
   "source": [
    "The p-value of more than 0.001 i.e. 0.5456 tells us that there is no causal relaationship between the treatment and the outcome.\n",
    "\n"
   ]
  },
  {
   "cell_type": "markdown",
   "metadata": {},
   "source": [
    "## Renewed most popular offer (offer 2)"
   ]
  },
  {
   "cell_type": "code",
   "execution_count": 58,
   "metadata": {},
   "outputs": [],
   "source": [
    "clv_clean['Renew Offer Type'] = clv_clean['Renew Offer Type'].apply(lambda x: 1 if x=='Offer2' else 0)\n",
    "clv_clean['Renew Offer Type'] = clv_clean['Renew Offer Type'].apply(bool)"
   ]
  },
  {
   "cell_type": "markdown",
   "metadata": {},
   "source": [
    "### Outcome = Response "
   ]
  },
  {
   "cell_type": "code",
   "execution_count": 80,
   "metadata": {},
   "outputs": [
    {
     "name": "stderr",
     "output_type": "stream",
     "text": [
      "WARNING:dowhy.causal_model:Causal Graph not provided. DoWhy will construct a graph based on data inputs.\n",
      "INFO:dowhy.causal_graph:If this is observed data (not from a randomized experiment), there might always be missing confounders. Adding a node named \"Unobserved Confounders\" to reflect this.\n",
      "INFO:dowhy.causal_model:Model to find the causal effect of treatment ['Renew Offer Type'] on outcome ['Response']\n"
     ]
    }
   ],
   "source": [
    "model3= CausalModel(\n",
    "        data=clv_clean,\n",
    "        treatment='Renew Offer Type',\n",
    "        outcome=\"Response\",\n",
    "        common_causes=['Renew Offer Type','Monthly Premium Auto','Number of Open Complaints','Total Claim Amount','Coverage','EmploymentStatus',\n",
    "                      'Gender','Vehicle Size','Number of Policies', 'Income'])\n",
    "model3.view_model()"
   ]
  },
  {
   "cell_type": "code",
   "execution_count": 81,
   "metadata": {},
   "outputs": [
    {
     "name": "stderr",
     "output_type": "stream",
     "text": [
      "WARNING:dowhy.causal_identifier:If this is observed data (not from a randomized experiment), there might always be missing confounders. Causal effect cannot be identified perfectly.\n",
      "INFO:dowhy.causal_identifier:Continuing by ignoring these unobserved confounders because proceed_when_unidentifiable flag is True.\n",
      "INFO:dowhy.causal_identifier:Instrumental variables for treatment and outcome:[]\n",
      "INFO:dowhy.causal_identifier:Frontdoor variables for treatment and outcome:[]\n"
     ]
    },
    {
     "name": "stdout",
     "output_type": "stream",
     "text": [
      "Estimand type: nonparametric-ate\n",
      "\n",
      "### Estimand : 1\n",
      "Estimand name: backdoor1 (Default)\n",
      "Estimand expression:\n",
      "         d                                                                    \n",
      "───────────────────(Expectation(Response|Monthly Premium Auto,Income,Employmen\n",
      "d[Renew Offer Type]                                                           \n",
      "\n",
      "                                                                              \n",
      "tStatus,Gender,Vehicle Size,Number of Open Complaints,Total Claim Amount,Cover\n",
      "                                                                              \n",
      "\n",
      "                        \n",
      "age,Number of Policies))\n",
      "                        \n",
      "Estimand assumption 1, Unconfoundedness: If U→{Renew Offer Type} and U→Response then P(Response|Renew Offer Type,Monthly Premium Auto,Income,EmploymentStatus,Gender,Vehicle Size,Number of Open Complaints,Total Claim Amount,Coverage,Number of Policies,U) = P(Response|Renew Offer Type,Monthly Premium Auto,Income,EmploymentStatus,Gender,Vehicle Size,Number of Open Complaints,Total Claim Amount,Coverage,Number of Policies)\n",
      "\n",
      "### Estimand : 2\n",
      "Estimand name: iv\n",
      "No such variable found!\n",
      "\n",
      "### Estimand : 3\n",
      "Estimand name: frontdoor\n",
      "No such variable found!\n",
      "\n"
     ]
    }
   ],
   "source": [
    "identified_estimand3 = model3.identify_effect(proceed_when_unidentifiable=True)\n",
    "print(identified_estimand3)"
   ]
  },
  {
   "cell_type": "code",
   "execution_count": 82,
   "metadata": {
    "scrolled": true
   },
   "outputs": [
    {
     "name": "stderr",
     "output_type": "stream",
     "text": [
      "INFO:dowhy.causal_estimator:b: Response~Renew Offer Type+Monthly Premium Auto+Income+EmploymentStatus+Gender+Vehicle Size+Number of Open Complaints+Total Claim Amount+Coverage+Number of Policies\n",
      "INFO:dowhy.causal_estimator:INFO: Using Linear Regression Estimator\n"
     ]
    },
    {
     "name": "stdout",
     "output_type": "stream",
     "text": [
      "*** Causal Estimate ***\n",
      "\n",
      "## Identified estimand\n",
      "Estimand type: nonparametric-ate\n",
      "\n",
      "## Realized estimand\n",
      "b: Response~Renew Offer Type+Monthly Premium Auto+Income+EmploymentStatus+Gender+Vehicle Size+Number of Open Complaints+Total Claim Amount+Coverage+Number of Policies\n",
      "Target units: ate\n",
      "\n",
      "## Estimate\n",
      "Mean value: 0.13577096960840376\n",
      "p-value: [1.91191812e-72]\n",
      "\n",
      "Causal Estimate is 0.13577096960840376\n"
     ]
    }
   ],
   "source": [
    "causal_estimate3 = model3.estimate_effect(identified_estimand3,\n",
    "        method_name=\"backdoor.linear_regression\",test_significance=True)\n",
    "print(causal_estimate3)\n",
    "print(\"Causal Estimate is \" + str(causal_estimate3.value))"
   ]
  },
  {
   "cell_type": "markdown",
   "metadata": {},
   "source": [
    "The p-value < 0.001 i.e. 1.91191812e-72 tells us that **there is a causal relaationship** between the treatment and the outcome. If the customer renews the most popular offer (aka offer 2), the odds of them responding yes to the renewal increases by 13.58%. \n",
    "\n"
   ]
  },
  {
   "cell_type": "markdown",
   "metadata": {},
   "source": [
    "### Outcome = CLV"
   ]
  },
  {
   "cell_type": "code",
   "execution_count": 83,
   "metadata": {},
   "outputs": [
    {
     "name": "stderr",
     "output_type": "stream",
     "text": [
      "WARNING:dowhy.causal_model:Causal Graph not provided. DoWhy will construct a graph based on data inputs.\n",
      "INFO:dowhy.causal_graph:If this is observed data (not from a randomized experiment), there might always be missing confounders. Adding a node named \"Unobserved Confounders\" to reflect this.\n",
      "INFO:dowhy.causal_model:Model to find the causal effect of treatment ['Renew Offer Type'] on outcome ['Customer Lifetime Value']\n"
     ]
    }
   ],
   "source": [
    "model31= CausalModel(\n",
    "        data=clv_clean,\n",
    "        treatment='Renew Offer Type',\n",
    "        outcome=\"Customer Lifetime Value\",\n",
    "        common_causes=['Renew Offer Type','Monthly Premium Auto','Number of Open Complaints','Total Claim Amount','Coverage','EmploymentStatus',\n",
    "                      'Gender','Vehicle Size','Number of Policies', 'Income'])\n",
    "model31.view_model()"
   ]
  },
  {
   "cell_type": "code",
   "execution_count": 84,
   "metadata": {},
   "outputs": [
    {
     "name": "stderr",
     "output_type": "stream",
     "text": [
      "WARNING:dowhy.causal_identifier:If this is observed data (not from a randomized experiment), there might always be missing confounders. Causal effect cannot be identified perfectly.\n",
      "INFO:dowhy.causal_identifier:Continuing by ignoring these unobserved confounders because proceed_when_unidentifiable flag is True.\n",
      "INFO:dowhy.causal_identifier:Instrumental variables for treatment and outcome:[]\n",
      "INFO:dowhy.causal_identifier:Frontdoor variables for treatment and outcome:[]\n"
     ]
    },
    {
     "name": "stdout",
     "output_type": "stream",
     "text": [
      "Estimand type: nonparametric-ate\n",
      "\n",
      "### Estimand : 1\n",
      "Estimand name: backdoor1 (Default)\n",
      "Estimand expression:\n",
      "         d                                                                    \n",
      "───────────────────(Expectation(Customer Lifetime Value|Monthly Premium Auto,I\n",
      "d[Renew Offer Type]                                                           \n",
      "\n",
      "                                                                              \n",
      "ncome,EmploymentStatus,Gender,Vehicle Size,Number of Open Complaints,Total Cla\n",
      "                                                                              \n",
      "\n",
      "                                       \n",
      "im Amount,Coverage,Number of Policies))\n",
      "                                       \n",
      "Estimand assumption 1, Unconfoundedness: If U→{Renew Offer Type} and U→Customer Lifetime Value then P(Customer Lifetime Value|Renew Offer Type,Monthly Premium Auto,Income,EmploymentStatus,Gender,Vehicle Size,Number of Open Complaints,Total Claim Amount,Coverage,Number of Policies,U) = P(Customer Lifetime Value|Renew Offer Type,Monthly Premium Auto,Income,EmploymentStatus,Gender,Vehicle Size,Number of Open Complaints,Total Claim Amount,Coverage,Number of Policies)\n",
      "\n",
      "### Estimand : 2\n",
      "Estimand name: iv\n",
      "No such variable found!\n",
      "\n",
      "### Estimand : 3\n",
      "Estimand name: frontdoor\n",
      "No such variable found!\n",
      "\n"
     ]
    }
   ],
   "source": [
    "identified_estimand31 = model31.identify_effect(proceed_when_unidentifiable=True)\n",
    "print(identified_estimand31)"
   ]
  },
  {
   "cell_type": "code",
   "execution_count": 86,
   "metadata": {
    "scrolled": true
   },
   "outputs": [
    {
     "name": "stderr",
     "output_type": "stream",
     "text": [
      "INFO:dowhy.causal_estimator:b: Customer Lifetime Value~Renew Offer Type+Monthly Premium Auto+Income+EmploymentStatus+Gender+Vehicle Size+Number of Open Complaints+Total Claim Amount+Coverage+Number of Policies\n",
      "INFO:dowhy.causal_estimator:INFO: Using Linear Regression Estimator\n"
     ]
    },
    {
     "name": "stdout",
     "output_type": "stream",
     "text": [
      "*** Causal Estimate ***\n",
      "\n",
      "## Identified estimand\n",
      "Estimand type: nonparametric-ate\n",
      "\n",
      "## Realized estimand\n",
      "b: Customer Lifetime Value~Renew Offer Type+Monthly Premium Auto+Income+EmploymentStatus+Gender+Vehicle Size+Number of Open Complaints+Total Claim Amount+Coverage+Number of Policies\n",
      "Target units: ate\n",
      "\n",
      "## Estimate\n",
      "Mean value: -600.8904175778762\n",
      "p-value: [2.79475762e-05]\n",
      "\n",
      "Causal Estimate is -600.8904175778762\n"
     ]
    }
   ],
   "source": [
    "causal_estimate31 = model31.estimate_effect(identified_estimand31,\n",
    "        method_name=\"backdoor.linear_regression\",test_significance=True)\n",
    "print(causal_estimate31)\n",
    "print(\"Causal Estimate is \" + str(causal_estimate31.value))"
   ]
  },
  {
   "cell_type": "markdown",
   "metadata": {},
   "source": [
    "The p-value < 0.001 i.e. 2.79475762e-05 tells us that **there is a causal relationship** between the treatment and the outcome. If the customer renews the most popular offer (aka offer 2), the CLV is more likely to decrease on average by $600.\n",
    "\n"
   ]
  },
  {
   "cell_type": "markdown",
   "metadata": {},
   "source": [
    "## Coverage (Premium or not)"
   ]
  },
  {
   "cell_type": "code",
   "execution_count": 59,
   "metadata": {},
   "outputs": [],
   "source": [
    "clv_clean['Coverage'] = clv_clean['Coverage'].apply(lambda x: 1 if x=='Premium' else 0)\n",
    "clv_clean['Coverage'] = clv_clean['Coverage'].apply(bool)"
   ]
  },
  {
   "cell_type": "markdown",
   "metadata": {},
   "source": [
    "### Outcome = Response"
   ]
  },
  {
   "cell_type": "code",
   "execution_count": 71,
   "metadata": {},
   "outputs": [
    {
     "name": "stderr",
     "output_type": "stream",
     "text": [
      "WARNING:dowhy.causal_model:Causal Graph not provided. DoWhy will construct a graph based on data inputs.\n",
      "INFO:dowhy.causal_graph:If this is observed data (not from a randomized experiment), there might always be missing confounders. Adding a node named \"Unobserved Confounders\" to reflect this.\n",
      "INFO:dowhy.causal_model:Model to find the causal effect of treatment ['Coverage'] on outcome ['Response']\n"
     ]
    }
   ],
   "source": [
    "model11= CausalModel(\n",
    "        data=clv_clean,\n",
    "        treatment='Coverage',\n",
    "        outcome=\"Response\",\n",
    "        common_causes=['Renew Offer Type','Monthly Premium Auto','Number of Open Complaints','Total Claim Amount','Coverage','EmploymentStatus',\n",
    "                      'Gender','Vehicle Size','Number of Policies', 'Income'])\n",
    "model11.view_model()"
   ]
  },
  {
   "cell_type": "code",
   "execution_count": 72,
   "metadata": {},
   "outputs": [
    {
     "name": "stderr",
     "output_type": "stream",
     "text": [
      "WARNING:dowhy.causal_identifier:If this is observed data (not from a randomized experiment), there might always be missing confounders. Causal effect cannot be identified perfectly.\n",
      "INFO:dowhy.causal_identifier:Continuing by ignoring these unobserved confounders because proceed_when_unidentifiable flag is True.\n",
      "INFO:dowhy.causal_identifier:Instrumental variables for treatment and outcome:[]\n",
      "INFO:dowhy.causal_identifier:Frontdoor variables for treatment and outcome:[]\n"
     ]
    },
    {
     "name": "stdout",
     "output_type": "stream",
     "text": [
      "Estimand type: nonparametric-ate\n",
      "\n",
      "### Estimand : 1\n",
      "Estimand name: backdoor1 (Default)\n",
      "Estimand expression:\n",
      "     d                                                                        \n",
      "───────────(Expectation(Response|Monthly Premium Auto,Income,EmploymentStatus,\n",
      "d[Coverage]                                                                   \n",
      "\n",
      "                                                                              \n",
      "Gender,Vehicle Size,Number of Open Complaints,Renew Offer Type,Total Claim Amo\n",
      "                                                                              \n",
      "\n",
      "                        \n",
      "unt,Number of Policies))\n",
      "                        \n",
      "Estimand assumption 1, Unconfoundedness: If U→{Coverage} and U→Response then P(Response|Coverage,Monthly Premium Auto,Income,EmploymentStatus,Gender,Vehicle Size,Number of Open Complaints,Renew Offer Type,Total Claim Amount,Number of Policies,U) = P(Response|Coverage,Monthly Premium Auto,Income,EmploymentStatus,Gender,Vehicle Size,Number of Open Complaints,Renew Offer Type,Total Claim Amount,Number of Policies)\n",
      "\n",
      "### Estimand : 2\n",
      "Estimand name: iv\n",
      "No such variable found!\n",
      "\n",
      "### Estimand : 3\n",
      "Estimand name: frontdoor\n",
      "No such variable found!\n",
      "\n"
     ]
    }
   ],
   "source": [
    "identified_estimand11 = model11.identify_effect(proceed_when_unidentifiable=True)\n",
    "print(identified_estimand11)"
   ]
  },
  {
   "cell_type": "code",
   "execution_count": 73,
   "metadata": {},
   "outputs": [
    {
     "name": "stderr",
     "output_type": "stream",
     "text": [
      "INFO:dowhy.causal_estimator:b: Response~Coverage+Monthly Premium Auto+Income+EmploymentStatus+Gender+Vehicle Size+Number of Open Complaints+Renew Offer Type+Total Claim Amount+Number of Policies\n",
      "INFO:dowhy.causal_estimator:INFO: Using Linear Regression Estimator\n"
     ]
    },
    {
     "name": "stdout",
     "output_type": "stream",
     "text": [
      "*** Causal Estimate ***\n",
      "\n",
      "## Identified estimand\n",
      "Estimand type: nonparametric-ate\n",
      "\n",
      "## Realized estimand\n",
      "b: Response~Coverage+Monthly Premium Auto+Income+EmploymentStatus+Gender+Vehicle Size+Number of Open Complaints+Renew Offer Type+Total Claim Amount+Number of Policies\n",
      "Target units: ate\n",
      "\n",
      "## Estimate\n",
      "Mean value: 0.011638509408402331\n",
      "p-value: [0.36693648]\n",
      "\n",
      "Causal Estimate is 0.011638509408402331\n"
     ]
    }
   ],
   "source": [
    "causal_estimate11 = model11.estimate_effect(identified_estimand11,\n",
    "        method_name=\"backdoor.linear_regression\",test_significance=True)\n",
    "print(causal_estimate11)\n",
    "print(\"Causal Estimate is \" + str(causal_estimate11.value))"
   ]
  },
  {
   "cell_type": "markdown",
   "metadata": {},
   "source": [
    "### Outcome = CLV"
   ]
  },
  {
   "cell_type": "code",
   "execution_count": 77,
   "metadata": {},
   "outputs": [
    {
     "name": "stderr",
     "output_type": "stream",
     "text": [
      "WARNING:dowhy.causal_model:Causal Graph not provided. DoWhy will construct a graph based on data inputs.\n",
      "INFO:dowhy.causal_graph:If this is observed data (not from a randomized experiment), there might always be missing confounders. Adding a node named \"Unobserved Confounders\" to reflect this.\n",
      "INFO:dowhy.causal_model:Model to find the causal effect of treatment ['Coverage'] on outcome ['Customer Lifetime Value']\n"
     ]
    }
   ],
   "source": [
    "model12= CausalModel(\n",
    "        data=clv_clean,\n",
    "        treatment='Coverage',\n",
    "        outcome=\"Customer Lifetime Value\",\n",
    "        common_causes=['Renew Offer Type','Monthly Premium Auto','Number of Open Complaints','Total Claim Amount','Coverage','EmploymentStatus',\n",
    "                      'Gender','Vehicle Size','Number of Policies', 'Income'])\n",
    "model12.view_model()"
   ]
  },
  {
   "cell_type": "code",
   "execution_count": 78,
   "metadata": {},
   "outputs": [
    {
     "name": "stderr",
     "output_type": "stream",
     "text": [
      "WARNING:dowhy.causal_identifier:If this is observed data (not from a randomized experiment), there might always be missing confounders. Causal effect cannot be identified perfectly.\n",
      "INFO:dowhy.causal_identifier:Continuing by ignoring these unobserved confounders because proceed_when_unidentifiable flag is True.\n",
      "INFO:dowhy.causal_identifier:Instrumental variables for treatment and outcome:[]\n",
      "INFO:dowhy.causal_identifier:Frontdoor variables for treatment and outcome:[]\n"
     ]
    },
    {
     "name": "stdout",
     "output_type": "stream",
     "text": [
      "Estimand type: nonparametric-ate\n",
      "\n",
      "### Estimand : 1\n",
      "Estimand name: backdoor1 (Default)\n",
      "Estimand expression:\n",
      "     d                                                                        \n",
      "───────────(Expectation(Customer Lifetime Value|Monthly Premium Auto,Income,Em\n",
      "d[Coverage]                                                                   \n",
      "\n",
      "                                                                              \n",
      "ploymentStatus,Gender,Vehicle Size,Number of Open Complaints,Renew Offer Type,\n",
      "                                                                              \n",
      "\n",
      "                                       \n",
      "Total Claim Amount,Number of Policies))\n",
      "                                       \n",
      "Estimand assumption 1, Unconfoundedness: If U→{Coverage} and U→Customer Lifetime Value then P(Customer Lifetime Value|Coverage,Monthly Premium Auto,Income,EmploymentStatus,Gender,Vehicle Size,Number of Open Complaints,Renew Offer Type,Total Claim Amount,Number of Policies,U) = P(Customer Lifetime Value|Coverage,Monthly Premium Auto,Income,EmploymentStatus,Gender,Vehicle Size,Number of Open Complaints,Renew Offer Type,Total Claim Amount,Number of Policies)\n",
      "\n",
      "### Estimand : 2\n",
      "Estimand name: iv\n",
      "No such variable found!\n",
      "\n",
      "### Estimand : 3\n",
      "Estimand name: frontdoor\n",
      "No such variable found!\n",
      "\n"
     ]
    }
   ],
   "source": [
    "identified_estimand12 = model12.identify_effect(proceed_when_unidentifiable=True)\n",
    "print(identified_estimand12)"
   ]
  },
  {
   "cell_type": "code",
   "execution_count": 79,
   "metadata": {},
   "outputs": [
    {
     "name": "stderr",
     "output_type": "stream",
     "text": [
      "INFO:dowhy.causal_estimator:b: Customer Lifetime Value~Coverage+Monthly Premium Auto+Income+EmploymentStatus+Gender+Vehicle Size+Number of Open Complaints+Renew Offer Type+Total Claim Amount+Number of Policies\n",
      "INFO:dowhy.causal_estimator:INFO: Using Linear Regression Estimator\n"
     ]
    },
    {
     "name": "stdout",
     "output_type": "stream",
     "text": [
      "*** Causal Estimate ***\n",
      "\n",
      "## Identified estimand\n",
      "Estimand type: nonparametric-ate\n",
      "\n",
      "## Realized estimand\n",
      "b: Customer Lifetime Value~Coverage+Monthly Premium Auto+Income+EmploymentStatus+Gender+Vehicle Size+Number of Open Complaints+Renew Offer Type+Total Claim Amount+Number of Policies\n",
      "Target units: ate\n",
      "\n",
      "## Estimate\n",
      "Mean value: -406.5270155918706\n",
      "p-value: [0.1003263]\n",
      "\n",
      "Causal Estimate is -406.5270155918706\n"
     ]
    }
   ],
   "source": [
    "causal_estimate12 = model12.estimate_effect(identified_estimand12,\n",
    "        method_name=\"backdoor.linear_regression\",test_significance=True)\n",
    "print(causal_estimate12)\n",
    "print(\"Causal Estimate is \" + str(causal_estimate12.value))"
   ]
  },
  {
   "cell_type": "markdown",
   "metadata": {},
   "source": [
    "## Income (True if above average)"
   ]
  },
  {
   "cell_type": "code",
   "execution_count": 64,
   "metadata": {},
   "outputs": [],
   "source": [
    "avg_income = clv_clean['Income'].mean()\n",
    "clv_clean['Above_Avg_Income']  = clv_clean['Income'] > avg_income\n",
    "clv_clean['Above_Avg_Income'] = clv_clean['Above_Avg_Income'].apply(bool)\n"
   ]
  },
  {
   "cell_type": "markdown",
   "metadata": {},
   "source": [
    "### Outcome = Response "
   ]
  },
  {
   "cell_type": "code",
   "execution_count": 65,
   "metadata": {},
   "outputs": [
    {
     "name": "stderr",
     "output_type": "stream",
     "text": [
      "WARNING:dowhy.causal_model:Causal Graph not provided. DoWhy will construct a graph based on data inputs.\n",
      "INFO:dowhy.causal_graph:If this is observed data (not from a randomized experiment), there might always be missing confounders. Adding a node named \"Unobserved Confounders\" to reflect this.\n",
      "INFO:dowhy.causal_model:Model to find the causal effect of treatment ['Above_Avg_Income'] on outcome ['Response']\n"
     ]
    }
   ],
   "source": [
    "model2= CausalModel(\n",
    "        data=clv_clean,\n",
    "        treatment='Above_Avg_Income',\n",
    "        outcome=\"Response\",\n",
    "        common_causes=['Renew Offer Type','Monthly Premium Auto','Number of Open Complaints','Total Claim Amount','Coverage','EmploymentStatus',\n",
    "                      'Gender','Vehicle Size','Number of Policies', 'Income'])\n",
    "model2.view_model()"
   ]
  },
  {
   "cell_type": "code",
   "execution_count": 66,
   "metadata": {},
   "outputs": [
    {
     "name": "stderr",
     "output_type": "stream",
     "text": [
      "WARNING:dowhy.causal_identifier:If this is observed data (not from a randomized experiment), there might always be missing confounders. Causal effect cannot be identified perfectly.\n",
      "INFO:dowhy.causal_identifier:Continuing by ignoring these unobserved confounders because proceed_when_unidentifiable flag is True.\n",
      "INFO:dowhy.causal_identifier:Instrumental variables for treatment and outcome:[]\n",
      "INFO:dowhy.causal_identifier:Frontdoor variables for treatment and outcome:[]\n"
     ]
    },
    {
     "name": "stdout",
     "output_type": "stream",
     "text": [
      "Estimand type: nonparametric-ate\n",
      "\n",
      "### Estimand : 1\n",
      "Estimand name: backdoor1 (Default)\n",
      "Estimand expression:\n",
      "         d                                                                    \n",
      "───────────────────(Expectation(Response|Monthly Premium Auto,Income,Employmen\n",
      "d[Above_Avg_Income]                                                           \n",
      "\n",
      "                                                                              \n",
      "tStatus,Gender,Vehicle Size,Number of Open Complaints,Renew Offer Type,Total C\n",
      "                                                                              \n",
      "\n",
      "                                         \n",
      "laim Amount,Coverage,Number of Policies))\n",
      "                                         \n",
      "Estimand assumption 1, Unconfoundedness: If U→{Above_Avg_Income} and U→Response then P(Response|Above_Avg_Income,Monthly Premium Auto,Income,EmploymentStatus,Gender,Vehicle Size,Number of Open Complaints,Renew Offer Type,Total Claim Amount,Coverage,Number of Policies,U) = P(Response|Above_Avg_Income,Monthly Premium Auto,Income,EmploymentStatus,Gender,Vehicle Size,Number of Open Complaints,Renew Offer Type,Total Claim Amount,Coverage,Number of Policies)\n",
      "\n",
      "### Estimand : 2\n",
      "Estimand name: iv\n",
      "No such variable found!\n",
      "\n",
      "### Estimand : 3\n",
      "Estimand name: frontdoor\n",
      "No such variable found!\n",
      "\n"
     ]
    }
   ],
   "source": [
    "identified_estimand2 = model2.identify_effect(proceed_when_unidentifiable=True)\n",
    "print(identified_estimand2)"
   ]
  },
  {
   "cell_type": "code",
   "execution_count": 67,
   "metadata": {},
   "outputs": [
    {
     "name": "stderr",
     "output_type": "stream",
     "text": [
      "INFO:dowhy.causal_estimator:b: Response~Above_Avg_Income+Monthly Premium Auto+Income+EmploymentStatus+Gender+Vehicle Size+Number of Open Complaints+Renew Offer Type+Total Claim Amount+Coverage+Number of Policies\n",
      "INFO:dowhy.causal_estimator:INFO: Using Linear Regression Estimator\n"
     ]
    },
    {
     "name": "stdout",
     "output_type": "stream",
     "text": [
      "*** Causal Estimate ***\n",
      "\n",
      "## Identified estimand\n",
      "Estimand type: nonparametric-ate\n",
      "\n",
      "## Realized estimand\n",
      "b: Response~Above_Avg_Income+Monthly Premium Auto+Income+EmploymentStatus+Gender+Vehicle Size+Number of Open Complaints+Renew Offer Type+Total Claim Amount+Coverage+Number of Policies\n",
      "Target units: ate\n",
      "\n",
      "## Estimate\n",
      "Mean value: -0.008562524931706894\n",
      "p-value: [0.53240536]\n",
      "\n",
      "Causal Estimate is -0.008562524931706894\n"
     ]
    }
   ],
   "source": [
    "causal_estimate2 = model2.estimate_effect(identified_estimand2,\n",
    "        method_name=\"backdoor.linear_regression\",test_significance=True)\n",
    "print(causal_estimate2)\n",
    "print(\"Causal Estimate is \" + str(causal_estimate2.value))"
   ]
  },
  {
   "cell_type": "markdown",
   "metadata": {},
   "source": [
    "### Outcome = CLV "
   ]
  },
  {
   "cell_type": "code",
   "execution_count": 68,
   "metadata": {},
   "outputs": [
    {
     "name": "stderr",
     "output_type": "stream",
     "text": [
      "WARNING:dowhy.causal_model:Causal Graph not provided. DoWhy will construct a graph based on data inputs.\n",
      "INFO:dowhy.causal_graph:If this is observed data (not from a randomized experiment), there might always be missing confounders. Adding a node named \"Unobserved Confounders\" to reflect this.\n",
      "INFO:dowhy.causal_model:Model to find the causal effect of treatment ['Above_Avg_Income'] on outcome ['Customer Lifetime Value']\n"
     ]
    }
   ],
   "source": [
    "model21= CausalModel(\n",
    "        data=clv_clean,\n",
    "        treatment='Above_Avg_Income',\n",
    "        outcome=\"Customer Lifetime Value\",\n",
    "        common_causes=['Renew Offer Type','Monthly Premium Auto','Number of Open Complaints','Total Claim Amount','Coverage','EmploymentStatus',\n",
    "                      'Gender','Vehicle Size','Number of Policies', 'Income'])\n",
    "model21.view_model()"
   ]
  },
  {
   "cell_type": "code",
   "execution_count": 69,
   "metadata": {},
   "outputs": [
    {
     "name": "stderr",
     "output_type": "stream",
     "text": [
      "WARNING:dowhy.causal_identifier:If this is observed data (not from a randomized experiment), there might always be missing confounders. Causal effect cannot be identified perfectly.\n",
      "INFO:dowhy.causal_identifier:Continuing by ignoring these unobserved confounders because proceed_when_unidentifiable flag is True.\n",
      "INFO:dowhy.causal_identifier:Instrumental variables for treatment and outcome:[]\n",
      "INFO:dowhy.causal_identifier:Frontdoor variables for treatment and outcome:[]\n"
     ]
    },
    {
     "name": "stdout",
     "output_type": "stream",
     "text": [
      "Estimand type: nonparametric-ate\n",
      "\n",
      "### Estimand : 1\n",
      "Estimand name: backdoor1 (Default)\n",
      "Estimand expression:\n",
      "         d                                                                    \n",
      "───────────────────(Expectation(Customer Lifetime Value|Monthly Premium Auto,I\n",
      "d[Above_Avg_Income]                                                           \n",
      "\n",
      "                                                                              \n",
      "ncome,EmploymentStatus,Gender,Vehicle Size,Number of Open Complaints,Renew Off\n",
      "                                                                              \n",
      "\n",
      "                                                        \n",
      "er Type,Total Claim Amount,Coverage,Number of Policies))\n",
      "                                                        \n",
      "Estimand assumption 1, Unconfoundedness: If U→{Above_Avg_Income} and U→Customer Lifetime Value then P(Customer Lifetime Value|Above_Avg_Income,Monthly Premium Auto,Income,EmploymentStatus,Gender,Vehicle Size,Number of Open Complaints,Renew Offer Type,Total Claim Amount,Coverage,Number of Policies,U) = P(Customer Lifetime Value|Above_Avg_Income,Monthly Premium Auto,Income,EmploymentStatus,Gender,Vehicle Size,Number of Open Complaints,Renew Offer Type,Total Claim Amount,Coverage,Number of Policies)\n",
      "\n",
      "### Estimand : 2\n",
      "Estimand name: iv\n",
      "No such variable found!\n",
      "\n",
      "### Estimand : 3\n",
      "Estimand name: frontdoor\n",
      "No such variable found!\n",
      "\n"
     ]
    }
   ],
   "source": [
    "identified_estimand21 = model21.identify_effect(proceed_when_unidentifiable=True)\n",
    "print(identified_estimand21)"
   ]
  },
  {
   "cell_type": "code",
   "execution_count": 70,
   "metadata": {
    "scrolled": true
   },
   "outputs": [
    {
     "name": "stderr",
     "output_type": "stream",
     "text": [
      "INFO:dowhy.causal_estimator:b: Customer Lifetime Value~Above_Avg_Income+Monthly Premium Auto+Income+EmploymentStatus+Gender+Vehicle Size+Number of Open Complaints+Renew Offer Type+Total Claim Amount+Coverage+Number of Policies\n",
      "INFO:dowhy.causal_estimator:INFO: Using Linear Regression Estimator\n"
     ]
    },
    {
     "name": "stdout",
     "output_type": "stream",
     "text": [
      "*** Causal Estimate ***\n",
      "\n",
      "## Identified estimand\n",
      "Estimand type: nonparametric-ate\n",
      "\n",
      "## Realized estimand\n",
      "b: Customer Lifetime Value~Above_Avg_Income+Monthly Premium Auto+Income+EmploymentStatus+Gender+Vehicle Size+Number of Open Complaints+Renew Offer Type+Total Claim Amount+Coverage+Number of Policies\n",
      "Target units: ate\n",
      "\n",
      "## Estimate\n",
      "Mean value: -240.84619017280875\n",
      "p-value: [0.35978577]\n",
      "\n",
      "Causal Estimate is -240.84619017280875\n"
     ]
    }
   ],
   "source": [
    "causal_estimate21 = model21.estimate_effect(identified_estimand21,\n",
    "        method_name=\"backdoor.linear_regression\",test_significance=True)\n",
    "print(causal_estimate21)\n",
    "print(\"Causal Estimate is \" + str(causal_estimate21.value))"
   ]
  },
  {
   "cell_type": "code",
   "execution_count": 23,
   "metadata": {},
   "outputs": [],
   "source": [
    "#We might wanna check for gender >>> heterogenous effect "
   ]
  },
  {
   "cell_type": "code",
   "execution_count": null,
   "metadata": {},
   "outputs": [],
   "source": []
  },
  {
   "cell_type": "code",
   "execution_count": null,
   "metadata": {},
   "outputs": [],
   "source": []
  },
  {
   "cell_type": "code",
   "execution_count": null,
   "metadata": {},
   "outputs": [],
   "source": []
  }
 ],
 "metadata": {
  "kernelspec": {
   "display_name": "Python 3",
   "language": "python",
   "name": "python3"
  },
  "language_info": {
   "codemirror_mode": {
    "name": "ipython",
    "version": 3
   },
   "file_extension": ".py",
   "mimetype": "text/x-python",
   "name": "python",
   "nbconvert_exporter": "python",
   "pygments_lexer": "ipython3",
   "version": "3.8.5"
  }
 },
 "nbformat": 4,
 "nbformat_minor": 4
}
